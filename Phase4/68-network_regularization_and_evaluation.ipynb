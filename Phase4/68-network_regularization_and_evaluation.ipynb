{
 "cells": [
  {
   "cell_type": "markdown",
   "metadata": {
    "slideshow": {
     "slide_type": "slide"
    }
   },
   "source": [
    "# Regularization and Evaluation of Neural Networks"
   ]
  },
  {
   "cell_type": "code",
   "execution_count": 1,
   "metadata": {
    "ExecuteTime": {
     "end_time": "2022-05-05T18:03:18.717825Z",
     "start_time": "2022-05-05T18:03:12.916381Z"
    }
   },
   "outputs": [],
   "source": [
    "from sklearn.datasets import load_sample_images\n",
    "from sklearn.datasets import load_digits\n",
    "from sklearn.model_selection import train_test_split, cross_val_score\n",
    "from sklearn.preprocessing import OneHotEncoder\n",
    "from sklearn.metrics import accuracy_score, confusion_matrix\n",
    "import matplotlib.pyplot as plt\n",
    "import matplotlib.image as mpimg\n",
    "import numpy as np\n",
    "import seaborn as sns\n",
    "\n",
    "from tensorflow.keras.models import Sequential\n",
    "from tensorflow.keras.layers import Dense, Dropout\n",
    "from tensorflow.keras.regularizers import l2\n",
    "from tensorflow.keras.optimizers import SGD\n",
    "from tensorflow.keras.wrappers import scikit_learn\n",
    "from tensorflow.keras.callbacks import EarlyStopping\n",
    "\n",
    "import os\n",
    "import sys\n",
    "module_path = os.path.abspath(os.path.join(os.pardir, os.pardir))\n",
    "if module_path not in sys.path:\n",
    "    sys.path.append(module_path)\n",
    "    \n",
    "from src.confusion import plot_confusion_matrix\n",
    "    \n",
    "%load_ext autoreload\n",
    "%autoreload 2"
   ]
  },
  {
   "cell_type": "markdown",
   "metadata": {
    "heading_collapsed": true
   },
   "source": [
    "## Learning Objectives\n",
    "\n",
    "- use `keras` to code up a neural network model;\n",
    "- explain dropout and early stopping as distinctive forms of regularization in neural networks;\n",
    "- use wrappers inside `keras` to make models that can jibe with `sklearn`."
   ]
  },
  {
   "cell_type": "markdown",
   "metadata": {
    "heading_collapsed": true,
    "hidden": true
   },
   "source": [
    "### From last time"
   ]
  },
  {
   "cell_type": "code",
   "execution_count": 2,
   "metadata": {
    "ExecuteTime": {
     "end_time": "2022-05-05T18:05:10.880345Z",
     "start_time": "2022-05-05T18:05:10.555384Z"
    },
    "hidden": true
   },
   "outputs": [],
   "source": [
    "digits = load_digits()\n",
    "X = digits.data\n",
    "y = digits.target\n",
    "\n",
    "y_binary = y % 2"
   ]
  },
  {
   "cell_type": "code",
   "execution_count": 3,
   "metadata": {
    "ExecuteTime": {
     "end_time": "2022-05-05T18:05:28.221301Z",
     "start_time": "2022-05-05T18:05:12.834719Z"
    },
    "hidden": true
   },
   "outputs": [
    {
     "name": "stdout",
     "output_type": "stream",
     "text": [
      "Epoch 1/50\n",
      "180/180 [==============================] - 1s 2ms/step - loss: 0.4442 - accuracy: 0.7947\n",
      "Epoch 2/50\n",
      "180/180 [==============================] - 0s 2ms/step - loss: 0.2312 - accuracy: 0.9009\n",
      "Epoch 3/50\n",
      "180/180 [==============================] - 0s 2ms/step - loss: 0.1687 - accuracy: 0.9299\n",
      "Epoch 4/50\n",
      "180/180 [==============================] - 0s 2ms/step - loss: 0.1380 - accuracy: 0.9466\n",
      "Epoch 5/50\n",
      "180/180 [==============================] - 0s 2ms/step - loss: 0.1148 - accuracy: 0.9494\n",
      "Epoch 6/50\n",
      "180/180 [==============================] - 0s 2ms/step - loss: 0.0996 - accuracy: 0.9610\n",
      "Epoch 7/50\n",
      "180/180 [==============================] - 0s 2ms/step - loss: 0.0886 - accuracy: 0.9655\n",
      "Epoch 8/50\n",
      "180/180 [==============================] - 0s 2ms/step - loss: 0.0774 - accuracy: 0.9666\n",
      "Epoch 9/50\n",
      "180/180 [==============================] - 0s 2ms/step - loss: 0.0700 - accuracy: 0.9727\n",
      "Epoch 10/50\n",
      "180/180 [==============================] - 0s 2ms/step - loss: 0.0609 - accuracy: 0.9750\n",
      "Epoch 11/50\n",
      "180/180 [==============================] - 0s 2ms/step - loss: 0.0562 - accuracy: 0.9783\n",
      "Epoch 12/50\n",
      "180/180 [==============================] - 0s 2ms/step - loss: 0.0480 - accuracy: 0.9805\n",
      "Epoch 13/50\n",
      "180/180 [==============================] - 0s 2ms/step - loss: 0.0447 - accuracy: 0.9822\n",
      "Epoch 14/50\n",
      "180/180 [==============================] - 0s 1ms/step - loss: 0.0399 - accuracy: 0.9855\n",
      "Epoch 15/50\n",
      "180/180 [==============================] - 0s 1ms/step - loss: 0.0360 - accuracy: 0.9872\n",
      "Epoch 16/50\n",
      "180/180 [==============================] - 0s 2ms/step - loss: 0.0355 - accuracy: 0.9866\n",
      "Epoch 17/50\n",
      "180/180 [==============================] - 0s 1ms/step - loss: 0.0290 - accuracy: 0.9889\n",
      "Epoch 18/50\n",
      "180/180 [==============================] - 0s 2ms/step - loss: 0.0290 - accuracy: 0.9911\n",
      "Epoch 19/50\n",
      "180/180 [==============================] - 0s 2ms/step - loss: 0.0258 - accuracy: 0.9894\n",
      "Epoch 20/50\n",
      "180/180 [==============================] - 0s 2ms/step - loss: 0.0236 - accuracy: 0.9917\n",
      "Epoch 21/50\n",
      "180/180 [==============================] - 0s 2ms/step - loss: 0.0199 - accuracy: 0.9939\n",
      "Epoch 22/50\n",
      "180/180 [==============================] - 0s 2ms/step - loss: 0.0205 - accuracy: 0.9922\n",
      "Epoch 23/50\n",
      "180/180 [==============================] - 0s 2ms/step - loss: 0.0169 - accuracy: 0.9961\n",
      "Epoch 24/50\n",
      "180/180 [==============================] - 0s 2ms/step - loss: 0.0161 - accuracy: 0.9950\n",
      "Epoch 25/50\n",
      "180/180 [==============================] - 0s 2ms/step - loss: 0.0132 - accuracy: 0.9944\n",
      "Epoch 26/50\n",
      "180/180 [==============================] - 0s 1ms/step - loss: 0.0139 - accuracy: 0.9944\n",
      "Epoch 27/50\n",
      "180/180 [==============================] - 0s 2ms/step - loss: 0.0126 - accuracy: 0.9967\n",
      "Epoch 28/50\n",
      "180/180 [==============================] - 0s 2ms/step - loss: 0.0122 - accuracy: 0.9961\n",
      "Epoch 29/50\n",
      "180/180 [==============================] - 0s 2ms/step - loss: 0.0095 - accuracy: 0.9961\n",
      "Epoch 30/50\n",
      "180/180 [==============================] - 0s 2ms/step - loss: 0.0105 - accuracy: 0.9972\n",
      "Epoch 31/50\n",
      "180/180 [==============================] - 0s 2ms/step - loss: 0.0086 - accuracy: 0.9967\n",
      "Epoch 32/50\n",
      "180/180 [==============================] - 0s 2ms/step - loss: 0.0084 - accuracy: 0.9967\n",
      "Epoch 33/50\n",
      "180/180 [==============================] - 0s 2ms/step - loss: 0.0074 - accuracy: 0.9961\n",
      "Epoch 34/50\n",
      "180/180 [==============================] - 0s 1ms/step - loss: 0.0063 - accuracy: 0.9978\n",
      "Epoch 35/50\n",
      "180/180 [==============================] - 0s 1ms/step - loss: 0.0069 - accuracy: 0.9978\n",
      "Epoch 36/50\n",
      "180/180 [==============================] - 0s 2ms/step - loss: 0.0055 - accuracy: 0.9978\n",
      "Epoch 37/50\n",
      "180/180 [==============================] - 0s 2ms/step - loss: 0.0053 - accuracy: 0.9983\n",
      "Epoch 38/50\n",
      "180/180 [==============================] - 0s 2ms/step - loss: 0.0044 - accuracy: 0.9983\n",
      "Epoch 39/50\n",
      "180/180 [==============================] - 0s 2ms/step - loss: 0.0049 - accuracy: 0.9972\n",
      "Epoch 40/50\n",
      "180/180 [==============================] - 0s 2ms/step - loss: 0.0049 - accuracy: 0.9983\n",
      "Epoch 41/50\n",
      "180/180 [==============================] - 0s 2ms/step - loss: 0.0029 - accuracy: 0.9989\n",
      "Epoch 42/50\n",
      "180/180 [==============================] - 0s 2ms/step - loss: 0.0038 - accuracy: 0.9983\n",
      "Epoch 43/50\n",
      "180/180 [==============================] - 0s 1ms/step - loss: 0.0031 - accuracy: 0.9983\n",
      "Epoch 44/50\n",
      "180/180 [==============================] - 0s 1ms/step - loss: 0.0020 - accuracy: 0.9994\n",
      "Epoch 45/50\n",
      "180/180 [==============================] - 0s 2ms/step - loss: 0.0025 - accuracy: 0.9994\n",
      "Epoch 46/50\n",
      "180/180 [==============================] - 0s 1ms/step - loss: 0.0022 - accuracy: 0.9994\n",
      "Epoch 47/50\n",
      "180/180 [==============================] - 0s 1ms/step - loss: 0.0016 - accuracy: 1.0000\n",
      "Epoch 48/50\n",
      "180/180 [==============================] - 0s 1ms/step - loss: 0.0021 - accuracy: 0.9994\n",
      "Epoch 49/50\n",
      "180/180 [==============================] - 0s 2ms/step - loss: 0.0013 - accuracy: 0.9989\n",
      "Epoch 50/50\n",
      "180/180 [==============================] - 0s 1ms/step - loss: 0.0011 - accuracy: 0.9994\n"
     ]
    },
    {
     "data": {
      "text/plain": [
       "<tensorflow.python.keras.callbacks.History at 0x285cd872cd0>"
      ]
     },
     "execution_count": 3,
     "metadata": {},
     "output_type": "execute_result"
    }
   ],
   "source": [
    "model = Sequential()\n",
    "model.add(Dense(12, activation='relu', input_dim=64))\n",
    "model.add(Dense(8, activation='relu'))\n",
    "model.add(Dense(1, activation='sigmoid'))\n",
    "\n",
    "model.compile(optimizer='rmsprop',\n",
    "              loss='binary_crossentropy',\n",
    "              metrics=['accuracy'])\n",
    "\n",
    "model.fit(X, y_binary, epochs=50, batch_size=10)"
   ]
  },
  {
   "cell_type": "markdown",
   "metadata": {
    "heading_collapsed": true,
    "hidden": true
   },
   "source": [
    "### Things to know:\n",
    "\n",
    "- The data and labels in `fit()` need to be numpy arrays, not `pandas` dfs.\n",
    "- Scaling your data will have a large impact on your model.\n",
    "   > For our traditional input features, we would use a scaler object. For images, as long as the minimum value is 0, we can simply divide through by the maximum pixel intensity."
   ]
  },
  {
   "cell_type": "markdown",
   "metadata": {
    "heading_collapsed": true,
    "hidden": true
   },
   "source": [
    "#### Getting data ready for modeling\n",
    "**Preprocessing**:\n",
    "\n",
    "- use train_test_split to create X_train, y_train, X_test, and y_test\n",
    "- Split training data into pure_train and validation sets.\n",
    "- Scale the pixel intensity to a value between 0 and 1."
   ]
  },
  {
   "cell_type": "markdown",
   "metadata": {
    "hidden": true
   },
   "source": [
    "Scaling our input variables will help speed up our neural network.\n",
    "\n",
    "Since our minimum intensity is 0, we can normalize the inputs by dividing each value by the max value (16)."
   ]
  },
  {
   "cell_type": "code",
   "execution_count": 4,
   "metadata": {
    "ExecuteTime": {
     "end_time": "2022-05-05T18:11:07.781723Z",
     "start_time": "2022-05-05T18:11:07.548285Z"
    },
    "hidden": true
   },
   "outputs": [],
   "source": [
    "X_train, X_test, y_train, y_test =\\\n",
    "    train_test_split(X, y_binary, random_state=42, test_size=0.2)\n",
    "\n",
    "X_pure_train, X_val, y_pure_train, y_val =\\\n",
    "    train_test_split(X_train, y_train, random_state=42, test_size=0.2)\n",
    "\n",
    "X_pure_train, X_val, X_test = X_pure_train/16, X_val/16, X_test/16"
   ]
  },
  {
   "cell_type": "markdown",
   "metadata": {
    "hidden": true
   },
   "source": [
    "For activation, let's start with the familiar sigmoid function, and see how it performs."
   ]
  },
  {
   "cell_type": "code",
   "execution_count": 5,
   "metadata": {
    "ExecuteTime": {
     "end_time": "2022-05-05T18:11:16.149488Z",
     "start_time": "2022-05-05T18:11:15.091678Z"
    },
    "hidden": true
   },
   "outputs": [
    {
     "name": "stdout",
     "output_type": "stream",
     "text": [
      "Epoch 1/10\n",
      "12/12 [==============================] - 1s 2ms/step - loss: 0.6990 - accuracy: 0.5039\n",
      "Epoch 2/10\n",
      "12/12 [==============================] - 0s 2ms/step - loss: 0.6981 - accuracy: 0.5039\n",
      "Epoch 3/10\n",
      "12/12 [==============================] - 0s 2ms/step - loss: 0.6974 - accuracy: 0.5039\n",
      "Epoch 4/10\n",
      "12/12 [==============================] - 0s 2ms/step - loss: 0.6968 - accuracy: 0.5039\n",
      "Epoch 5/10\n",
      "12/12 [==============================] - 0s 2ms/step - loss: 0.6963 - accuracy: 0.5039\n",
      "Epoch 6/10\n",
      "12/12 [==============================] - 0s 2ms/step - loss: 0.6960 - accuracy: 0.5039\n",
      "Epoch 7/10\n",
      "12/12 [==============================] - 0s 2ms/step - loss: 0.6955 - accuracy: 0.5039\n",
      "Epoch 8/10\n",
      "12/12 [==============================] - 0s 2ms/step - loss: 0.6951 - accuracy: 0.5039\n",
      "Epoch 9/10\n",
      "12/12 [==============================] - 0s 2ms/step - loss: 0.6950 - accuracy: 0.5030\n",
      "Epoch 10/10\n",
      "12/12 [==============================] - 0s 2ms/step - loss: 0.6947 - accuracy: 0.5039\n"
     ]
    }
   ],
   "source": [
    "model = Sequential()\n",
    "# We will start with our trusty sigmoid function.\n",
    "# What does input dimension correspond to?\n",
    "model.add(Dense(12, activation='sigmoid', input_dim=64))\n",
    "model.add(Dense(8, activation='sigmoid'))\n",
    "model.add(Dense(1, activation='sigmoid'))\n",
    "\n",
    "model.compile(optimizer='SGD' ,\n",
    "              # We use binary_crossentropy for a binary loss function\n",
    "              loss='binary_crossentropy',\n",
    "              metrics=['accuracy'])\n",
    "\n",
    "# Assign the variable history to store the results,\n",
    "# and set verbose=1 so we can see the output. To see\n",
    "# only the metrics at the end of each epoch, set verbose=2.\n",
    "results = model.fit(X_pure_train, y_pure_train, epochs=10, batch_size=100, verbose=1)"
   ]
  },
  {
   "cell_type": "markdown",
   "metadata": {
    "hidden": true
   },
   "source": [
    "We can access the history of our model via `results.history`.\n",
    "Use __dict__ to take a tour."
   ]
  },
  {
   "cell_type": "code",
   "execution_count": 6,
   "metadata": {
    "ExecuteTime": {
     "end_time": "2022-05-05T18:11:42.581478Z",
     "start_time": "2022-05-05T18:11:42.356078Z"
    },
    "hidden": true
   },
   "outputs": [
    {
     "data": {
      "text/plain": [
       "{'validation_data': None,\n",
       " 'model': <tensorflow.python.keras.engine.sequential.Sequential at 0x285cdb7da00>,\n",
       " '_chief_worker_only': None,\n",
       " '_supports_tf_logs': False,\n",
       " 'history': {'loss': [0.6990350484848022,\n",
       "   0.6981322169303894,\n",
       "   0.6973633766174316,\n",
       "   0.6968417167663574,\n",
       "   0.6963217258453369,\n",
       "   0.6959518790245056,\n",
       "   0.6955193877220154,\n",
       "   0.695146381855011,\n",
       "   0.6949617266654968,\n",
       "   0.6947392225265503],\n",
       "  'accuracy': [0.5039164423942566,\n",
       "   0.5039164423942566,\n",
       "   0.5039164423942566,\n",
       "   0.5039164423942566,\n",
       "   0.5039164423942566,\n",
       "   0.5039164423942566,\n",
       "   0.5039164423942566,\n",
       "   0.5039164423942566,\n",
       "   0.5030461549758911,\n",
       "   0.5039164423942566]},\n",
       " 'params': {'verbose': 1, 'epochs': 10, 'steps': 12},\n",
       " 'epoch': [0, 1, 2, 3, 4, 5, 6, 7, 8, 9]}"
      ]
     },
     "execution_count": 6,
     "metadata": {},
     "output_type": "execute_result"
    }
   ],
   "source": [
    "# dict\n",
    "\n",
    "results.__dict__"
   ]
  },
  {
   "cell_type": "code",
   "execution_count": 7,
   "metadata": {
    "ExecuteTime": {
     "end_time": "2022-05-05T18:12:46.916765Z",
     "start_time": "2022-05-05T18:12:46.378917Z"
    },
    "hidden": true
   },
   "outputs": [
    {
     "data": {
      "image/png": "[encoded data removed]",
      "text/plain": [
       "<Figure size 720x360 with 2 Axes>"
      ]
     },
     "metadata": {
      "needs_background": "light"
     },
     "output_type": "display_data"
    }
   ],
   "source": [
    "sigmoid_loss = results.history['loss']\n",
    "sigmoid_accuracy = results.history['accuracy']\n",
    "\n",
    "fig, (ax1, ax2) = plt.subplots(1, 2, figsize=(10, 5))\n",
    "sns.lineplot(x=results.epoch, y=sigmoid_loss, ax=ax1, label='loss')\n",
    "sns.lineplot(x=results.epoch, y=sigmoid_accuracy, ax=ax2, label='accuracy');"
   ]
  },
  {
   "cell_type": "markdown",
   "metadata": {
    "hidden": true
   },
   "source": [
    "We have two plots above both relating to the quality of our model.  The left-hand plot is our loss. It uses the probabilities associated with our predictions to judge how well our prediction fits reality. We want it to decrease as far as possible.\n",
    "\n",
    "The accuracy judges how well the predictions are after applying the threshold at the output layer.  We want accuracy to increase."
   ]
  },
  {
   "cell_type": "markdown",
   "metadata": {
    "hidden": true
   },
   "source": [
    "If we look at our loss, it is still decreasing. That is a signal that our model is **still learning**. If our model is still learning, we can allow it to get better by turning a few dials.\n",
    "\n",
    "Let's:\n",
    "- increase the number of epochs;\n",
    "- change sigmoid activation in the hidden layers to ReLU; and\n",
    "- decrease the batch size."
   ]
  },
  {
   "cell_type": "markdown",
   "metadata": {
    "heading_collapsed": true
   },
   "source": [
    "## Basic Model Tuning"
   ]
  },
  {
   "cell_type": "markdown",
   "metadata": {
    "heading_collapsed": true,
    "hidden": true
   },
   "source": [
    "### Increase Epochs"
   ]
  },
  {
   "cell_type": "code",
   "execution_count": 8,
   "metadata": {
    "ExecuteTime": {
     "end_time": "2022-05-05T18:14:27.013813Z",
     "start_time": "2022-05-05T18:14:23.517777Z"
    },
    "hidden": true
   },
   "outputs": [
    {
     "name": "stdout",
     "output_type": "stream",
     "text": [
      "Epoch 1/100\n",
      "12/12 [==============================] - 1s 2ms/step - loss: 0.7938 - accuracy: 0.4961\n",
      "Epoch 2/100\n",
      "12/12 [==============================] - 0s 2ms/step - loss: 0.7765 - accuracy: 0.4961\n",
      "Epoch 3/100\n",
      "12/12 [==============================] - 0s 2ms/step - loss: 0.7618 - accuracy: 0.4961\n",
      "Epoch 4/100\n",
      "12/12 [==============================] - 0s 2ms/step - loss: 0.7498 - accuracy: 0.4961\n",
      "Epoch 5/100\n",
      "12/12 [==============================] - 0s 2ms/step - loss: 0.7397 - accuracy: 0.4961\n",
      "Epoch 6/100\n",
      "12/12 [==============================] - 0s 2ms/step - loss: 0.7310 - accuracy: 0.4961\n",
      "Epoch 7/100\n",
      "12/12 [==============================] - 0s 2ms/step - loss: 0.7239 - accuracy: 0.4961\n",
      "Epoch 8/100\n",
      "12/12 [==============================] - 0s 2ms/step - loss: 0.7179 - accuracy: 0.4961\n",
      "Epoch 9/100\n",
      "12/12 [==============================] - 0s 2ms/step - loss: 0.7129 - accuracy: 0.4961\n",
      "Epoch 10/100\n",
      "12/12 [==============================] - 0s 2ms/step - loss: 0.7089 - accuracy: 0.4961\n",
      "Epoch 11/100\n",
      "12/12 [==============================] - 0s 2ms/step - loss: 0.7053 - accuracy: 0.4961\n",
      "Epoch 12/100\n",
      "12/12 [==============================] - 0s 2ms/step - loss: 0.7024 - accuracy: 0.4961\n",
      "Epoch 13/100\n",
      "12/12 [==============================] - 0s 2ms/step - loss: 0.7000 - accuracy: 0.4961\n",
      "Epoch 14/100\n",
      "12/12 [==============================] - 0s 2ms/step - loss: 0.6980 - accuracy: 0.4961\n",
      "Epoch 15/100\n",
      "12/12 [==============================] - 0s 2ms/step - loss: 0.6963 - accuracy: 0.4961\n",
      "Epoch 16/100\n",
      "12/12 [==============================] - 0s 2ms/step - loss: 0.6949 - accuracy: 0.4961\n",
      "Epoch 17/100\n",
      "12/12 [==============================] - 0s 2ms/step - loss: 0.6937 - accuracy: 0.4961\n",
      "Epoch 18/100\n",
      "12/12 [==============================] - 0s 2ms/step - loss: 0.6927 - accuracy: 0.4961\n",
      "Epoch 19/100\n",
      "12/12 [==============================] - 0s 2ms/step - loss: 0.6918 - accuracy: 0.4961\n",
      "Epoch 20/100\n",
      "12/12 [==============================] - 0s 2ms/step - loss: 0.6910 - accuracy: 0.4961\n",
      "Epoch 21/100\n",
      "12/12 [==============================] - 0s 2ms/step - loss: 0.6904 - accuracy: 0.4961\n",
      "Epoch 22/100\n",
      "12/12 [==============================] - 0s 2ms/step - loss: 0.6899 - accuracy: 0.4961\n",
      "Epoch 23/100\n",
      "12/12 [==============================] - 0s 2ms/step - loss: 0.6894 - accuracy: 0.4978\n",
      "Epoch 24/100\n",
      "12/12 [==============================] - 0s 2ms/step - loss: 0.6890 - accuracy: 0.4987\n",
      "Epoch 25/100\n",
      "12/12 [==============================] - 0s 2ms/step - loss: 0.6886 - accuracy: 0.5004\n",
      "Epoch 26/100\n",
      "12/12 [==============================] - 0s 2ms/step - loss: 0.6883 - accuracy: 0.5030\n",
      "Epoch 27/100\n",
      "12/12 [==============================] - 0s 2ms/step - loss: 0.6879 - accuracy: 0.5057\n",
      "Epoch 28/100\n",
      "12/12 [==============================] - 0s 2ms/step - loss: 0.6876 - accuracy: 0.5135\n",
      "Epoch 29/100\n",
      "12/12 [==============================] - 0s 2ms/step - loss: 0.6874 - accuracy: 0.5196\n",
      "Epoch 30/100\n",
      "12/12 [==============================] - 0s 2ms/step - loss: 0.6871 - accuracy: 0.5318\n",
      "Epoch 31/100\n",
      "12/12 [==============================] - 0s 2ms/step - loss: 0.6869 - accuracy: 0.5422\n",
      "Epoch 32/100\n",
      "12/12 [==============================] - 0s 2ms/step - loss: 0.6867 - accuracy: 0.5579\n",
      "Epoch 33/100\n",
      "12/12 [==============================] - 0s 2ms/step - loss: 0.6865 - accuracy: 0.5614\n",
      "Epoch 34/100\n",
      "12/12 [==============================] - 0s 2ms/step - loss: 0.6863 - accuracy: 0.5718\n",
      "Epoch 35/100\n",
      "12/12 [==============================] - 0s 2ms/step - loss: 0.6861 - accuracy: 0.6005\n",
      "Epoch 36/100\n",
      "12/12 [==============================] - 0s 2ms/step - loss: 0.6859 - accuracy: 0.6144\n",
      "Epoch 37/100\n",
      "12/12 [==============================] - 0s 2ms/step - loss: 0.6858 - accuracy: 0.6371\n",
      "Epoch 38/100\n",
      "12/12 [==============================] - 0s 2ms/step - loss: 0.6856 - accuracy: 0.6275\n",
      "Epoch 39/100\n",
      "12/12 [==============================] - 0s 2ms/step - loss: 0.6854 - accuracy: 0.6345\n",
      "Epoch 40/100\n",
      "12/12 [==============================] - 0s 2ms/step - loss: 0.6853 - accuracy: 0.6527\n",
      "Epoch 41/100\n",
      "12/12 [==============================] - 0s 2ms/step - loss: 0.6851 - accuracy: 0.6588\n",
      "Epoch 42/100\n",
      "12/12 [==============================] - 0s 3ms/step - loss: 0.6850 - accuracy: 0.6710\n",
      "Epoch 43/100\n",
      "12/12 [==============================] - 0s 2ms/step - loss: 0.6848 - accuracy: 0.6815\n",
      "Epoch 44/100\n",
      "12/12 [==============================] - 0s 2ms/step - loss: 0.6847 - accuracy: 0.6789\n",
      "Epoch 45/100\n",
      "12/12 [==============================] - 0s 2ms/step - loss: 0.6845 - accuracy: 0.6919\n",
      "Epoch 46/100\n",
      "12/12 [==============================] - 0s 2ms/step - loss: 0.6844 - accuracy: 0.6989\n",
      "Epoch 47/100\n",
      "12/12 [==============================] - 0s 2ms/step - loss: 0.6842 - accuracy: 0.7006\n",
      "Epoch 48/100\n",
      "12/12 [==============================] - 0s 2ms/step - loss: 0.6840 - accuracy: 0.6954\n",
      "Epoch 49/100\n",
      "12/12 [==============================] - 0s 2ms/step - loss: 0.6839 - accuracy: 0.7006\n",
      "Epoch 50/100\n",
      "12/12 [==============================] - 0s 2ms/step - loss: 0.6837 - accuracy: 0.6971\n",
      "Epoch 51/100\n",
      "12/12 [==============================] - 0s 3ms/step - loss: 0.6836 - accuracy: 0.6997\n",
      "Epoch 52/100\n",
      "12/12 [==============================] - 0s 2ms/step - loss: 0.6834 - accuracy: 0.7067\n",
      "Epoch 53/100\n",
      "12/12 [==============================] - 0s 2ms/step - loss: 0.6833 - accuracy: 0.7093\n",
      "Epoch 54/100\n",
      "12/12 [==============================] - 0s 2ms/step - loss: 0.6831 - accuracy: 0.7145\n",
      "Epoch 55/100\n",
      "12/12 [==============================] - 0s 2ms/step - loss: 0.6830 - accuracy: 0.7163\n",
      "Epoch 56/100\n",
      "12/12 [==============================] - 0s 2ms/step - loss: 0.6828 - accuracy: 0.7215\n",
      "Epoch 57/100\n",
      "12/12 [==============================] - 0s 2ms/step - loss: 0.6827 - accuracy: 0.7180\n",
      "Epoch 58/100\n",
      "12/12 [==============================] - 0s 2ms/step - loss: 0.6825 - accuracy: 0.7241\n",
      "Epoch 59/100\n",
      "12/12 [==============================] - 0s 3ms/step - loss: 0.6824 - accuracy: 0.7285\n",
      "Epoch 60/100\n",
      "12/12 [==============================] - 0s 2ms/step - loss: 0.6822 - accuracy: 0.7285\n",
      "Epoch 61/100\n",
      "12/12 [==============================] - 0s 2ms/step - loss: 0.6820 - accuracy: 0.7363\n",
      "Epoch 62/100\n",
      "12/12 [==============================] - 0s 2ms/step - loss: 0.6818 - accuracy: 0.7424\n",
      "Epoch 63/100\n",
      "12/12 [==============================] - 0s 2ms/step - loss: 0.6817 - accuracy: 0.7450\n",
      "Epoch 64/100\n",
      "12/12 [==============================] - 0s 2ms/step - loss: 0.6815 - accuracy: 0.7433\n",
      "Epoch 65/100\n",
      "12/12 [==============================] - 0s 2ms/step - loss: 0.6814 - accuracy: 0.7433\n",
      "Epoch 66/100\n",
      "12/12 [==============================] - 0s 3ms/step - loss: 0.6812 - accuracy: 0.7450\n",
      "Epoch 67/100\n",
      "12/12 [==============================] - 0s 2ms/step - loss: 0.6810 - accuracy: 0.7415\n",
      "Epoch 68/100\n",
      "12/12 [==============================] - 0s 2ms/step - loss: 0.6809 - accuracy: 0.7398\n",
      "Epoch 69/100\n",
      "12/12 [==============================] - 0s 2ms/step - loss: 0.6807 - accuracy: 0.7459\n",
      "Epoch 70/100\n",
      "12/12 [==============================] - 0s 2ms/step - loss: 0.6806 - accuracy: 0.7415\n",
      "Epoch 71/100\n",
      "12/12 [==============================] - 0s 2ms/step - loss: 0.6804 - accuracy: 0.7546\n",
      "Epoch 72/100\n",
      "12/12 [==============================] - 0s 2ms/step - loss: 0.6802 - accuracy: 0.7528\n",
      "Epoch 73/100\n",
      "12/12 [==============================] - 0s 5ms/step - loss: 0.6800 - accuracy: 0.7546\n",
      "Epoch 74/100\n",
      "12/12 [==============================] - 0s 3ms/step - loss: 0.6799 - accuracy: 0.7502\n",
      "Epoch 75/100\n",
      "12/12 [==============================] - 0s 2ms/step - loss: 0.6797 - accuracy: 0.7572\n",
      "Epoch 76/100\n",
      "12/12 [==============================] - 0s 2ms/step - loss: 0.6795 - accuracy: 0.7546\n",
      "Epoch 77/100\n",
      "12/12 [==============================] - 0s 2ms/step - loss: 0.6794 - accuracy: 0.7554\n",
      "Epoch 78/100\n",
      "12/12 [==============================] - 0s 2ms/step - loss: 0.6792 - accuracy: 0.7581\n",
      "Epoch 79/100\n",
      "12/12 [==============================] - 0s 2ms/step - loss: 0.6790 - accuracy: 0.7641\n",
      "Epoch 80/100\n",
      "12/12 [==============================] - 0s 2ms/step - loss: 0.6789 - accuracy: 0.7607\n",
      "Epoch 81/100\n",
      "12/12 [==============================] - 0s 2ms/step - loss: 0.6787 - accuracy: 0.7624\n",
      "Epoch 82/100\n",
      "12/12 [==============================] - 0s 2ms/step - loss: 0.6785 - accuracy: 0.7598\n",
      "Epoch 83/100\n"
     ]
    },
    {
     "name": "stdout",
     "output_type": "stream",
     "text": [
      "12/12 [==============================] - 0s 2ms/step - loss: 0.6784 - accuracy: 0.7598\n",
      "Epoch 84/100\n",
      "12/12 [==============================] - 0s 2ms/step - loss: 0.6781 - accuracy: 0.7641\n",
      "Epoch 85/100\n",
      "12/12 [==============================] - 0s 2ms/step - loss: 0.6780 - accuracy: 0.7641\n",
      "Epoch 86/100\n",
      "12/12 [==============================] - 0s 2ms/step - loss: 0.6778 - accuracy: 0.7650\n",
      "Epoch 87/100\n",
      "12/12 [==============================] - 0s 2ms/step - loss: 0.6776 - accuracy: 0.7668\n",
      "Epoch 88/100\n",
      "12/12 [==============================] - 0s 2ms/step - loss: 0.6774 - accuracy: 0.7685\n",
      "Epoch 89/100\n",
      "12/12 [==============================] - 0s 2ms/step - loss: 0.6773 - accuracy: 0.7702\n",
      "Epoch 90/100\n",
      "12/12 [==============================] - 0s 2ms/step - loss: 0.6771 - accuracy: 0.7702\n",
      "Epoch 91/100\n",
      "12/12 [==============================] - 0s 2ms/step - loss: 0.6769 - accuracy: 0.7685\n",
      "Epoch 92/100\n",
      "12/12 [==============================] - 0s 2ms/step - loss: 0.6767 - accuracy: 0.7720\n",
      "Epoch 93/100\n",
      "12/12 [==============================] - 0s 2ms/step - loss: 0.6765 - accuracy: 0.7728\n",
      "Epoch 94/100\n",
      "12/12 [==============================] - 0s 2ms/step - loss: 0.6763 - accuracy: 0.7702\n",
      "Epoch 95/100\n",
      "12/12 [==============================] - 0s 2ms/step - loss: 0.6761 - accuracy: 0.7711\n",
      "Epoch 96/100\n",
      "12/12 [==============================] - 0s 2ms/step - loss: 0.6759 - accuracy: 0.7737\n",
      "Epoch 97/100\n",
      "12/12 [==============================] - 0s 2ms/step - loss: 0.6757 - accuracy: 0.7755\n",
      "Epoch 98/100\n",
      "12/12 [==============================] - 0s 2ms/step - loss: 0.6756 - accuracy: 0.7781\n",
      "Epoch 99/100\n",
      "12/12 [==============================] - 0s 2ms/step - loss: 0.6754 - accuracy: 0.7772\n",
      "Epoch 100/100\n",
      "12/12 [==============================] - 0s 2ms/step - loss: 0.6752 - accuracy: 0.7755\n"
     ]
    }
   ],
   "source": [
    "model = Sequential()\n",
    "model.add(Dense(12, activation='sigmoid', input_dim=64))\n",
    "model.add(Dense(8, activation='sigmoid'))\n",
    "model.add(Dense(1, activation='sigmoid'))\n",
    "\n",
    "model.compile(optimizer='SGD',\n",
    "              loss='binary_crossentropy',\n",
    "              metrics=['accuracy'])\n",
    "\n",
    "# Assign the variable history to store the results,\n",
    "# and set verbose=1 so we can see the output.\n",
    "# increase epochs\n",
    "\n",
    "results = model.fit(X_pure_train, y_pure_train, epochs=100, batch_size=100, verbose=1)\n"
   ]
  },
  {
   "cell_type": "code",
   "execution_count": 9,
   "metadata": {
    "ExecuteTime": {
     "end_time": "2022-05-05T18:14:30.662677Z",
     "start_time": "2022-05-05T18:14:30.159855Z"
    },
    "hidden": true
   },
   "outputs": [
    {
     "data": {
      "image/png": "[encoded data removed]",
      "text/plain": [
       "<Figure size 720x360 with 2 Axes>"
      ]
     },
     "metadata": {
      "needs_background": "light"
     },
     "output_type": "display_data"
    }
   ],
   "source": [
    "sigmoid_loss = results.history['loss']\n",
    "sigmoid_accuracy = results.history['accuracy']\n",
    "\n",
    "fig, (ax1, ax2) = plt.subplots(1, 2, figsize=(10, 5))\n",
    "sns.lineplot(x=results.epoch, y=sigmoid_loss, ax=ax1, label='loss')\n",
    "sns.lineplot(x=results.epoch, y=sigmoid_accuracy, ax=ax2, label='accuracy')\n",
    "ax1.legend();"
   ]
  },
  {
   "cell_type": "markdown",
   "metadata": {
    "heading_collapsed": true,
    "hidden": true
   },
   "source": [
    "### Decrease Batch Size"
   ]
  },
  {
   "cell_type": "code",
   "execution_count": 10,
   "metadata": {
    "ExecuteTime": {
     "end_time": "2022-05-05T18:15:06.150923Z",
     "start_time": "2022-05-05T18:15:03.590419Z"
    },
    "hidden": true
   },
   "outputs": [
    {
     "name": "stdout",
     "output_type": "stream",
     "text": [
      "Epoch 1/10\n",
      "115/115 [==============================] - 1s 1ms/step - loss: 0.7171 - accuracy: 0.4961\n",
      "Epoch 2/10\n",
      "115/115 [==============================] - 0s 1ms/step - loss: 0.6950 - accuracy: 0.4961\n",
      "Epoch 3/10\n",
      "115/115 [==============================] - 0s 1ms/step - loss: 0.6913 - accuracy: 0.5013\n",
      "Epoch 4/10\n",
      "115/115 [==============================] - 0s 1ms/step - loss: 0.6906 - accuracy: 0.5927\n",
      "Epoch 5/10\n",
      "115/115 [==============================] - 0s 2ms/step - loss: 0.6901 - accuracy: 0.6084\n",
      "Epoch 6/10\n",
      "115/115 [==============================] - 0s 2ms/step - loss: 0.6896 - accuracy: 0.6023\n",
      "Epoch 7/10\n",
      "115/115 [==============================] - 0s 2ms/step - loss: 0.6891 - accuracy: 0.6005\n",
      "Epoch 8/10\n",
      "115/115 [==============================] - 0s 1ms/step - loss: 0.6887 - accuracy: 0.6023\n",
      "Epoch 9/10\n",
      "115/115 [==============================] - 0s 2ms/step - loss: 0.6882 - accuracy: 0.6188\n",
      "Epoch 10/10\n",
      "115/115 [==============================] - 0s 1ms/step - loss: 0.6878 - accuracy: 0.6249\n"
     ]
    }
   ],
   "source": [
    "model = Sequential()\n",
    "\n",
    "model.add(Dense(12, activation='sigmoid', input_dim=64))\n",
    "model.add(Dense(8, activation='sigmoid'))\n",
    "model.add(Dense(1, activation='sigmoid'))\n",
    "\n",
    "model.compile(optimizer='SGD',\n",
    "              loss='binary_crossentropy',\n",
    "              metrics=['accuracy'])\n",
    "\n",
    "# decrease batch size\n",
    "\n",
    "results = model.fit(X_pure_train, y_pure_train, epochs=10, batch_size=10, verbose=1)"
   ]
  },
  {
   "cell_type": "code",
   "execution_count": 11,
   "metadata": {
    "ExecuteTime": {
     "end_time": "2022-05-05T18:15:12.777737Z",
     "start_time": "2022-05-05T18:15:12.282026Z"
    },
    "hidden": true
   },
   "outputs": [
    {
     "data": {
      "image/png": "[encoded data removed]",
      "text/plain": [
       "<Figure size 720x360 with 2 Axes>"
      ]
     },
     "metadata": {
      "needs_background": "light"
     },
     "output_type": "display_data"
    }
   ],
   "source": [
    "relu_loss = results.history['loss']\n",
    "relu_accuracy = results.history['accuracy']\n",
    "\n",
    "fig, (ax1, ax2) = plt.subplots(1, 2, figsize=(10, 5))\n",
    "sns.lineplot(x=results.epoch, y=relu_loss, ax=ax1, label='loss')\n",
    "sns.lineplot(x=results.epoch, y=relu_accuracy, ax=ax2, label='accuracy')\n",
    "ax1.legend();"
   ]
  },
  {
   "cell_type": "markdown",
   "metadata": {
    "heading_collapsed": true,
    "hidden": true
   },
   "source": [
    "### Both"
   ]
  },
  {
   "cell_type": "code",
   "execution_count": 12,
   "metadata": {
    "ExecuteTime": {
     "end_time": "2022-05-05T18:15:49.826678Z",
     "start_time": "2022-05-05T18:15:31.215697Z"
    },
    "hidden": true
   },
   "outputs": [
    {
     "name": "stdout",
     "output_type": "stream",
     "text": [
      "Epoch 1/100\n",
      "115/115 [==============================] - 1s 1ms/step - loss: 0.6972 - accuracy: 0.4961\n",
      "Epoch 2/100\n",
      "115/115 [==============================] - 0s 1ms/step - loss: 0.6943 - accuracy: 0.4909\n",
      "Epoch 3/100\n",
      "115/115 [==============================] - 0s 2ms/step - loss: 0.6933 - accuracy: 0.4865\n",
      "Epoch 4/100\n",
      "115/115 [==============================] - 0s 2ms/step - loss: 0.6927 - accuracy: 0.5161\n",
      "Epoch 5/100\n",
      "115/115 [==============================] - 0s 1ms/step - loss: 0.6920 - accuracy: 0.5187\n",
      "Epoch 6/100\n",
      "115/115 [==============================] - 0s 2ms/step - loss: 0.6914 - accuracy: 0.5614\n",
      "Epoch 7/100\n",
      "115/115 [==============================] - 0s 2ms/step - loss: 0.6908 - accuracy: 0.5683\n",
      "Epoch 8/100\n",
      "115/115 [==============================] - 0s 1ms/step - loss: 0.6902 - accuracy: 0.5692\n",
      "Epoch 9/100\n",
      "115/115 [==============================] - 0s 2ms/step - loss: 0.6896 - accuracy: 0.5718\n",
      "Epoch 10/100\n",
      "115/115 [==============================] - 0s 1ms/step - loss: 0.6891 - accuracy: 0.5892\n",
      "Epoch 11/100\n",
      "115/115 [==============================] - 0s 1ms/step - loss: 0.6883 - accuracy: 0.5744\n",
      "Epoch 12/100\n",
      "115/115 [==============================] - 0s 1ms/step - loss: 0.6876 - accuracy: 0.6240\n",
      "Epoch 13/100\n",
      "115/115 [==============================] - 0s 1ms/step - loss: 0.6867 - accuracy: 0.6118\n",
      "Epoch 14/100\n",
      "115/115 [==============================] - 0s 1ms/step - loss: 0.6860 - accuracy: 0.6171\n",
      "Epoch 15/100\n",
      "115/115 [==============================] - 0s 1ms/step - loss: 0.6853 - accuracy: 0.6554\n",
      "Epoch 16/100\n",
      "115/115 [==============================] - 0s 2ms/step - loss: 0.6845 - accuracy: 0.6823\n",
      "Epoch 17/100\n",
      "115/115 [==============================] - 0s 1ms/step - loss: 0.6836 - accuracy: 0.6797\n",
      "Epoch 18/100\n",
      "115/115 [==============================] - 0s 1ms/step - loss: 0.6825 - accuracy: 0.6980\n",
      "Epoch 19/100\n",
      "115/115 [==============================] - 0s 2ms/step - loss: 0.6818 - accuracy: 0.6432\n",
      "Epoch 20/100\n",
      "115/115 [==============================] - 0s 2ms/step - loss: 0.6807 - accuracy: 0.6902\n",
      "Epoch 21/100\n",
      "115/115 [==============================] - 0s 2ms/step - loss: 0.6794 - accuracy: 0.6728\n",
      "Epoch 22/100\n",
      "115/115 [==============================] - 0s 2ms/step - loss: 0.6784 - accuracy: 0.7433\n",
      "Epoch 23/100\n",
      "115/115 [==============================] - 0s 2ms/step - loss: 0.6771 - accuracy: 0.7415\n",
      "Epoch 24/100\n",
      "115/115 [==============================] - 0s 2ms/step - loss: 0.6758 - accuracy: 0.7528\n",
      "Epoch 25/100\n",
      "115/115 [==============================] - 0s 2ms/step - loss: 0.6745 - accuracy: 0.7389\n",
      "Epoch 26/100\n",
      "115/115 [==============================] - 0s 2ms/step - loss: 0.6730 - accuracy: 0.7598\n",
      "Epoch 27/100\n",
      "115/115 [==============================] - 0s 2ms/step - loss: 0.6713 - accuracy: 0.7711\n",
      "Epoch 28/100\n",
      "115/115 [==============================] - 0s 2ms/step - loss: 0.6697 - accuracy: 0.7702\n",
      "Epoch 29/100\n",
      "115/115 [==============================] - 0s 1ms/step - loss: 0.6678 - accuracy: 0.7624\n",
      "Epoch 30/100\n",
      "115/115 [==============================] - 0s 1ms/step - loss: 0.6659 - accuracy: 0.7824\n",
      "Epoch 31/100\n",
      "115/115 [==============================] - 0s 1ms/step - loss: 0.6636 - accuracy: 0.7711\n",
      "Epoch 32/100\n",
      "115/115 [==============================] - 0s 1ms/step - loss: 0.6615 - accuracy: 0.7798\n",
      "Epoch 33/100\n",
      "115/115 [==============================] - 0s 1ms/step - loss: 0.6590 - accuracy: 0.7972\n",
      "Epoch 34/100\n",
      "115/115 [==============================] - 0s 2ms/step - loss: 0.6563 - accuracy: 0.7955\n",
      "Epoch 35/100\n",
      "115/115 [==============================] - 0s 2ms/step - loss: 0.6536 - accuracy: 0.7885\n",
      "Epoch 36/100\n",
      "115/115 [==============================] - 0s 2ms/step - loss: 0.6505 - accuracy: 0.7885\n",
      "Epoch 37/100\n",
      "115/115 [==============================] - 0s 2ms/step - loss: 0.6473 - accuracy: 0.8042\n",
      "Epoch 38/100\n",
      "115/115 [==============================] - 0s 1ms/step - loss: 0.6438 - accuracy: 0.8077\n",
      "Epoch 39/100\n",
      "115/115 [==============================] - 0s 1ms/step - loss: 0.6399 - accuracy: 0.8085\n",
      "Epoch 40/100\n",
      "115/115 [==============================] - 0s 1ms/step - loss: 0.6359 - accuracy: 0.8094\n",
      "Epoch 41/100\n",
      "115/115 [==============================] - 0s 1ms/step - loss: 0.6316 - accuracy: 0.8181\n",
      "Epoch 42/100\n",
      "115/115 [==============================] - 0s 2ms/step - loss: 0.6270 - accuracy: 0.8198\n",
      "Epoch 43/100\n",
      "115/115 [==============================] - 0s 1ms/step - loss: 0.6221 - accuracy: 0.8216\n",
      "Epoch 44/100\n",
      "115/115 [==============================] - 0s 2ms/step - loss: 0.6167 - accuracy: 0.8242\n",
      "Epoch 45/100\n",
      "115/115 [==============================] - 0s 2ms/step - loss: 0.6111 - accuracy: 0.8285\n",
      "Epoch 46/100\n",
      "115/115 [==============================] - 0s 2ms/step - loss: 0.6050 - accuracy: 0.8233\n",
      "Epoch 47/100\n",
      "115/115 [==============================] - 0s 1ms/step - loss: 0.5987 - accuracy: 0.8268\n",
      "Epoch 48/100\n",
      "115/115 [==============================] - 0s 1ms/step - loss: 0.5920 - accuracy: 0.8285\n",
      "Epoch 49/100\n",
      "115/115 [==============================] - 0s 1ms/step - loss: 0.5850 - accuracy: 0.8233\n",
      "Epoch 50/100\n",
      "115/115 [==============================] - 0s 2ms/step - loss: 0.5777 - accuracy: 0.8294\n",
      "Epoch 51/100\n",
      "115/115 [==============================] - 0s 1ms/step - loss: 0.5698 - accuracy: 0.8338\n",
      "Epoch 52/100\n",
      "115/115 [==============================] - 0s 1ms/step - loss: 0.5618 - accuracy: 0.8355\n",
      "Epoch 53/100\n",
      "115/115 [==============================] - 0s 1ms/step - loss: 0.5531 - accuracy: 0.8364\n",
      "Epoch 54/100\n",
      "115/115 [==============================] - 0s 1ms/step - loss: 0.5445 - accuracy: 0.8372\n",
      "Epoch 55/100\n",
      "115/115 [==============================] - 0s 1ms/step - loss: 0.5355 - accuracy: 0.8407\n",
      "Epoch 56/100\n",
      "115/115 [==============================] - 0s 1ms/step - loss: 0.5264 - accuracy: 0.8346\n",
      "Epoch 57/100\n",
      "115/115 [==============================] - 0s 2ms/step - loss: 0.5171 - accuracy: 0.8346\n",
      "Epoch 58/100\n",
      "115/115 [==============================] - 0s 2ms/step - loss: 0.5073 - accuracy: 0.8425\n",
      "Epoch 59/100\n",
      "115/115 [==============================] - 0s 2ms/step - loss: 0.4981 - accuracy: 0.8451\n",
      "Epoch 60/100\n",
      "115/115 [==============================] - 0s 1ms/step - loss: 0.4885 - accuracy: 0.8425\n",
      "Epoch 61/100\n",
      "115/115 [==============================] - 0s 1ms/step - loss: 0.4790 - accuracy: 0.8425\n",
      "Epoch 62/100\n",
      "115/115 [==============================] - 0s 2ms/step - loss: 0.4693 - accuracy: 0.8486\n",
      "Epoch 63/100\n",
      "115/115 [==============================] - 0s 1ms/step - loss: 0.4599 - accuracy: 0.8564\n",
      "Epoch 64/100\n",
      "115/115 [==============================] - 0s 1ms/step - loss: 0.4508 - accuracy: 0.8512\n",
      "Epoch 65/100\n",
      "115/115 [==============================] - 0s 1ms/step - loss: 0.4417 - accuracy: 0.8512\n",
      "Epoch 66/100\n",
      "115/115 [==============================] - 0s 1ms/step - loss: 0.4328 - accuracy: 0.8590\n",
      "Epoch 67/100\n",
      "115/115 [==============================] - 0s 2ms/step - loss: 0.4243 - accuracy: 0.8547\n",
      "Epoch 68/100\n",
      "115/115 [==============================] - 0s 2ms/step - loss: 0.4158 - accuracy: 0.8634\n",
      "Epoch 69/100\n",
      "115/115 [==============================] - 0s 2ms/step - loss: 0.4079 - accuracy: 0.8660\n",
      "Epoch 70/100\n",
      "115/115 [==============================] - 0s 2ms/step - loss: 0.4001 - accuracy: 0.8634\n",
      "Epoch 71/100\n",
      "115/115 [==============================] - 0s 1ms/step - loss: 0.3928 - accuracy: 0.8625\n",
      "Epoch 72/100\n",
      "115/115 [==============================] - 0s 1ms/step - loss: 0.3856 - accuracy: 0.8677\n",
      "Epoch 73/100\n",
      "115/115 [==============================] - 0s 1ms/step - loss: 0.3788 - accuracy: 0.8668\n",
      "Epoch 74/100\n",
      "115/115 [==============================] - 0s 2ms/step - loss: 0.3723 - accuracy: 0.8668\n",
      "Epoch 75/100\n",
      "115/115 [==============================] - 0s 2ms/step - loss: 0.3659 - accuracy: 0.8677\n",
      "Epoch 76/100\n",
      "115/115 [==============================] - 0s 2ms/step - loss: 0.3601 - accuracy: 0.8677\n",
      "Epoch 77/100\n",
      "115/115 [==============================] - 0s 2ms/step - loss: 0.3541 - accuracy: 0.8721\n",
      "Epoch 78/100\n",
      "115/115 [==============================] - 0s 2ms/step - loss: 0.3487 - accuracy: 0.8721\n",
      "Epoch 79/100\n",
      "115/115 [==============================] - 0s 1ms/step - loss: 0.3436 - accuracy: 0.8721\n",
      "Epoch 80/100\n",
      "115/115 [==============================] - 0s 2ms/step - loss: 0.3386 - accuracy: 0.8755\n",
      "Epoch 81/100\n"
     ]
    },
    {
     "name": "stdout",
     "output_type": "stream",
     "text": [
      "115/115 [==============================] - 0s 2ms/step - loss: 0.3338 - accuracy: 0.8790\n",
      "Epoch 82/100\n",
      "115/115 [==============================] - 0s 1ms/step - loss: 0.3293 - accuracy: 0.8808\n",
      "Epoch 83/100\n",
      "115/115 [==============================] - 0s 1ms/step - loss: 0.3250 - accuracy: 0.8851\n",
      "Epoch 84/100\n",
      "115/115 [==============================] - 0s 2ms/step - loss: 0.3202 - accuracy: 0.8825\n",
      "Epoch 85/100\n",
      "115/115 [==============================] - 0s 1ms/step - loss: 0.3169 - accuracy: 0.8860\n",
      "Epoch 86/100\n",
      "115/115 [==============================] - 0s 2ms/step - loss: 0.3130 - accuracy: 0.8860\n",
      "Epoch 87/100\n",
      "115/115 [==============================] - 0s 1ms/step - loss: 0.3094 - accuracy: 0.8895\n",
      "Epoch 88/100\n",
      "115/115 [==============================] - 0s 2ms/step - loss: 0.3060 - accuracy: 0.8860\n",
      "Epoch 89/100\n",
      "115/115 [==============================] - 0s 2ms/step - loss: 0.3026 - accuracy: 0.8860\n",
      "Epoch 90/100\n",
      "115/115 [==============================] - 0s 1ms/step - loss: 0.2994 - accuracy: 0.8895\n",
      "Epoch 91/100\n",
      "115/115 [==============================] - 0s 1ms/step - loss: 0.2963 - accuracy: 0.8903\n",
      "Epoch 92/100\n",
      "115/115 [==============================] - 0s 2ms/step - loss: 0.2934 - accuracy: 0.8938\n",
      "Epoch 93/100\n",
      "115/115 [==============================] - 0s 1ms/step - loss: 0.2906 - accuracy: 0.8930\n",
      "Epoch 94/100\n",
      "115/115 [==============================] - 0s 1ms/step - loss: 0.2880 - accuracy: 0.8930\n",
      "Epoch 95/100\n",
      "115/115 [==============================] - 0s 1ms/step - loss: 0.2853 - accuracy: 0.8956\n",
      "Epoch 96/100\n",
      "115/115 [==============================] - 0s 1ms/step - loss: 0.2826 - accuracy: 0.8930\n",
      "Epoch 97/100\n",
      "115/115 [==============================] - 0s 1ms/step - loss: 0.2805 - accuracy: 0.8938\n",
      "Epoch 98/100\n",
      "115/115 [==============================] - 0s 1ms/step - loss: 0.2782 - accuracy: 0.8964\n",
      "Epoch 99/100\n",
      "115/115 [==============================] - 0s 1ms/step - loss: 0.2758 - accuracy: 0.8964\n",
      "Epoch 100/100\n",
      "115/115 [==============================] - 0s 1ms/step - loss: 0.2738 - accuracy: 0.8990\n"
     ]
    }
   ],
   "source": [
    "model = Sequential()\n",
    "\n",
    "model.add(Dense(12, activation='sigmoid', input_dim=64))\n",
    "model.add(Dense(8, activation='sigmoid'))\n",
    "model.add(Dense(1, activation='sigmoid'))\n",
    "\n",
    "model.compile(optimizer='SGD',\n",
    "              loss='binary_crossentropy',\n",
    "              metrics=['accuracy'])\n",
    "\n",
    "# increase epochs decrease batch size\n",
    "\n",
    "results = model.fit(X_pure_train, y_pure_train, epochs=100, batch_size=10, verbose=1)"
   ]
  },
  {
   "cell_type": "code",
   "execution_count": 13,
   "metadata": {
    "ExecuteTime": {
     "end_time": "2022-05-05T18:15:50.833448Z",
     "start_time": "2022-05-05T18:15:50.350340Z"
    },
    "hidden": true
   },
   "outputs": [
    {
     "data": {
      "image/png": "[encoded data removed]",
      "text/plain": [
       "<Figure size 720x360 with 2 Axes>"
      ]
     },
     "metadata": {
      "needs_background": "light"
     },
     "output_type": "display_data"
    }
   ],
   "source": [
    "relu_loss = results.history['loss']\n",
    "relu_accuracy = results.history['accuracy']\n",
    "\n",
    "fig, (ax1, ax2) = plt.subplots(1, 2, figsize=(10, 5))\n",
    "sns.lineplot(x=results.epoch, y=relu_loss, ax=ax1, label='loss')\n",
    "sns.lineplot(x=results.epoch, y=relu_accuracy, ax=ax2, label='accuracy')\n",
    "ax1.legend();"
   ]
  },
  {
   "cell_type": "markdown",
   "metadata": {
    "heading_collapsed": true,
    "hidden": true
   },
   "source": [
    "### Use Relu"
   ]
  },
  {
   "cell_type": "code",
   "execution_count": 14,
   "metadata": {
    "ExecuteTime": {
     "end_time": "2022-05-05T18:18:33.664543Z",
     "start_time": "2022-05-05T18:18:15.633045Z"
    },
    "hidden": true
   },
   "outputs": [
    {
     "name": "stdout",
     "output_type": "stream",
     "text": [
      "Epoch 1/100\n",
      "115/115 [==============================] - 1s 1ms/step - loss: 0.6980 - accuracy: 0.5144\n",
      "Epoch 2/100\n",
      "115/115 [==============================] - 0s 1ms/step - loss: 0.6534 - accuracy: 0.6623\n",
      "Epoch 3/100\n",
      "115/115 [==============================] - 0s 1ms/step - loss: 0.6211 - accuracy: 0.7119\n",
      "Epoch 4/100\n",
      "115/115 [==============================] - 0s 2ms/step - loss: 0.5855 - accuracy: 0.7563\n",
      "Epoch 5/100\n",
      "115/115 [==============================] - 0s 2ms/step - loss: 0.5497 - accuracy: 0.7746\n",
      "Epoch 6/100\n",
      "115/115 [==============================] - 0s 1ms/step - loss: 0.5157 - accuracy: 0.7972\n",
      "Epoch 7/100\n",
      "115/115 [==============================] - 0s 1ms/step - loss: 0.4828 - accuracy: 0.8216\n",
      "Epoch 8/100\n",
      "115/115 [==============================] - 0s 1ms/step - loss: 0.4516 - accuracy: 0.8433\n",
      "Epoch 9/100\n",
      "115/115 [==============================] - 0s 2ms/step - loss: 0.4245 - accuracy: 0.8468\n",
      "Epoch 10/100\n",
      "115/115 [==============================] - 0s 1ms/step - loss: 0.3982 - accuracy: 0.8573\n",
      "Epoch 11/100\n",
      "115/115 [==============================] - 0s 2ms/step - loss: 0.3762 - accuracy: 0.8677\n",
      "Epoch 12/100\n",
      "115/115 [==============================] - 0s 2ms/step - loss: 0.3560 - accuracy: 0.8782\n",
      "Epoch 13/100\n",
      "115/115 [==============================] - 0s 1ms/step - loss: 0.3371 - accuracy: 0.8869\n",
      "Epoch 14/100\n",
      "115/115 [==============================] - 0s 1ms/step - loss: 0.3185 - accuracy: 0.8903\n",
      "Epoch 15/100\n",
      "115/115 [==============================] - 0s 1ms/step - loss: 0.3035 - accuracy: 0.8921\n",
      "Epoch 16/100\n",
      "115/115 [==============================] - 0s 1ms/step - loss: 0.2884 - accuracy: 0.9008\n",
      "Epoch 17/100\n",
      "115/115 [==============================] - 0s 1ms/step - loss: 0.2736 - accuracy: 0.9008\n",
      "Epoch 18/100\n",
      "115/115 [==============================] - 0s 1ms/step - loss: 0.2610 - accuracy: 0.9069\n",
      "Epoch 19/100\n",
      "115/115 [==============================] - 0s 1ms/step - loss: 0.2484 - accuracy: 0.9095\n",
      "Epoch 20/100\n",
      "115/115 [==============================] - 0s 1ms/step - loss: 0.2381 - accuracy: 0.9147\n",
      "Epoch 21/100\n",
      "115/115 [==============================] - 0s 1ms/step - loss: 0.2281 - accuracy: 0.9164\n",
      "Epoch 22/100\n",
      "115/115 [==============================] - 0s 1ms/step - loss: 0.2183 - accuracy: 0.9199\n",
      "Epoch 23/100\n",
      "115/115 [==============================] - 0s 1ms/step - loss: 0.2104 - accuracy: 0.9217\n",
      "Epoch 24/100\n",
      "115/115 [==============================] - 0s 1ms/step - loss: 0.2021 - accuracy: 0.9234\n",
      "Epoch 25/100\n",
      "115/115 [==============================] - 0s 2ms/step - loss: 0.1957 - accuracy: 0.9234\n",
      "Epoch 26/100\n",
      "115/115 [==============================] - 0s 1ms/step - loss: 0.1886 - accuracy: 0.9278\n",
      "Epoch 27/100\n",
      "115/115 [==============================] - 0s 1ms/step - loss: 0.1811 - accuracy: 0.9295\n",
      "Epoch 28/100\n",
      "115/115 [==============================] - 0s 2ms/step - loss: 0.1736 - accuracy: 0.9304\n",
      "Epoch 29/100\n",
      "115/115 [==============================] - 0s 2ms/step - loss: 0.1711 - accuracy: 0.9347\n",
      "Epoch 30/100\n",
      "115/115 [==============================] - 0s 2ms/step - loss: 0.1659 - accuracy: 0.9312\n",
      "Epoch 31/100\n",
      "115/115 [==============================] - 0s 2ms/step - loss: 0.1603 - accuracy: 0.9356\n",
      "Epoch 32/100\n",
      "115/115 [==============================] - 0s 2ms/step - loss: 0.1566 - accuracy: 0.9347\n",
      "Epoch 33/100\n",
      "115/115 [==============================] - 0s 2ms/step - loss: 0.1517 - accuracy: 0.9399\n",
      "Epoch 34/100\n",
      "115/115 [==============================] - 0s 1ms/step - loss: 0.1471 - accuracy: 0.9443\n",
      "Epoch 35/100\n",
      "115/115 [==============================] - 0s 2ms/step - loss: 0.1427 - accuracy: 0.9469\n",
      "Epoch 36/100\n",
      "115/115 [==============================] - 0s 2ms/step - loss: 0.1392 - accuracy: 0.9417\n",
      "Epoch 37/100\n",
      "115/115 [==============================] - 0s 1ms/step - loss: 0.1361 - accuracy: 0.9487\n",
      "Epoch 38/100\n",
      "115/115 [==============================] - 0s 2ms/step - loss: 0.1336 - accuracy: 0.9487\n",
      "Epoch 39/100\n",
      "115/115 [==============================] - 0s 1ms/step - loss: 0.1294 - accuracy: 0.9495\n",
      "Epoch 40/100\n",
      "115/115 [==============================] - 0s 1ms/step - loss: 0.1275 - accuracy: 0.9539\n",
      "Epoch 41/100\n",
      "115/115 [==============================] - 0s 1ms/step - loss: 0.1235 - accuracy: 0.9539\n",
      "Epoch 42/100\n",
      "115/115 [==============================] - 0s 1ms/step - loss: 0.1211 - accuracy: 0.9556\n",
      "Epoch 43/100\n",
      "115/115 [==============================] - 0s 1ms/step - loss: 0.1159 - accuracy: 0.9565\n",
      "Epoch 44/100\n",
      "115/115 [==============================] - 0s 1ms/step - loss: 0.1174 - accuracy: 0.9556\n",
      "Epoch 45/100\n",
      "115/115 [==============================] - 0s 1ms/step - loss: 0.1121 - accuracy: 0.9626\n",
      "Epoch 46/100\n",
      "115/115 [==============================] - 0s 1ms/step - loss: 0.1108 - accuracy: 0.9608\n",
      "Epoch 47/100\n",
      "115/115 [==============================] - 0s 1ms/step - loss: 0.1057 - accuracy: 0.9608\n",
      "Epoch 48/100\n",
      "115/115 [==============================] - 0s 1ms/step - loss: 0.1070 - accuracy: 0.9582\n",
      "Epoch 49/100\n",
      "115/115 [==============================] - 0s 1ms/step - loss: 0.1010 - accuracy: 0.9582\n",
      "Epoch 50/100\n",
      "115/115 [==============================] - 0s 1ms/step - loss: 0.0993 - accuracy: 0.9617\n",
      "Epoch 51/100\n",
      "115/115 [==============================] - 0s 1ms/step - loss: 0.0993 - accuracy: 0.9608\n",
      "Epoch 52/100\n",
      "115/115 [==============================] - 0s 1ms/step - loss: 0.0959 - accuracy: 0.9634\n",
      "Epoch 53/100\n",
      "115/115 [==============================] - 0s 1ms/step - loss: 0.0942 - accuracy: 0.9669\n",
      "Epoch 54/100\n",
      "115/115 [==============================] - 0s 2ms/step - loss: 0.0912 - accuracy: 0.9678\n",
      "Epoch 55/100\n",
      "115/115 [==============================] - 0s 1ms/step - loss: 0.0889 - accuracy: 0.9643\n",
      "Epoch 56/100\n",
      "115/115 [==============================] - 0s 1ms/step - loss: 0.0886 - accuracy: 0.9704\n",
      "Epoch 57/100\n",
      "115/115 [==============================] - 0s 1ms/step - loss: 0.0847 - accuracy: 0.9695\n",
      "Epoch 58/100\n",
      "115/115 [==============================] - 0s 1ms/step - loss: 0.0836 - accuracy: 0.9678\n",
      "Epoch 59/100\n",
      "115/115 [==============================] - 0s 1ms/step - loss: 0.0819 - accuracy: 0.9721\n",
      "Epoch 60/100\n",
      "115/115 [==============================] - 0s 1ms/step - loss: 0.0820 - accuracy: 0.9704\n",
      "Epoch 61/100\n",
      "115/115 [==============================] - 0s 1ms/step - loss: 0.0762 - accuracy: 0.9756\n",
      "Epoch 62/100\n",
      "115/115 [==============================] - 0s 2ms/step - loss: 0.0786 - accuracy: 0.9739\n",
      "Epoch 63/100\n",
      "115/115 [==============================] - 0s 1ms/step - loss: 0.0759 - accuracy: 0.9721\n",
      "Epoch 64/100\n",
      "115/115 [==============================] - 0s 1ms/step - loss: 0.0765 - accuracy: 0.9713\n",
      "Epoch 65/100\n",
      "115/115 [==============================] - 0s 1ms/step - loss: 0.0749 - accuracy: 0.9721\n",
      "Epoch 66/100\n",
      "115/115 [==============================] - 0s 2ms/step - loss: 0.0723 - accuracy: 0.9748\n",
      "Epoch 67/100\n",
      "115/115 [==============================] - 0s 2ms/step - loss: 0.0678 - accuracy: 0.9800\n",
      "Epoch 68/100\n",
      "115/115 [==============================] - 0s 2ms/step - loss: 0.0706 - accuracy: 0.9765\n",
      "Epoch 69/100\n",
      "115/115 [==============================] - 0s 2ms/step - loss: 0.0667 - accuracy: 0.9809\n",
      "Epoch 70/100\n",
      "115/115 [==============================] - 0s 1ms/step - loss: 0.0662 - accuracy: 0.9765\n",
      "Epoch 71/100\n",
      "115/115 [==============================] - 0s 1ms/step - loss: 0.0680 - accuracy: 0.9765\n",
      "Epoch 72/100\n",
      "115/115 [==============================] - 0s 2ms/step - loss: 0.0602 - accuracy: 0.9817\n",
      "Epoch 73/100\n",
      "115/115 [==============================] - 0s 1ms/step - loss: 0.0619 - accuracy: 0.9782\n",
      "Epoch 74/100\n",
      "115/115 [==============================] - 0s 2ms/step - loss: 0.0589 - accuracy: 0.9774\n",
      "Epoch 75/100\n",
      "115/115 [==============================] - 0s 1ms/step - loss: 0.0617 - accuracy: 0.9782\n",
      "Epoch 76/100\n",
      "115/115 [==============================] - 0s 2ms/step - loss: 0.0583 - accuracy: 0.9826\n",
      "Epoch 77/100\n",
      "115/115 [==============================] - 0s 1ms/step - loss: 0.0603 - accuracy: 0.9817\n",
      "Epoch 78/100\n",
      "115/115 [==============================] - 0s 2ms/step - loss: 0.0580 - accuracy: 0.9809\n",
      "Epoch 79/100\n",
      "115/115 [==============================] - 0s 1ms/step - loss: 0.0556 - accuracy: 0.9817\n",
      "Epoch 80/100\n",
      "115/115 [==============================] - 0s 1ms/step - loss: 0.0565 - accuracy: 0.9835\n",
      "Epoch 81/100\n"
     ]
    },
    {
     "name": "stdout",
     "output_type": "stream",
     "text": [
      "115/115 [==============================] - 0s 1ms/step - loss: 0.0565 - accuracy: 0.9809\n",
      "Epoch 82/100\n",
      "115/115 [==============================] - 0s 1ms/step - loss: 0.0523 - accuracy: 0.9835\n",
      "Epoch 83/100\n",
      "115/115 [==============================] - 0s 2ms/step - loss: 0.0529 - accuracy: 0.9809\n",
      "Epoch 84/100\n",
      "115/115 [==============================] - 0s 1ms/step - loss: 0.0515 - accuracy: 0.9852\n",
      "Epoch 85/100\n",
      "115/115 [==============================] - 0s 1ms/step - loss: 0.0498 - accuracy: 0.9852\n",
      "Epoch 86/100\n",
      "115/115 [==============================] - 0s 1ms/step - loss: 0.0506 - accuracy: 0.9843\n",
      "Epoch 87/100\n",
      "115/115 [==============================] - 0s 2ms/step - loss: 0.0500 - accuracy: 0.9835\n",
      "Epoch 88/100\n",
      "115/115 [==============================] - 0s 1ms/step - loss: 0.0482 - accuracy: 0.9861\n",
      "Epoch 89/100\n",
      "115/115 [==============================] - 0s 1ms/step - loss: 0.0488 - accuracy: 0.9843\n",
      "Epoch 90/100\n",
      "115/115 [==============================] - 0s 1ms/step - loss: 0.0450 - accuracy: 0.9843\n",
      "Epoch 91/100\n",
      "115/115 [==============================] - 0s 1ms/step - loss: 0.0464 - accuracy: 0.9852\n",
      "Epoch 92/100\n",
      "115/115 [==============================] - 0s 1ms/step - loss: 0.0450 - accuracy: 0.9869\n",
      "Epoch 93/100\n",
      "115/115 [==============================] - 0s 1ms/step - loss: 0.0447 - accuracy: 0.9852\n",
      "Epoch 94/100\n",
      "115/115 [==============================] - 0s 1ms/step - loss: 0.0435 - accuracy: 0.9843\n",
      "Epoch 95/100\n",
      "115/115 [==============================] - 0s 1ms/step - loss: 0.0424 - accuracy: 0.9843\n",
      "Epoch 96/100\n",
      "115/115 [==============================] - 0s 1ms/step - loss: 0.0427 - accuracy: 0.9852\n",
      "Epoch 97/100\n",
      "115/115 [==============================] - 0s 1ms/step - loss: 0.0422 - accuracy: 0.9887\n",
      "Epoch 98/100\n",
      "115/115 [==============================] - 0s 1ms/step - loss: 0.0411 - accuracy: 0.9887\n",
      "Epoch 99/100\n",
      "115/115 [==============================] - 0s 1ms/step - loss: 0.0391 - accuracy: 0.9913\n",
      "Epoch 100/100\n",
      "115/115 [==============================] - 0s 1ms/step - loss: 0.0389 - accuracy: 0.9896\n"
     ]
    }
   ],
   "source": [
    "model = Sequential()\n",
    "model.add(Dense(12, activation='relu', input_dim=64))\n",
    "model.add(Dense(8, activation='relu'))\n",
    "model.add(Dense(1, activation='sigmoid'))\n",
    "\n",
    "model.compile(optimizer='SGD',\n",
    "              loss='binary_crossentropy',\n",
    "              metrics=['accuracy'])\n",
    "\n",
    "# Assign the variable history to store the results,\n",
    "# and set verbose=1 so we can see the output.\n",
    "# increase epochs, decrease batchsize\n",
    "\n",
    "\n",
    "results = model.fit(X_pure_train, y_pure_train, epochs=100, batch_size=10, verbose=1)"
   ]
  },
  {
   "cell_type": "code",
   "execution_count": 15,
   "metadata": {
    "ExecuteTime": {
     "end_time": "2022-05-05T18:18:34.653261Z",
     "start_time": "2022-05-05T18:18:34.187348Z"
    },
    "hidden": true
   },
   "outputs": [
    {
     "data": {
      "image/png": "[encoded data removed]",
      "text/plain": [
       "<Figure size 720x360 with 2 Axes>"
      ]
     },
     "metadata": {
      "needs_background": "light"
     },
     "output_type": "display_data"
    }
   ],
   "source": [
    "relu_loss = results.history['loss']\n",
    "relu_accuracy = results.history['accuracy']\n",
    "\n",
    "fig, (ax1, ax2) = plt.subplots(1, 2, figsize=(10, 5))\n",
    "sns.lineplot(x=results.epoch, y=relu_loss, ax=ax1, label='loss')\n",
    "sns.lineplot(x=results.epoch, y=relu_accuracy, ax=ax2, label='accuracy')\n",
    "ax1.legend();"
   ]
  },
  {
   "cell_type": "markdown",
   "metadata": {
    "heading_collapsed": true,
    "hidden": true
   },
   "source": [
    "### All of it (epochs, batch, relu)"
   ]
  },
  {
   "cell_type": "code",
   "execution_count": null,
   "metadata": {
    "hidden": true
   },
   "outputs": [],
   "source": [
    "model = Sequential()\n",
    "model.add(Dense(12, activation='relu', input_dim=64))\n",
    "model.add(Dense(8, activation='relu'))\n",
    "model.add(Dense(1, activation='sigmoid'))\n",
    "\n",
    "model.compile(optimizer='SGD',\n",
    "              loss='binary_crossentropy',\n",
    "              metrics=['accuracy'])\n",
    "\n",
    "# Assign the variable history to store the results,\n",
    "# and set verbose=1 so we can see the output.\n",
    "# increase epochs\n",
    "\n",
    "\n",
    "results = model.fit(X_pure_train, y_pure_train, epochs=100, batch_size=10, verbose=1)"
   ]
  },
  {
   "cell_type": "code",
   "execution_count": null,
   "metadata": {
    "hidden": true
   },
   "outputs": [],
   "source": [
    "relu_loss = results.history['loss']\n",
    "relu_accuracy = results.history['accuracy']\n",
    "\n",
    "fig, (ax1, ax2) = plt.subplots(1, 2, figsize=(10, 5))\n",
    "sns.lineplot(x=results.epoch, y=relu_loss, ax=ax1, label='loss')\n",
    "sns.lineplot(x=results.epoch, y=relu_accuracy, ax=ax2, label='accuracy')\n",
    "ax1.legend();"
   ]
  },
  {
   "cell_type": "markdown",
   "metadata": {
    "heading_collapsed": true,
    "hidden": true
   },
   "source": [
    "### Side note: learning rate\n",
    "\n",
    "If we increase the learning rate to a very high number, we see that our model overshoots the minimum, and starts bouncing all around."
   ]
  },
  {
   "cell_type": "code",
   "execution_count": 16,
   "metadata": {
    "ExecuteTime": {
     "end_time": "2022-05-05T18:20:08.791632Z",
     "start_time": "2022-05-05T18:20:02.193824Z"
    },
    "hidden": true
   },
   "outputs": [
    {
     "name": "stderr",
     "output_type": "stream",
     "text": [
      "C:\\Users\\jsidd\\anaconda3\\envs\\tfv\\lib\\site-packages\\tensorflow\\python\\keras\\optimizer_v2\\optimizer_v2.py:374: UserWarning: The `lr` argument is deprecated, use `learning_rate` instead.\n",
      "  warnings.warn(\n"
     ]
    },
    {
     "name": "stdout",
     "output_type": "stream",
     "text": [
      "Epoch 1/30\n",
      "115/115 [==============================] - 1s 2ms/step - loss: 72.9258 - accuracy: 0.5065\n",
      "Epoch 2/30\n",
      "115/115 [==============================] - 0s 2ms/step - loss: 0.9416 - accuracy: 0.5170\n",
      "Epoch 3/30\n",
      "115/115 [==============================] - 0s 1ms/step - loss: 1.0061 - accuracy: 0.4909\n",
      "Epoch 4/30\n",
      "115/115 [==============================] - 0s 2ms/step - loss: 1.0377 - accuracy: 0.4961\n",
      "Epoch 5/30\n",
      "115/115 [==============================] - 0s 1ms/step - loss: 0.9164 - accuracy: 0.5213\n",
      "Epoch 6/30\n",
      "115/115 [==============================] - 0s 2ms/step - loss: 1.0265 - accuracy: 0.5004\n",
      "Epoch 7/30\n",
      "115/115 [==============================] - 0s 2ms/step - loss: 0.9510 - accuracy: 0.5126\n",
      "Epoch 8/30\n",
      "115/115 [==============================] - 0s 2ms/step - loss: 1.0589 - accuracy: 0.4830\n",
      "Epoch 9/30\n",
      "115/115 [==============================] - 0s 1ms/step - loss: 1.0020 - accuracy: 0.5135\n",
      "Epoch 10/30\n",
      "115/115 [==============================] - 0s 2ms/step - loss: 0.9771 - accuracy: 0.5065\n",
      "Epoch 11/30\n",
      "115/115 [==============================] - 0s 1ms/step - loss: 0.9952 - accuracy: 0.5013\n",
      "Epoch 12/30\n",
      "115/115 [==============================] - 0s 1ms/step - loss: 1.0689 - accuracy: 0.4735\n",
      "Epoch 13/30\n",
      "115/115 [==============================] - 0s 1ms/step - loss: 1.0790 - accuracy: 0.4856\n",
      "Epoch 14/30\n",
      "115/115 [==============================] - 0s 1ms/step - loss: 1.0856 - accuracy: 0.4778\n",
      "Epoch 15/30\n",
      "115/115 [==============================] - 0s 1ms/step - loss: 1.0374 - accuracy: 0.5004\n",
      "Epoch 16/30\n",
      "115/115 [==============================] - 0s 2ms/step - loss: 1.0546 - accuracy: 0.4787\n",
      "Epoch 17/30\n",
      "115/115 [==============================] - 0s 1ms/step - loss: 1.0094 - accuracy: 0.4830\n",
      "Epoch 18/30\n",
      "115/115 [==============================] - 0s 1ms/step - loss: 1.0362 - accuracy: 0.4891\n",
      "Epoch 19/30\n",
      "115/115 [==============================] - 0s 2ms/step - loss: 0.8987 - accuracy: 0.5109\n",
      "Epoch 20/30\n",
      "115/115 [==============================] - 0s 1ms/step - loss: 1.0292 - accuracy: 0.5039\n",
      "Epoch 21/30\n",
      "115/115 [==============================] - 0s 1ms/step - loss: 0.9547 - accuracy: 0.4961\n",
      "Epoch 22/30\n",
      "115/115 [==============================] - 0s 1ms/step - loss: 0.9369 - accuracy: 0.5283\n",
      "Epoch 23/30\n",
      "115/115 [==============================] - 0s 2ms/step - loss: 1.0070 - accuracy: 0.5065\n",
      "Epoch 24/30\n",
      "115/115 [==============================] - 0s 1ms/step - loss: 0.9924 - accuracy: 0.4952\n",
      "Epoch 25/30\n",
      "115/115 [==============================] - 0s 2ms/step - loss: 1.0273 - accuracy: 0.5109\n",
      "Epoch 26/30\n",
      "115/115 [==============================] - 0s 2ms/step - loss: 0.9321 - accuracy: 0.5196\n",
      "Epoch 27/30\n",
      "115/115 [==============================] - 0s 1ms/step - loss: 1.0463 - accuracy: 0.5039\n",
      "Epoch 28/30\n",
      "115/115 [==============================] - 0s 1ms/step - loss: 1.0005 - accuracy: 0.5083\n",
      "Epoch 29/30\n",
      "115/115 [==============================] - 0s 1ms/step - loss: 1.0321 - accuracy: 0.4943\n",
      "Epoch 30/30\n",
      "115/115 [==============================] - 0s 2ms/step - loss: 0.9746 - accuracy: 0.5013\n"
     ]
    },
    {
     "data": {
      "image/png": "[encoded data removed]",
      "text/plain": [
       "<Figure size 720x360 with 2 Axes>"
      ]
     },
     "metadata": {
      "needs_background": "light"
     },
     "output_type": "display_data"
    }
   ],
   "source": [
    "model = Sequential()\n",
    "\n",
    "sgd = SGD(lr=9)\n",
    "\n",
    "\n",
    "model.add(Dense(12, activation='relu', input_dim=64))\n",
    "model.add(Dense(8, activation='relu'))\n",
    "model.add(Dense(1, activation='sigmoid'))\n",
    "\n",
    "model.compile(optimizer=sgd,\n",
    "              loss='binary_crossentropy',\n",
    "              metrics=['accuracy'])\n",
    "\n",
    "results = model.fit(X_pure_train, y_pure_train,\n",
    "                    epochs=30, batch_size=10, verbose=1)\n",
    "\n",
    "relu_loss = results.history['loss']\n",
    "relu_accuracy = results.history['accuracy']\n",
    "\n",
    "fig, (ax1, ax2) = plt.subplots(1, 2, figsize=(10, 5))\n",
    "sns.lineplot(x=results.epoch, y=relu_loss, ax=ax1, label='loss')\n",
    "sns.lineplot(x=results.epoch, y=relu_accuracy, ax=ax2, label='accuracy')\n",
    "ax1.legend();"
   ]
  },
  {
   "cell_type": "markdown",
   "metadata": {
    "heading_collapsed": true,
    "hidden": true
   },
   "source": [
    "### Exercise\n",
    "\n",
    "We have been looking only at our training set. Let's add in our validation set to the picture. Check the docstring for the `.fit()` method and add in our validation data."
   ]
  },
  {
   "cell_type": "code",
   "execution_count": 19,
   "metadata": {
    "ExecuteTime": {
     "end_time": "2022-05-05T18:25:50.680095Z",
     "start_time": "2022-05-05T18:25:21.525775Z"
    },
    "hidden": true
   },
   "outputs": [
    {
     "name": "stdout",
     "output_type": "stream",
     "text": [
      "Epoch 1/100\n",
      "115/115 [==============================] - 1s 5ms/step - loss: 0.6351 - accuracy: 0.7102 - val_loss: 0.5306 - val_accuracy: 0.8472\n",
      "Epoch 2/100\n",
      "115/115 [==============================] - 0s 2ms/step - loss: 0.4084 - accuracy: 0.8564 - val_loss: 0.3008 - val_accuracy: 0.8993\n",
      "Epoch 3/100\n",
      "115/115 [==============================] - 0s 3ms/step - loss: 0.2626 - accuracy: 0.8999 - val_loss: 0.2155 - val_accuracy: 0.9167\n",
      "Epoch 4/100\n",
      "115/115 [==============================] - 0s 2ms/step - loss: 0.2080 - accuracy: 0.9104 - val_loss: 0.1780 - val_accuracy: 0.9271\n",
      "Epoch 5/100\n",
      "115/115 [==============================] - 0s 2ms/step - loss: 0.1779 - accuracy: 0.9304 - val_loss: 0.1720 - val_accuracy: 0.9375\n",
      "Epoch 6/100\n",
      "115/115 [==============================] - 0s 2ms/step - loss: 0.1569 - accuracy: 0.9347 - val_loss: 0.1487 - val_accuracy: 0.9375\n",
      "Epoch 7/100\n",
      "115/115 [==============================] - 0s 2ms/step - loss: 0.1410 - accuracy: 0.9417 - val_loss: 0.1322 - val_accuracy: 0.9340\n",
      "Epoch 8/100\n",
      "115/115 [==============================] - 0s 2ms/step - loss: 0.1262 - accuracy: 0.9513 - val_loss: 0.1305 - val_accuracy: 0.9479\n",
      "Epoch 9/100\n",
      "115/115 [==============================] - 0s 2ms/step - loss: 0.1146 - accuracy: 0.9539 - val_loss: 0.1243 - val_accuracy: 0.9479\n",
      "Epoch 10/100\n",
      "115/115 [==============================] - 0s 2ms/step - loss: 0.1058 - accuracy: 0.9626 - val_loss: 0.1155 - val_accuracy: 0.9618\n",
      "Epoch 11/100\n",
      "115/115 [==============================] - 0s 3ms/step - loss: 0.1004 - accuracy: 0.9626 - val_loss: 0.1194 - val_accuracy: 0.9549\n",
      "Epoch 12/100\n",
      "115/115 [==============================] - 0s 2ms/step - loss: 0.0920 - accuracy: 0.9608 - val_loss: 0.1115 - val_accuracy: 0.9514\n",
      "Epoch 13/100\n",
      "115/115 [==============================] - 0s 2ms/step - loss: 0.0833 - accuracy: 0.9695 - val_loss: 0.0987 - val_accuracy: 0.9583\n",
      "Epoch 14/100\n",
      "115/115 [==============================] - 0s 2ms/step - loss: 0.0782 - accuracy: 0.9704 - val_loss: 0.0977 - val_accuracy: 0.9618\n",
      "Epoch 15/100\n",
      "115/115 [==============================] - 0s 2ms/step - loss: 0.0726 - accuracy: 0.9748 - val_loss: 0.1418 - val_accuracy: 0.9549\n",
      "Epoch 16/100\n",
      "115/115 [==============================] - 0s 2ms/step - loss: 0.0704 - accuracy: 0.9721 - val_loss: 0.0925 - val_accuracy: 0.9583\n",
      "Epoch 17/100\n",
      "115/115 [==============================] - 0s 2ms/step - loss: 0.0614 - accuracy: 0.9782 - val_loss: 0.0871 - val_accuracy: 0.9722\n",
      "Epoch 18/100\n",
      "115/115 [==============================] - 0s 2ms/step - loss: 0.0577 - accuracy: 0.9809 - val_loss: 0.0883 - val_accuracy: 0.9618\n",
      "Epoch 19/100\n",
      "115/115 [==============================] - 0s 2ms/step - loss: 0.0522 - accuracy: 0.9843 - val_loss: 0.0952 - val_accuracy: 0.9688\n",
      "Epoch 20/100\n",
      "115/115 [==============================] - 0s 2ms/step - loss: 0.0505 - accuracy: 0.9852 - val_loss: 0.0923 - val_accuracy: 0.9722\n",
      "Epoch 21/100\n",
      "115/115 [==============================] - 0s 2ms/step - loss: 0.0480 - accuracy: 0.9843 - val_loss: 0.1188 - val_accuracy: 0.9549\n",
      "Epoch 22/100\n",
      "115/115 [==============================] - 0s 2ms/step - loss: 0.0431 - accuracy: 0.9861 - val_loss: 0.1133 - val_accuracy: 0.9583\n",
      "Epoch 23/100\n",
      "115/115 [==============================] - 0s 2ms/step - loss: 0.0421 - accuracy: 0.9861 - val_loss: 0.0887 - val_accuracy: 0.9722\n",
      "Epoch 24/100\n",
      "115/115 [==============================] - 0s 3ms/step - loss: 0.0382 - accuracy: 0.9887 - val_loss: 0.0889 - val_accuracy: 0.9722\n",
      "Epoch 25/100\n",
      "115/115 [==============================] - 0s 3ms/step - loss: 0.0312 - accuracy: 0.9904 - val_loss: 0.0899 - val_accuracy: 0.9653\n",
      "Epoch 26/100\n",
      "115/115 [==============================] - 0s 2ms/step - loss: 0.0298 - accuracy: 0.9922 - val_loss: 0.0925 - val_accuracy: 0.9722\n",
      "Epoch 27/100\n",
      "115/115 [==============================] - 0s 2ms/step - loss: 0.0262 - accuracy: 0.9965 - val_loss: 0.0955 - val_accuracy: 0.9757\n",
      "Epoch 28/100\n",
      "115/115 [==============================] - 0s 2ms/step - loss: 0.0271 - accuracy: 0.9913 - val_loss: 0.1060 - val_accuracy: 0.9722\n",
      "Epoch 29/100\n",
      "115/115 [==============================] - 0s 2ms/step - loss: 0.0272 - accuracy: 0.9930 - val_loss: 0.1062 - val_accuracy: 0.9688\n",
      "Epoch 30/100\n",
      "115/115 [==============================] - 0s 2ms/step - loss: 0.0237 - accuracy: 0.9922 - val_loss: 0.1069 - val_accuracy: 0.9722\n",
      "Epoch 31/100\n",
      "115/115 [==============================] - 0s 2ms/step - loss: 0.0201 - accuracy: 0.9974 - val_loss: 0.0977 - val_accuracy: 0.9688\n",
      "Epoch 32/100\n",
      "115/115 [==============================] - 0s 2ms/step - loss: 0.0205 - accuracy: 0.9956 - val_loss: 0.0961 - val_accuracy: 0.9722\n",
      "Epoch 33/100\n",
      "115/115 [==============================] - 0s 2ms/step - loss: 0.0169 - accuracy: 0.9974 - val_loss: 0.0861 - val_accuracy: 0.9722\n",
      "Epoch 34/100\n",
      "115/115 [==============================] - 0s 2ms/step - loss: 0.0151 - accuracy: 0.9983 - val_loss: 0.1015 - val_accuracy: 0.9757\n",
      "Epoch 35/100\n",
      "115/115 [==============================] - 0s 2ms/step - loss: 0.0191 - accuracy: 0.9956 - val_loss: 0.1017 - val_accuracy: 0.9722\n",
      "Epoch 36/100\n",
      "115/115 [==============================] - 0s 2ms/step - loss: 0.0134 - accuracy: 0.9983 - val_loss: 0.1020 - val_accuracy: 0.9688\n",
      "Epoch 37/100\n",
      "115/115 [==============================] - 0s 2ms/step - loss: 0.0116 - accuracy: 0.9983 - val_loss: 0.1027 - val_accuracy: 0.9688\n",
      "Epoch 38/100\n",
      "115/115 [==============================] - 0s 2ms/step - loss: 0.0124 - accuracy: 0.9991 - val_loss: 0.1030 - val_accuracy: 0.9688\n",
      "Epoch 39/100\n",
      "115/115 [==============================] - 0s 2ms/step - loss: 0.0091 - accuracy: 0.9991 - val_loss: 0.1119 - val_accuracy: 0.9757\n",
      "Epoch 40/100\n",
      "115/115 [==============================] - 0s 2ms/step - loss: 0.0090 - accuracy: 1.0000 - val_loss: 0.1007 - val_accuracy: 0.9722\n",
      "Epoch 41/100\n",
      "115/115 [==============================] - 0s 3ms/step - loss: 0.0079 - accuracy: 1.0000 - val_loss: 0.1202 - val_accuracy: 0.9722\n",
      "Epoch 42/100\n",
      "115/115 [==============================] - 0s 2ms/step - loss: 0.0094 - accuracy: 0.9991 - val_loss: 0.1209 - val_accuracy: 0.9653\n",
      "Epoch 43/100\n",
      "115/115 [==============================] - 0s 2ms/step - loss: 0.0076 - accuracy: 1.0000 - val_loss: 0.1006 - val_accuracy: 0.9722\n",
      "Epoch 44/100\n",
      "115/115 [==============================] - 0s 2ms/step - loss: 0.0070 - accuracy: 1.0000 - val_loss: 0.1118 - val_accuracy: 0.9722\n",
      "Epoch 45/100\n",
      "115/115 [==============================] - 0s 2ms/step - loss: 0.0055 - accuracy: 1.0000 - val_loss: 0.1274 - val_accuracy: 0.9757\n",
      "Epoch 46/100\n",
      "115/115 [==============================] - 0s 2ms/step - loss: 0.0065 - accuracy: 0.9991 - val_loss: 0.1405 - val_accuracy: 0.9618\n",
      "Epoch 47/100\n",
      "115/115 [==============================] - 0s 2ms/step - loss: 0.0095 - accuracy: 0.9974 - val_loss: 0.1090 - val_accuracy: 0.9688\n",
      "Epoch 48/100\n",
      "115/115 [==============================] - 0s 2ms/step - loss: 0.0043 - accuracy: 1.0000 - val_loss: 0.1037 - val_accuracy: 0.9757\n",
      "Epoch 49/100\n",
      "115/115 [==============================] - 0s 2ms/step - loss: 0.0045 - accuracy: 1.0000 - val_loss: 0.1032 - val_accuracy: 0.9757\n",
      "Epoch 50/100\n",
      "115/115 [==============================] - 0s 2ms/step - loss: 0.0039 - accuracy: 1.0000 - val_loss: 0.1005 - val_accuracy: 0.9757\n",
      "Epoch 51/100\n",
      "115/115 [==============================] - 0s 2ms/step - loss: 0.0054 - accuracy: 1.0000 - val_loss: 0.0992 - val_accuracy: 0.9757\n",
      "Epoch 52/100\n",
      "115/115 [==============================] - 0s 2ms/step - loss: 0.0031 - accuracy: 1.0000 - val_loss: 0.1060 - val_accuracy: 0.9688\n",
      "Epoch 53/100\n",
      "115/115 [==============================] - 0s 2ms/step - loss: 0.0028 - accuracy: 1.0000 - val_loss: 0.1027 - val_accuracy: 0.9757\n",
      "Epoch 54/100\n",
      "115/115 [==============================] - 0s 2ms/step - loss: 0.0027 - accuracy: 1.0000 - val_loss: 0.1086 - val_accuracy: 0.9722\n",
      "Epoch 55/100\n",
      "115/115 [==============================] - 0s 2ms/step - loss: 0.0022 - accuracy: 1.0000 - val_loss: 0.1140 - val_accuracy: 0.9722\n",
      "Epoch 56/100\n",
      "115/115 [==============================] - 0s 2ms/step - loss: 0.0021 - accuracy: 1.0000 - val_loss: 0.1137 - val_accuracy: 0.9722\n",
      "Epoch 57/100\n",
      "115/115 [==============================] - 0s 2ms/step - loss: 0.0021 - accuracy: 1.0000 - val_loss: 0.1090 - val_accuracy: 0.9757\n"
     ]
    },
    {
     "name": "stdout",
     "output_type": "stream",
     "text": [
      "Epoch 58/100\n",
      "115/115 [==============================] - 0s 2ms/step - loss: 0.0018 - accuracy: 1.0000 - val_loss: 0.1161 - val_accuracy: 0.9722\n",
      "Epoch 59/100\n",
      "115/115 [==============================] - 0s 2ms/step - loss: 0.0016 - accuracy: 1.0000 - val_loss: 0.1115 - val_accuracy: 0.9757\n",
      "Epoch 60/100\n",
      "115/115 [==============================] - 0s 2ms/step - loss: 0.0016 - accuracy: 1.0000 - val_loss: 0.1208 - val_accuracy: 0.9688\n",
      "Epoch 61/100\n",
      "115/115 [==============================] - 0s 2ms/step - loss: 0.0014 - accuracy: 1.0000 - val_loss: 0.1162 - val_accuracy: 0.9722\n",
      "Epoch 62/100\n",
      "115/115 [==============================] - 0s 2ms/step - loss: 0.0014 - accuracy: 1.0000 - val_loss: 0.1304 - val_accuracy: 0.9688\n",
      "Epoch 63/100\n",
      "115/115 [==============================] - 0s 2ms/step - loss: 0.0016 - accuracy: 1.0000 - val_loss: 0.1244 - val_accuracy: 0.9722\n",
      "Epoch 64/100\n",
      "115/115 [==============================] - 0s 3ms/step - loss: 0.0012 - accuracy: 1.0000 - val_loss: 0.1295 - val_accuracy: 0.9722\n",
      "Epoch 65/100\n",
      "115/115 [==============================] - 0s 2ms/step - loss: 0.0011 - accuracy: 1.0000 - val_loss: 0.1247 - val_accuracy: 0.9722\n",
      "Epoch 66/100\n",
      "115/115 [==============================] - 0s 2ms/step - loss: 9.2095e-04 - accuracy: 1.0000 - val_loss: 0.1198 - val_accuracy: 0.9757\n",
      "Epoch 67/100\n",
      "115/115 [==============================] - 0s 2ms/step - loss: 8.8646e-04 - accuracy: 1.0000 - val_loss: 0.1200 - val_accuracy: 0.9757\n",
      "Epoch 68/100\n",
      "115/115 [==============================] - 0s 2ms/step - loss: 7.7385e-04 - accuracy: 1.0000 - val_loss: 0.1269 - val_accuracy: 0.9757\n",
      "Epoch 69/100\n",
      "115/115 [==============================] - 0s 2ms/step - loss: 7.4450e-04 - accuracy: 1.0000 - val_loss: 0.1191 - val_accuracy: 0.9757\n",
      "Epoch 70/100\n",
      "115/115 [==============================] - 0s 2ms/step - loss: 6.5472e-04 - accuracy: 1.0000 - val_loss: 0.1265 - val_accuracy: 0.9722\n",
      "Epoch 71/100\n",
      "115/115 [==============================] - 0s 2ms/step - loss: 8.9226e-04 - accuracy: 1.0000 - val_loss: 0.1311 - val_accuracy: 0.9757\n",
      "Epoch 72/100\n",
      "115/115 [==============================] - 0s 2ms/step - loss: 5.8311e-04 - accuracy: 1.0000 - val_loss: 0.1209 - val_accuracy: 0.9757\n",
      "Epoch 73/100\n",
      "115/115 [==============================] - 0s 2ms/step - loss: 5.6406e-04 - accuracy: 1.0000 - val_loss: 0.1371 - val_accuracy: 0.9757\n",
      "Epoch 74/100\n",
      "115/115 [==============================] - 0s 2ms/step - loss: 5.5408e-04 - accuracy: 1.0000 - val_loss: 0.1320 - val_accuracy: 0.9757\n",
      "Epoch 75/100\n",
      "115/115 [==============================] - 0s 2ms/step - loss: 6.5699e-04 - accuracy: 1.0000 - val_loss: 0.1092 - val_accuracy: 0.9792\n",
      "Epoch 76/100\n",
      "115/115 [==============================] - 0s 2ms/step - loss: 0.0011 - accuracy: 1.0000 - val_loss: 0.1476 - val_accuracy: 0.9757\n",
      "Epoch 77/100\n",
      "115/115 [==============================] - 0s 2ms/step - loss: 0.0013 - accuracy: 1.0000 - val_loss: 0.1470 - val_accuracy: 0.9688\n",
      "Epoch 78/100\n",
      "115/115 [==============================] - 0s 2ms/step - loss: 4.9253e-04 - accuracy: 1.0000 - val_loss: 0.1257 - val_accuracy: 0.9722\n",
      "Epoch 79/100\n",
      "115/115 [==============================] - 0s 2ms/step - loss: 3.3727e-04 - accuracy: 1.0000 - val_loss: 0.1251 - val_accuracy: 0.9688\n",
      "Epoch 80/100\n",
      "115/115 [==============================] - 0s 2ms/step - loss: 3.3354e-04 - accuracy: 1.0000 - val_loss: 0.1239 - val_accuracy: 0.9792\n",
      "Epoch 81/100\n",
      "115/115 [==============================] - 0s 2ms/step - loss: 2.9900e-04 - accuracy: 1.0000 - val_loss: 0.1291 - val_accuracy: 0.9688\n",
      "Epoch 82/100\n",
      "115/115 [==============================] - 0s 2ms/step - loss: 3.1010e-04 - accuracy: 1.0000 - val_loss: 0.1243 - val_accuracy: 0.9757\n",
      "Epoch 83/100\n",
      "115/115 [==============================] - 0s 2ms/step - loss: 2.3334e-04 - accuracy: 1.0000 - val_loss: 0.1337 - val_accuracy: 0.9688\n",
      "Epoch 84/100\n",
      "115/115 [==============================] - 0s 2ms/step - loss: 2.4516e-04 - accuracy: 1.0000 - val_loss: 0.1280 - val_accuracy: 0.9757\n",
      "Epoch 85/100\n",
      "115/115 [==============================] - 0s 2ms/step - loss: 2.2622e-04 - accuracy: 1.0000 - val_loss: 0.1340 - val_accuracy: 0.9757\n",
      "Epoch 86/100\n",
      "115/115 [==============================] - 0s 2ms/step - loss: 2.1450e-04 - accuracy: 1.0000 - val_loss: 0.1373 - val_accuracy: 0.9757\n",
      "Epoch 87/100\n",
      "115/115 [==============================] - 0s 2ms/step - loss: 1.7915e-04 - accuracy: 1.0000 - val_loss: 0.1321 - val_accuracy: 0.9757\n",
      "Epoch 88/100\n",
      "115/115 [==============================] - 0s 2ms/step - loss: 1.9047e-04 - accuracy: 1.0000 - val_loss: 0.1305 - val_accuracy: 0.9757\n",
      "Epoch 89/100\n",
      "115/115 [==============================] - 0s 2ms/step - loss: 1.5866e-04 - accuracy: 1.0000 - val_loss: 0.1319 - val_accuracy: 0.9757\n",
      "Epoch 90/100\n",
      "115/115 [==============================] - 0s 2ms/step - loss: 1.8092e-04 - accuracy: 1.0000 - val_loss: 0.1414 - val_accuracy: 0.9757\n",
      "Epoch 91/100\n",
      "115/115 [==============================] - 0s 2ms/step - loss: 1.4926e-04 - accuracy: 1.0000 - val_loss: 0.1346 - val_accuracy: 0.9757\n",
      "Epoch 92/100\n",
      "115/115 [==============================] - 0s 2ms/step - loss: 1.4813e-04 - accuracy: 1.0000 - val_loss: 0.1345 - val_accuracy: 0.9757\n",
      "Epoch 93/100\n",
      "115/115 [==============================] - 0s 2ms/step - loss: 1.2586e-04 - accuracy: 1.0000 - val_loss: 0.1367 - val_accuracy: 0.9757\n",
      "Epoch 94/100\n",
      "115/115 [==============================] - 0s 2ms/step - loss: 1.4851e-04 - accuracy: 1.0000 - val_loss: 0.1292 - val_accuracy: 0.9792\n",
      "Epoch 95/100\n",
      "115/115 [==============================] - 0s 2ms/step - loss: 1.1864e-04 - accuracy: 1.0000 - val_loss: 0.1373 - val_accuracy: 0.9792\n",
      "Epoch 96/100\n",
      "115/115 [==============================] - 0s 3ms/step - loss: 1.0037e-04 - accuracy: 1.0000 - val_loss: 0.1395 - val_accuracy: 0.9792\n",
      "Epoch 97/100\n",
      "115/115 [==============================] - 0s 2ms/step - loss: 1.1874e-04 - accuracy: 1.0000 - val_loss: 0.1417 - val_accuracy: 0.9792\n",
      "Epoch 98/100\n",
      "115/115 [==============================] - 0s 2ms/step - loss: 9.0910e-05 - accuracy: 1.0000 - val_loss: 0.1396 - val_accuracy: 0.9757\n",
      "Epoch 99/100\n",
      "115/115 [==============================] - 0s 2ms/step - loss: 8.5926e-05 - accuracy: 1.0000 - val_loss: 0.1363 - val_accuracy: 0.9722\n",
      "Epoch 100/100\n",
      "115/115 [==============================] - 0s 2ms/step - loss: 8.3929e-05 - accuracy: 1.0000 - val_loss: 0.1412 - val_accuracy: 0.9792\n"
     ]
    },
    {
     "data": {
      "image/png": "[encoded data removed]",
      "text/plain": [
       "<Figure size 720x360 with 2 Axes>"
      ]
     },
     "metadata": {
      "needs_background": "light"
     },
     "output_type": "display_data"
    }
   ],
   "source": [
    "model = Sequential()\n",
    "model.add(Dense(12, activation='relu', input_dim=64))\n",
    "model.add(Dense(8, activation='relu'))\n",
    "model.add(Dense(4, activation='relu'))\n",
    "model.add(Dense(1, activation='sigmoid'))\n",
    "\n",
    "model.compile(optimizer='adam',\n",
    "              loss='binary_crossentropy',\n",
    "              metrics=['accuracy'])\n",
    "\n",
    "\n",
    "## YOUR CODE HERE\n",
    "results = model.fit(X_pure_train, y_pure_train, \n",
    "                    epochs=100, \n",
    "                    batch_size=10, \n",
    "                    verbose=1, \n",
    "                    validation_data=(X_val, y_val))\n",
    "\n",
    "train_loss = results.history['loss']\n",
    "train_acc = results.history['accuracy']\n",
    "val_loss = results.history['val_loss']\n",
    "val_acc = results.history['val_accuracy']\n",
    "\n",
    "fig, (ax1, ax2) = plt.subplots(1, 2, figsize=(10, 5))\n",
    "sns.lineplot(x=results.epoch, y=train_loss, ax=ax1, label='train_loss')\n",
    "sns.lineplot(x=results.epoch, y=train_acc, ax=ax2, label='train_accuracy')\n",
    "\n",
    "sns.lineplot(x=results.epoch, y=val_loss, ax=ax1, label='val_loss')\n",
    "sns.lineplot(x=results.epoch, y=val_acc, ax=ax2, label='val_accuracy')\n",
    "ax1.set_title('Loss')\n",
    "ax2.set_title('Accuracy')\n",
    "ax1.legend();"
   ]
  },
  {
   "cell_type": "code",
   "execution_count": 21,
   "metadata": {
    "ExecuteTime": {
     "end_time": "2022-05-05T18:27:05.310734Z",
     "start_time": "2022-05-05T18:27:05.086303Z"
    }
   },
   "outputs": [
    {
     "data": {
      "text/plain": [
       "{'loss': [0.6351127028465271,\n",
       "  0.40843233466148376,\n",
       "  0.2625555396080017,\n",
       "  0.20801149308681488,\n",
       "  0.1778995543718338,\n",
       "  0.15690067410469055,\n",
       "  0.14101676642894745,\n",
       "  0.12624956667423248,\n",
       "  0.11456198245286942,\n",
       "  0.10584760457277298,\n",
       "  0.1003902405500412,\n",
       "  0.09204651415348053,\n",
       "  0.08330374211072922,\n",
       "  0.07820408046245575,\n",
       "  0.07257717847824097,\n",
       "  0.07042934745550156,\n",
       "  0.061405882239341736,\n",
       "  0.057713959366083145,\n",
       "  0.05215876176953316,\n",
       "  0.05049526318907738,\n",
       "  0.04804571717977524,\n",
       "  0.04310467466711998,\n",
       "  0.04207581281661987,\n",
       "  0.03818187117576599,\n",
       "  0.031224027276039124,\n",
       "  0.02977902442216873,\n",
       "  0.026210004463791847,\n",
       "  0.027112534269690514,\n",
       "  0.02723289653658867,\n",
       "  0.023735135793685913,\n",
       "  0.02009519934654236,\n",
       "  0.020456453785300255,\n",
       "  0.01693597435951233,\n",
       "  0.015142330899834633,\n",
       "  0.019093366339802742,\n",
       "  0.013372446410357952,\n",
       "  0.011572440154850483,\n",
       "  0.012424529530107975,\n",
       "  0.009084894321858883,\n",
       "  0.008960898965597153,\n",
       "  0.007876095362007618,\n",
       "  0.00935193058103323,\n",
       "  0.007550430484116077,\n",
       "  0.0069534811191260815,\n",
       "  0.005476697813719511,\n",
       "  0.006519918330013752,\n",
       "  0.009510891512036324,\n",
       "  0.004317763727158308,\n",
       "  0.004471445456147194,\n",
       "  0.0038807904347777367,\n",
       "  0.0054482463747262955,\n",
       "  0.0031096774619072676,\n",
       "  0.002784993499517441,\n",
       "  0.002736664144322276,\n",
       "  0.002212264109402895,\n",
       "  0.00209597940556705,\n",
       "  0.002121335593983531,\n",
       "  0.0018372737104073167,\n",
       "  0.0015946796629577875,\n",
       "  0.001601914525963366,\n",
       "  0.0014123835135251284,\n",
       "  0.0013980289222672582,\n",
       "  0.0016296247486025095,\n",
       "  0.001183331129141152,\n",
       "  0.0010681390995159745,\n",
       "  0.0009209491545334458,\n",
       "  0.0008864629198797047,\n",
       "  0.0007738483254797757,\n",
       "  0.0007444984512403607,\n",
       "  0.000654721399769187,\n",
       "  0.0008922593551687896,\n",
       "  0.0005831081653013825,\n",
       "  0.0005640556919388473,\n",
       "  0.0005540780839510262,\n",
       "  0.0006569881807081401,\n",
       "  0.0010940770152956247,\n",
       "  0.0012876905966550112,\n",
       "  0.0004925281973555684,\n",
       "  0.00033726796391420066,\n",
       "  0.0003335424407850951,\n",
       "  0.0002990040520671755,\n",
       "  0.00031009528902359307,\n",
       "  0.0002333402808289975,\n",
       "  0.0002451569016557187,\n",
       "  0.00022622471442446113,\n",
       "  0.0002145022590411827,\n",
       "  0.0001791471877368167,\n",
       "  0.0001904670789372176,\n",
       "  0.00015865919704083353,\n",
       "  0.0001809189561754465,\n",
       "  0.00014926456788089126,\n",
       "  0.0001481278013670817,\n",
       "  0.0001258564298041165,\n",
       "  0.00014851416926831007,\n",
       "  0.00011864032421726733,\n",
       "  0.00010036757885245606,\n",
       "  0.00011874307529069483,\n",
       "  9.091049287235364e-05,\n",
       "  8.592626545578241e-05,\n",
       "  8.392928430112079e-05],\n",
       " 'accuracy': [0.710182785987854,\n",
       "  0.8563968539237976,\n",
       "  0.89991295337677,\n",
       "  0.9103568196296692,\n",
       "  0.930374264717102,\n",
       "  0.934725821018219,\n",
       "  0.9416884183883667,\n",
       "  0.9512619376182556,\n",
       "  0.9538729190826416,\n",
       "  0.962576150894165,\n",
       "  0.962576150894165,\n",
       "  0.9608355164527893,\n",
       "  0.9695387482643127,\n",
       "  0.9704090356826782,\n",
       "  0.9747606515884399,\n",
       "  0.972149670124054,\n",
       "  0.9782419204711914,\n",
       "  0.9808529019355774,\n",
       "  0.9843342304229736,\n",
       "  0.9852045178413391,\n",
       "  0.9843342304229736,\n",
       "  0.9860748648643494,\n",
       "  0.9860748648643494,\n",
       "  0.9886857867240906,\n",
       "  0.9904264807701111,\n",
       "  0.9921671152114868,\n",
       "  0.9965187311172485,\n",
       "  0.9912967681884766,\n",
       "  0.9930374026298523,\n",
       "  0.9921671152114868,\n",
       "  0.997389018535614,\n",
       "  0.9956483840942383,\n",
       "  0.997389018535614,\n",
       "  0.9982593655586243,\n",
       "  0.9956483840942383,\n",
       "  0.9982593655586243,\n",
       "  0.9982593655586243,\n",
       "  0.9991296529769897,\n",
       "  0.9991296529769897,\n",
       "  1.0,\n",
       "  1.0,\n",
       "  0.9991296529769897,\n",
       "  1.0,\n",
       "  1.0,\n",
       "  1.0,\n",
       "  0.9991296529769897,\n",
       "  0.997389018535614,\n",
       "  1.0,\n",
       "  1.0,\n",
       "  1.0,\n",
       "  1.0,\n",
       "  1.0,\n",
       "  1.0,\n",
       "  1.0,\n",
       "  1.0,\n",
       "  1.0,\n",
       "  1.0,\n",
       "  1.0,\n",
       "  1.0,\n",
       "  1.0,\n",
       "  1.0,\n",
       "  1.0,\n",
       "  1.0,\n",
       "  1.0,\n",
       "  1.0,\n",
       "  1.0,\n",
       "  1.0,\n",
       "  1.0,\n",
       "  1.0,\n",
       "  1.0,\n",
       "  1.0,\n",
       "  1.0,\n",
       "  1.0,\n",
       "  1.0,\n",
       "  1.0,\n",
       "  1.0,\n",
       "  1.0,\n",
       "  1.0,\n",
       "  1.0,\n",
       "  1.0,\n",
       "  1.0,\n",
       "  1.0,\n",
       "  1.0,\n",
       "  1.0,\n",
       "  1.0,\n",
       "  1.0,\n",
       "  1.0,\n",
       "  1.0,\n",
       "  1.0,\n",
       "  1.0,\n",
       "  1.0,\n",
       "  1.0,\n",
       "  1.0,\n",
       "  1.0,\n",
       "  1.0,\n",
       "  1.0,\n",
       "  1.0,\n",
       "  1.0,\n",
       "  1.0,\n",
       "  1.0],\n",
       " 'val_loss': [0.5305917859077454,\n",
       "  0.30082398653030396,\n",
       "  0.21551263332366943,\n",
       "  0.17800158262252808,\n",
       "  0.17204385995864868,\n",
       "  0.1487066149711609,\n",
       "  0.1321605145931244,\n",
       "  0.1304745376110077,\n",
       "  0.12427139282226562,\n",
       "  0.11548585444688797,\n",
       "  0.11938333511352539,\n",
       "  0.1114891767501831,\n",
       "  0.09873407334089279,\n",
       "  0.09768318384885788,\n",
       "  0.14181815087795258,\n",
       "  0.09246483445167542,\n",
       "  0.08714386820793152,\n",
       "  0.0882641151547432,\n",
       "  0.09524182975292206,\n",
       "  0.09233507513999939,\n",
       "  0.11883573979139328,\n",
       "  0.1133170947432518,\n",
       "  0.08873933553695679,\n",
       "  0.0888562723994255,\n",
       "  0.08992160856723785,\n",
       "  0.09251774102449417,\n",
       "  0.09552101790904999,\n",
       "  0.10599858313798904,\n",
       "  0.10617026686668396,\n",
       "  0.10694922506809235,\n",
       "  0.09765588492155075,\n",
       "  0.0961175486445427,\n",
       "  0.08614962548017502,\n",
       "  0.10152173042297363,\n",
       "  0.101698137819767,\n",
       "  0.10197141766548157,\n",
       "  0.10273972153663635,\n",
       "  0.10303197801113129,\n",
       "  0.11192414164543152,\n",
       "  0.10074806958436966,\n",
       "  0.12020564079284668,\n",
       "  0.12090018391609192,\n",
       "  0.10063931345939636,\n",
       "  0.1117708832025528,\n",
       "  0.1273951232433319,\n",
       "  0.14046752452850342,\n",
       "  0.10895046591758728,\n",
       "  0.10368169844150543,\n",
       "  0.10321664065122604,\n",
       "  0.10049859434366226,\n",
       "  0.09919103980064392,\n",
       "  0.10595852136611938,\n",
       "  0.1026853621006012,\n",
       "  0.10858241468667984,\n",
       "  0.11396832019090652,\n",
       "  0.11371329426765442,\n",
       "  0.10904574394226074,\n",
       "  0.11610191315412521,\n",
       "  0.1114635169506073,\n",
       "  0.12075451016426086,\n",
       "  0.11624965071678162,\n",
       "  0.13037407398223877,\n",
       "  0.12442383170127869,\n",
       "  0.12948761880397797,\n",
       "  0.12471895664930344,\n",
       "  0.11984748393297195,\n",
       "  0.12000110745429993,\n",
       "  0.12685802578926086,\n",
       "  0.11907347291707993,\n",
       "  0.12651440501213074,\n",
       "  0.13109531998634338,\n",
       "  0.12093713879585266,\n",
       "  0.1370663046836853,\n",
       "  0.13195784389972687,\n",
       "  0.10923782736063004,\n",
       "  0.14758117496967316,\n",
       "  0.14699101448059082,\n",
       "  0.1257196068763733,\n",
       "  0.12508024275302887,\n",
       "  0.12389055639505386,\n",
       "  0.12906110286712646,\n",
       "  0.12432433664798737,\n",
       "  0.13369576632976532,\n",
       "  0.12795330584049225,\n",
       "  0.13396629691123962,\n",
       "  0.13728314638137817,\n",
       "  0.13211363554000854,\n",
       "  0.13050517439842224,\n",
       "  0.13191546499729156,\n",
       "  0.1414164900779724,\n",
       "  0.1346292644739151,\n",
       "  0.13445347547531128,\n",
       "  0.13670268654823303,\n",
       "  0.1291777640581131,\n",
       "  0.13734835386276245,\n",
       "  0.1395019143819809,\n",
       "  0.14173054695129395,\n",
       "  0.139619380235672,\n",
       "  0.13627448678016663,\n",
       "  0.14119143784046173],\n",
       " 'val_accuracy': [0.8472222089767456,\n",
       "  0.8993055820465088,\n",
       "  0.9166666865348816,\n",
       "  0.9270833134651184,\n",
       "  0.9375,\n",
       "  0.9375,\n",
       "  0.9340277910232544,\n",
       "  0.9479166865348816,\n",
       "  0.9479166865348816,\n",
       "  0.9618055820465088,\n",
       "  0.9548611044883728,\n",
       "  0.9513888955116272,\n",
       "  0.9583333134651184,\n",
       "  0.9618055820465088,\n",
       "  0.9548611044883728,\n",
       "  0.9583333134651184,\n",
       "  0.9722222089767456,\n",
       "  0.9618055820465088,\n",
       "  0.96875,\n",
       "  0.9722222089767456,\n",
       "  0.9548611044883728,\n",
       "  0.9583333134651184,\n",
       "  0.9722222089767456,\n",
       "  0.9722222089767456,\n",
       "  0.9652777910232544,\n",
       "  0.9722222089767456,\n",
       "  0.9756944179534912,\n",
       "  0.9722222089767456,\n",
       "  0.96875,\n",
       "  0.9722222089767456,\n",
       "  0.96875,\n",
       "  0.9722222089767456,\n",
       "  0.9722222089767456,\n",
       "  0.9756944179534912,\n",
       "  0.9722222089767456,\n",
       "  0.96875,\n",
       "  0.96875,\n",
       "  0.96875,\n",
       "  0.9756944179534912,\n",
       "  0.9722222089767456,\n",
       "  0.9722222089767456,\n",
       "  0.9652777910232544,\n",
       "  0.9722222089767456,\n",
       "  0.9722222089767456,\n",
       "  0.9756944179534912,\n",
       "  0.9618055820465088,\n",
       "  0.96875,\n",
       "  0.9756944179534912,\n",
       "  0.9756944179534912,\n",
       "  0.9756944179534912,\n",
       "  0.9756944179534912,\n",
       "  0.96875,\n",
       "  0.9756944179534912,\n",
       "  0.9722222089767456,\n",
       "  0.9722222089767456,\n",
       "  0.9722222089767456,\n",
       "  0.9756944179534912,\n",
       "  0.9722222089767456,\n",
       "  0.9756944179534912,\n",
       "  0.96875,\n",
       "  0.9722222089767456,\n",
       "  0.96875,\n",
       "  0.9722222089767456,\n",
       "  0.9722222089767456,\n",
       "  0.9722222089767456,\n",
       "  0.9756944179534912,\n",
       "  0.9756944179534912,\n",
       "  0.9756944179534912,\n",
       "  0.9756944179534912,\n",
       "  0.9722222089767456,\n",
       "  0.9756944179534912,\n",
       "  0.9756944179534912,\n",
       "  0.9756944179534912,\n",
       "  0.9756944179534912,\n",
       "  0.9791666865348816,\n",
       "  0.9756944179534912,\n",
       "  0.96875,\n",
       "  0.9722222089767456,\n",
       "  0.96875,\n",
       "  0.9791666865348816,\n",
       "  0.96875,\n",
       "  0.9756944179534912,\n",
       "  0.96875,\n",
       "  0.9756944179534912,\n",
       "  0.9756944179534912,\n",
       "  0.9756944179534912,\n",
       "  0.9756944179534912,\n",
       "  0.9756944179534912,\n",
       "  0.9756944179534912,\n",
       "  0.9756944179534912,\n",
       "  0.9756944179534912,\n",
       "  0.9756944179534912,\n",
       "  0.9756944179534912,\n",
       "  0.9791666865348816,\n",
       "  0.9791666865348816,\n",
       "  0.9791666865348816,\n",
       "  0.9791666865348816,\n",
       "  0.9756944179534912,\n",
       "  0.9722222089767456,\n",
       "  0.9791666865348816]}"
      ]
     },
     "execution_count": 21,
     "metadata": {},
     "output_type": "execute_result"
    }
   ],
   "source": [
    "results.history"
   ]
  },
  {
   "cell_type": "code",
   "execution_count": 20,
   "metadata": {
    "ExecuteTime": {
     "end_time": "2022-05-05T18:25:55.026159Z",
     "start_time": "2022-05-05T18:25:54.799256Z"
    },
    "hidden": true
   },
   "outputs": [
    {
     "data": {
      "text/plain": [
       "0.9791666865348816"
      ]
     },
     "execution_count": 20,
     "metadata": {},
     "output_type": "execute_result"
    }
   ],
   "source": [
    "results.history['val_accuracy'][-1]"
   ]
  },
  {
   "cell_type": "markdown",
   "metadata": {
    "heading_collapsed": true
   },
   "source": [
    "## Connecting with `sklearn`\n",
    "\n",
    "The `keras.wrappers` submodule means that we can turn `keras` models into estimators that `sklearn` tools will recognize."
   ]
  },
  {
   "cell_type": "code",
   "execution_count": 22,
   "metadata": {
    "ExecuteTime": {
     "end_time": "2022-05-05T18:27:36.051499Z",
     "start_time": "2022-05-05T18:27:35.523890Z"
    },
    "hidden": true
   },
   "outputs": [
    {
     "ename": "TypeError",
     "evalue": "If no scoring is specified, the estimator passed should have a 'score' method. The estimator <tensorflow.python.keras.engine.sequential.Sequential object at 0x00000285D3E7A9D0> does not.",
     "output_type": "error",
     "traceback": [
      "\u001b[1;31m---------------------------------------------------------------------------\u001b[0m",
      "\u001b[1;31mTypeError\u001b[0m                                 Traceback (most recent call last)",
      "Input \u001b[1;32mIn [22]\u001b[0m, in \u001b[0;36m<cell line: 3>\u001b[1;34m()\u001b[0m\n\u001b[0;32m      1\u001b[0m \u001b[38;5;66;03m# This will throw an error.\u001b[39;00m\n\u001b[1;32m----> 3\u001b[0m \u001b[43mcross_val_score\u001b[49m\u001b[43m(\u001b[49m\u001b[43mmodel\u001b[49m\u001b[43m,\u001b[49m\u001b[43m \u001b[49m\u001b[43mX_pure_train\u001b[49m\u001b[43m,\u001b[49m\u001b[43m \u001b[49m\u001b[43my_pure_train\u001b[49m\u001b[43m)\u001b[49m\n",
      "File \u001b[1;32m~\\anaconda3\\envs\\tfv\\lib\\site-packages\\sklearn\\model_selection\\_validation.py:507\u001b[0m, in \u001b[0;36mcross_val_score\u001b[1;34m(estimator, X, y, groups, scoring, cv, n_jobs, verbose, fit_params, pre_dispatch, error_score)\u001b[0m\n\u001b[0;32m    389\u001b[0m \u001b[38;5;124;03m\"\"\"Evaluate a score by cross-validation.\u001b[39;00m\n\u001b[0;32m    390\u001b[0m \n\u001b[0;32m    391\u001b[0m \u001b[38;5;124;03mRead more in the :ref:`User Guide <cross_validation>`.\u001b[39;00m\n\u001b[1;32m   (...)\u001b[0m\n\u001b[0;32m    504\u001b[0m \u001b[38;5;124;03m    loss function.\u001b[39;00m\n\u001b[0;32m    505\u001b[0m \u001b[38;5;124;03m\"\"\"\u001b[39;00m\n\u001b[0;32m    506\u001b[0m \u001b[38;5;66;03m# To ensure multimetric format is not supported\u001b[39;00m\n\u001b[1;32m--> 507\u001b[0m scorer \u001b[38;5;241m=\u001b[39m \u001b[43mcheck_scoring\u001b[49m\u001b[43m(\u001b[49m\u001b[43mestimator\u001b[49m\u001b[43m,\u001b[49m\u001b[43m \u001b[49m\u001b[43mscoring\u001b[49m\u001b[38;5;241;43m=\u001b[39;49m\u001b[43mscoring\u001b[49m\u001b[43m)\u001b[49m\n\u001b[0;32m    509\u001b[0m cv_results \u001b[38;5;241m=\u001b[39m cross_validate(\n\u001b[0;32m    510\u001b[0m     estimator\u001b[38;5;241m=\u001b[39mestimator,\n\u001b[0;32m    511\u001b[0m     X\u001b[38;5;241m=\u001b[39mX,\n\u001b[1;32m   (...)\u001b[0m\n\u001b[0;32m    520\u001b[0m     error_score\u001b[38;5;241m=\u001b[39merror_score,\n\u001b[0;32m    521\u001b[0m )\n\u001b[0;32m    522\u001b[0m \u001b[38;5;28;01mreturn\u001b[39;00m cv_results[\u001b[38;5;124m\"\u001b[39m\u001b[38;5;124mtest_score\u001b[39m\u001b[38;5;124m\"\u001b[39m]\n",
      "File \u001b[1;32m~\\anaconda3\\envs\\tfv\\lib\\site-packages\\sklearn\\metrics\\_scorer.py:477\u001b[0m, in \u001b[0;36mcheck_scoring\u001b[1;34m(estimator, scoring, allow_none)\u001b[0m\n\u001b[0;32m    475\u001b[0m         \u001b[38;5;28;01mreturn\u001b[39;00m \u001b[38;5;28;01mNone\u001b[39;00m\n\u001b[0;32m    476\u001b[0m     \u001b[38;5;28;01melse\u001b[39;00m:\n\u001b[1;32m--> 477\u001b[0m         \u001b[38;5;28;01mraise\u001b[39;00m \u001b[38;5;167;01mTypeError\u001b[39;00m(\n\u001b[0;32m    478\u001b[0m             \u001b[38;5;124m\"\u001b[39m\u001b[38;5;124mIf no scoring is specified, the estimator passed should \u001b[39m\u001b[38;5;124m\"\u001b[39m\n\u001b[0;32m    479\u001b[0m             \u001b[38;5;124m\"\u001b[39m\u001b[38;5;124mhave a \u001b[39m\u001b[38;5;124m'\u001b[39m\u001b[38;5;124mscore\u001b[39m\u001b[38;5;124m'\u001b[39m\u001b[38;5;124m method. The estimator \u001b[39m\u001b[38;5;132;01m%r\u001b[39;00m\u001b[38;5;124m does not.\u001b[39m\u001b[38;5;124m\"\u001b[39m \u001b[38;5;241m%\u001b[39m estimator\n\u001b[0;32m    480\u001b[0m         )\n\u001b[0;32m    481\u001b[0m \u001b[38;5;28;01melif\u001b[39;00m \u001b[38;5;28misinstance\u001b[39m(scoring, Iterable):\n\u001b[0;32m    482\u001b[0m     \u001b[38;5;28;01mraise\u001b[39;00m \u001b[38;5;167;01mValueError\u001b[39;00m(\n\u001b[0;32m    483\u001b[0m         \u001b[38;5;124m\"\u001b[39m\u001b[38;5;124mFor evaluating multiple scores, use \u001b[39m\u001b[38;5;124m\"\u001b[39m\n\u001b[0;32m    484\u001b[0m         \u001b[38;5;124m\"\u001b[39m\u001b[38;5;124msklearn.model_selection.cross_validate instead. \u001b[39m\u001b[38;5;124m\"\u001b[39m\n\u001b[0;32m    485\u001b[0m         \u001b[38;5;124m\"\u001b[39m\u001b[38;5;132;01m{0}\u001b[39;00m\u001b[38;5;124m was passed.\u001b[39m\u001b[38;5;124m\"\u001b[39m\u001b[38;5;241m.\u001b[39mformat(scoring)\n\u001b[0;32m    486\u001b[0m     )\n",
      "\u001b[1;31mTypeError\u001b[0m: If no scoring is specified, the estimator passed should have a 'score' method. The estimator <tensorflow.python.keras.engine.sequential.Sequential object at 0x00000285D3E7A9D0> does not."
     ]
    }
   ],
   "source": [
    "# This will throw an error.\n",
    "\n",
    "cross_val_score(model, X_pure_train, y_pure_train)"
   ]
  },
  {
   "cell_type": "code",
   "execution_count": 23,
   "metadata": {
    "ExecuteTime": {
     "end_time": "2022-05-05T18:28:41.119189Z",
     "start_time": "2022-05-05T18:28:40.889803Z"
    },
    "hidden": true
   },
   "outputs": [],
   "source": [
    "def build_model():\n",
    "    model = Sequential()\n",
    "    model.add(Dense(12, activation='relu', input_dim=64))\n",
    "    model.add(Dense(8, activation='relu'))\n",
    "    model.add(Dense(4, activation='relu'))\n",
    "    model.add(Dense(1, activation = 'sigmoid'))\n",
    "\n",
    "    model.compile(optimizer='adam',\n",
    "                  loss='binary_crossentropy',\n",
    "                  metrics=['accuracy'])\n",
    "    return model"
   ]
  },
  {
   "cell_type": "code",
   "execution_count": 24,
   "metadata": {
    "ExecuteTime": {
     "end_time": "2022-05-05T18:28:44.981653Z",
     "start_time": "2022-05-05T18:28:44.761090Z"
    },
    "hidden": true
   },
   "outputs": [],
   "source": [
    "keras_model = scikit_learn.KerasClassifier(build_model,\n",
    "                                          epochs=10,\n",
    "                                          batch_size=32,\n",
    "                                          verbose=2)"
   ]
  },
  {
   "cell_type": "code",
   "execution_count": 25,
   "metadata": {
    "ExecuteTime": {
     "end_time": "2022-05-05T18:29:27.136404Z",
     "start_time": "2022-05-05T18:29:26.914988Z"
    },
    "hidden": true
   },
   "outputs": [
    {
     "data": {
      "text/plain": [
       "tensorflow.python.keras.wrappers.scikit_learn.KerasClassifier"
      ]
     },
     "execution_count": 25,
     "metadata": {},
     "output_type": "execute_result"
    }
   ],
   "source": [
    "type(keras_model)"
   ]
  },
  {
   "cell_type": "code",
   "execution_count": 26,
   "metadata": {
    "ExecuteTime": {
     "end_time": "2022-05-05T18:29:36.223090Z",
     "start_time": "2022-05-05T18:29:27.920750Z"
    },
    "hidden": true,
    "scrolled": true
   },
   "outputs": [
    {
     "name": "stdout",
     "output_type": "stream",
     "text": [
      "Epoch 1/10\n",
      "29/29 - 1s - loss: 0.6859 - accuracy: 0.5201\n",
      "Epoch 2/10\n",
      "29/29 - 0s - loss: 0.6520 - accuracy: 0.6376\n",
      "Epoch 3/10\n",
      "29/29 - 0s - loss: 0.6069 - accuracy: 0.6855\n",
      "Epoch 4/10\n",
      "29/29 - 0s - loss: 0.5615 - accuracy: 0.7769\n",
      "Epoch 5/10\n",
      "29/29 - 0s - loss: 0.5134 - accuracy: 0.8313\n",
      "Epoch 6/10\n",
      "29/29 - 0s - loss: 0.4492 - accuracy: 0.8683\n",
      "Epoch 7/10\n",
      "29/29 - 0s - loss: 0.3785 - accuracy: 0.8803\n",
      "Epoch 8/10\n",
      "29/29 - 0s - loss: 0.3216 - accuracy: 0.8890\n",
      "Epoch 9/10\n",
      "29/29 - 0s - loss: 0.2777 - accuracy: 0.9010\n",
      "Epoch 10/10\n",
      "29/29 - 0s - loss: 0.2509 - accuracy: 0.9042\n",
      "8/8 - 0s - loss: 0.2814 - accuracy: 0.8913\n",
      "Epoch 1/10\n",
      "29/29 - 1s - loss: 0.6897 - accuracy: 0.5223\n",
      "Epoch 2/10\n",
      "29/29 - 0s - loss: 0.6650 - accuracy: 0.6540\n",
      "Epoch 3/10\n",
      "29/29 - 0s - loss: 0.6214 - accuracy: 0.7388\n",
      "Epoch 4/10\n",
      "29/29 - 0s - loss: 0.5134 - accuracy: 0.8107\n",
      "Epoch 5/10\n",
      "29/29 - 0s - loss: 0.4053 - accuracy: 0.8520\n",
      "Epoch 6/10\n",
      "29/29 - 0s - loss: 0.3379 - accuracy: 0.8672\n",
      "Epoch 7/10\n",
      "29/29 - 0s - loss: 0.2992 - accuracy: 0.8792\n",
      "Epoch 8/10\n",
      "29/29 - 0s - loss: 0.2697 - accuracy: 0.8868\n",
      "Epoch 9/10\n",
      "29/29 - 0s - loss: 0.2417 - accuracy: 0.8988\n",
      "Epoch 10/10\n",
      "29/29 - 0s - loss: 0.2191 - accuracy: 0.9075\n",
      "8/8 - 0s - loss: 0.2463 - accuracy: 0.8870\n",
      "Epoch 1/10\n",
      "29/29 - 1s - loss: 0.6705 - accuracy: 0.5441\n",
      "Epoch 2/10\n",
      "29/29 - 0s - loss: 0.6244 - accuracy: 0.6670\n",
      "Epoch 3/10\n",
      "29/29 - 0s - loss: 0.5847 - accuracy: 0.7095\n",
      "Epoch 4/10\n",
      "29/29 - 0s - loss: 0.5507 - accuracy: 0.7900\n",
      "Epoch 5/10\n",
      "29/29 - 0s - loss: 0.5195 - accuracy: 0.8237\n",
      "Epoch 6/10\n",
      "29/29 - 0s - loss: 0.4873 - accuracy: 0.8564\n",
      "Epoch 7/10\n",
      "29/29 - 0s - loss: 0.4581 - accuracy: 0.8694\n",
      "Epoch 8/10\n",
      "29/29 - 0s - loss: 0.4279 - accuracy: 0.8814\n",
      "Epoch 9/10\n",
      "29/29 - 0s - loss: 0.4016 - accuracy: 0.8847\n",
      "Epoch 10/10\n",
      "29/29 - 0s - loss: 0.3781 - accuracy: 0.8955\n",
      "8/8 - 0s - loss: 0.3602 - accuracy: 0.9087\n",
      "Epoch 1/10\n",
      "29/29 - 1s - loss: 0.6783 - accuracy: 0.5571\n",
      "Epoch 2/10\n",
      "29/29 - 0s - loss: 0.6217 - accuracy: 0.7323\n",
      "Epoch 3/10\n",
      "29/29 - 0s - loss: 0.5400 - accuracy: 0.8183\n",
      "Epoch 4/10\n",
      "29/29 - 0s - loss: 0.4452 - accuracy: 0.8585\n",
      "Epoch 5/10\n",
      "29/29 - 0s - loss: 0.3675 - accuracy: 0.8803\n",
      "Epoch 6/10\n",
      "29/29 - 0s - loss: 0.3194 - accuracy: 0.8847\n",
      "Epoch 7/10\n",
      "29/29 - 0s - loss: 0.2823 - accuracy: 0.8977\n",
      "Epoch 8/10\n",
      "29/29 - 0s - loss: 0.2546 - accuracy: 0.9032\n",
      "Epoch 9/10\n",
      "29/29 - 0s - loss: 0.2338 - accuracy: 0.9032\n",
      "Epoch 10/10\n",
      "29/29 - 0s - loss: 0.2170 - accuracy: 0.9129\n",
      "8/8 - 0s - loss: 0.2015 - accuracy: 0.9304\n",
      "Epoch 1/10\n",
      "29/29 - 1s - loss: 0.6967 - accuracy: 0.4761\n",
      "Epoch 2/10\n",
      "29/29 - 0s - loss: 0.6791 - accuracy: 0.6065\n",
      "Epoch 3/10\n",
      "29/29 - 0s - loss: 0.6561 - accuracy: 0.6663\n",
      "Epoch 4/10\n",
      "29/29 - 0s - loss: 0.6145 - accuracy: 0.6870\n",
      "Epoch 5/10\n",
      "29/29 - 0s - loss: 0.5651 - accuracy: 0.7728\n",
      "Epoch 6/10\n",
      "29/29 - 0s - loss: 0.5142 - accuracy: 0.8185\n",
      "Epoch 7/10\n",
      "29/29 - 0s - loss: 0.4787 - accuracy: 0.8620\n",
      "Epoch 8/10\n",
      "29/29 - 0s - loss: 0.4529 - accuracy: 0.8793\n",
      "Epoch 9/10\n",
      "29/29 - 0s - loss: 0.4322 - accuracy: 0.8978\n",
      "Epoch 10/10\n",
      "29/29 - 0s - loss: 0.4145 - accuracy: 0.9087\n",
      "8/8 - 0s - loss: 0.4580 - accuracy: 0.8472\n"
     ]
    },
    {
     "data": {
      "text/plain": [
       "array([0.89130437, 0.88695651, 0.90869564, 0.93043476, 0.84716159])"
      ]
     },
     "execution_count": 26,
     "metadata": {},
     "output_type": "execute_result"
    }
   ],
   "source": [
    "cross_val_score(keras_model, X_pure_train, y_pure_train)"
   ]
  },
  {
   "cell_type": "markdown",
   "metadata": {
    "heading_collapsed": true
   },
   "source": [
    "## [Regularization](https://www.tensorflow.org/api_docs/python/tf/keras/regularizers/Regularizer)"
   ]
  },
  {
   "cell_type": "markdown",
   "metadata": {
    "hidden": true
   },
   "source": [
    "Does regularization make sense in the context of neural networks? <br/>\n",
    "\n",
    "Yes! We still have all of the salient ingredients: a loss function, overfitting vs. underfitting, and coefficients (weights) that could get too large.\n",
    "\n",
    "But there are now a few different flavors besides L1 and L2 regularization. (Note that L1 regularization is not common in the context of  neural networks.)\n",
    "\n",
    "We'll add a few more layers to give regularization a better chance of making a difference!"
   ]
  },
  {
   "cell_type": "code",
   "execution_count": 27,
   "metadata": {
    "ExecuteTime": {
     "end_time": "2022-05-05T18:37:07.136737Z",
     "start_time": "2022-05-05T18:37:02.396490Z"
    },
    "hidden": true
   },
   "outputs": [
    {
     "data": {
      "image/png": "[encoded data removed]",
      "text/plain": [
       "<Figure size 720x360 with 2 Axes>"
      ]
     },
     "metadata": {
      "needs_background": "light"
     },
     "output_type": "display_data"
    }
   ],
   "source": [
    "model = Sequential()\n",
    "model.add(Dense(30, activation='relu', input_dim=64))\n",
    "\n",
    "# We can add L2 (or L1) regularization right into\n",
    "# the layer with the kernel_regularizer parameter.\n",
    "\n",
    "model.add(Dense(20, activation='relu',kernel_regularizer=l2(l=0.05)))\n",
    "\n",
    "# Note that there is also a bias_regularizer,\n",
    "# but this tends to have less effect.\n",
    "\n",
    "model.add(Dense(12, activation='relu'))\n",
    "model.add(Dense(12, activation='relu'))\n",
    "model.add(Dense(12, activation='relu'))\n",
    "model.add(Dense(8, activation='relu'))\n",
    "model.add(Dense(4, activation='relu'))\n",
    "model.add(Dense(1, activation ='sigmoid'))\n",
    "\n",
    "model.compile(optimizer='adam',\n",
    "              loss='binary_crossentropy',\n",
    "              metrics=['accuracy'])\n",
    "\n",
    "results = model.fit(X_pure_train, y_pure_train, epochs=20, batch_size=32,\n",
    "                    verbose=0, validation_data=(X_val, y_val))\n",
    "\n",
    "train_loss = results.history['loss']\n",
    "train_acc = results.history['accuracy']\n",
    "val_loss = results.history['val_loss']\n",
    "val_acc = results.history['val_accuracy']\n",
    "\n",
    "\n",
    "fig, (ax1, ax2) = plt.subplots(1, 2, figsize=(10, 5))\n",
    "sns.lineplot(x=results.epoch, y=train_loss, ax=ax1, label='train_loss')\n",
    "sns.lineplot(x=results.epoch, y=train_acc, ax=ax2, label='train_accuracy')\n",
    "\n",
    "sns.lineplot(x=results.epoch, y=val_loss, ax=ax1, label='val_loss')\n",
    "sns.lineplot(x=results.epoch, y=val_acc, ax=ax2, label='val_accuracy')\n",
    "ax1.set_title('Loss')\n",
    "ax2.set_title('Accuracy')\n",
    "ax1.legend();"
   ]
  },
  {
   "cell_type": "markdown",
   "metadata": {
    "hidden": true
   },
   "source": [
    "Adding L2 to multiple layers:"
   ]
  },
  {
   "cell_type": "code",
   "execution_count": 28,
   "metadata": {
    "ExecuteTime": {
     "end_time": "2022-05-05T18:37:39.108053Z",
     "start_time": "2022-05-05T18:37:34.261351Z"
    },
    "hidden": true
   },
   "outputs": [
    {
     "data": {
      "image/png": "[encoded data removed]",
      "text/plain": [
       "<Figure size 720x360 with 2 Axes>"
      ]
     },
     "metadata": {
      "needs_background": "light"
     },
     "output_type": "display_data"
    }
   ],
   "source": [
    "model = Sequential()\n",
    "model.add(Dense(30, activation='relu',\n",
    "                input_dim=64))\n",
    "model.add(Dense(20, activation='relu',\n",
    "                kernel_regularizer=l2(l=0.01)))\n",
    "\n",
    "model.add(Dense(12, activation='relu',\n",
    "                kernel_regularizer=l2(l=0.01)))\n",
    "model.add(Dense(12, activation='relu',\n",
    "                kernel_regularizer=l2(l=0.01)))\n",
    "model.add(Dense(12, activation='relu',\n",
    "                kernel_regularizer=l2(l=0.01)))\n",
    "model.add(Dense(8, activation='relu',\n",
    "                kernel_regularizer=l2(l=0.01)))\n",
    "model.add(Dense(4, activation='relu',\n",
    "                kernel_regularizer=l2(l=0.01)))\n",
    "model.add(Dense(1, activation='sigmoid'))\n",
    "\n",
    "model.compile(optimizer='adam',\n",
    "              loss='binary_crossentropy',\n",
    "              metrics=['accuracy'])\n",
    "\n",
    "results = model.fit(X_pure_train, y_pure_train, epochs=20, batch_size=32,\n",
    "                    verbose=0, validation_data=(X_val, y_val))\n",
    "\n",
    "train_loss = results.history['loss']\n",
    "train_acc = results.history['accuracy']\n",
    "val_loss = results.history['val_loss']\n",
    "val_acc = results.history['val_accuracy']\n",
    "\n",
    "\n",
    "fig, (ax1, ax2) = plt.subplots(1, 2, figsize=(10, 5))\n",
    "sns.lineplot(x=results.epoch, y=train_loss, ax=ax1, label='train_loss')\n",
    "sns.lineplot(x=results.epoch, y=train_acc, ax=ax2, label='train_accuracy')\n",
    "\n",
    "sns.lineplot(x=results.epoch, y=val_loss, ax=ax1, label='val_loss')\n",
    "sns.lineplot(x=results.epoch, y=val_acc, ax=ax2, label='val_accuracy')\n",
    "ax1.set_title('Loss')\n",
    "ax2.set_title('Accuracy')\n",
    "ax1.legend();"
   ]
  },
  {
   "cell_type": "markdown",
   "metadata": {
    "heading_collapsed": true,
    "hidden": true
   },
   "source": [
    "### Dropout\n",
    "\n",
    "We can also specify a dropout layer in keras, which randomly shuts off different nodes during training. This can help to prevent overfitting."
   ]
  },
  {
   "cell_type": "markdown",
   "metadata": {
    "hidden": true
   },
   "source": [
    "![drop_out](images/drop_out.png)"
   ]
  },
  {
   "cell_type": "markdown",
   "metadata": {
    "heading_collapsed": true,
    "hidden": true
   },
   "source": [
    "### Exercise\n",
    "\n",
    "To add dropout to a `keras` network, simply add it as though it were a layer. It will apply to the immediately preceding layer.\n",
    "\n",
    "Add Dropout to one or more layers below."
   ]
  },
  {
   "cell_type": "code",
   "execution_count": 29,
   "metadata": {
    "ExecuteTime": {
     "end_time": "2022-05-05T18:44:19.262875Z",
     "start_time": "2022-05-05T18:44:11.138669Z"
    },
    "hidden": true
   },
   "outputs": [
    {
     "data": {
      "image/png": "[encoded data removed]",
      "text/plain": [
       "<Figure size 720x360 with 2 Axes>"
      ]
     },
     "metadata": {
      "needs_background": "light"
     },
     "output_type": "display_data"
    }
   ],
   "source": [
    "model = Sequential()\n",
    "model.add(Dense(30, activation='relu', input_dim=64))\n",
    "model.add(Dense(20, activation='relu'))\n",
    "model.add(Dense(12, activation='relu'))\n",
    "model.add(Dense(12, activation='relu'))\n",
    "model.add(Dense(12, activation='relu'))\n",
    "model.add(Dense(8, activation='relu'))\n",
    "model.add(Dense(4, activation='relu'))\n",
    "model.add(Dense(1, activation ='sigmoid'))\n",
    "\n",
    "model.compile(optimizer='adam',\n",
    "              loss='binary_crossentropy',\n",
    "              metrics=['accuracy'])\n",
    "\n",
    "results = model.fit(X_pure_train, y_pure_train, epochs=50,\n",
    "                    batch_size= 32, verbose=0,\n",
    "                    validation_data=(X_val, y_val))\n",
    "\n",
    "train_loss = results.history['loss']\n",
    "train_acc = results.history['accuracy']\n",
    "val_loss = results.history['val_loss']\n",
    "val_acc = results.history['val_accuracy']\n",
    "\n",
    "\n",
    "fig, (ax1, ax2) = plt.subplots(1, 2, figsize=(10, 5))\n",
    "sns.lineplot(x=results.epoch, y=train_loss, ax=ax1, label='train_loss')\n",
    "sns.lineplot(x=results.epoch, y=train_acc, ax=ax2, label='train_accuracy')\n",
    "\n",
    "sns.lineplot(x=results.epoch, y=val_loss, ax=ax1, label='val_loss')\n",
    "sns.lineplot(x=results.epoch, y=val_acc, ax=ax2, label='val_accuracy')\n",
    "ax1.set_title('Loss')\n",
    "ax2.set_title('Accuracy')\n",
    "ax1.legend();"
   ]
  },
  {
   "cell_type": "code",
   "execution_count": 30,
   "metadata": {
    "ExecuteTime": {
     "end_time": "2022-05-05T18:44:25.353137Z",
     "start_time": "2022-05-05T18:44:25.133494Z"
    },
    "hidden": true
   },
   "outputs": [
    {
     "data": {
      "text/plain": [
       "0.9722222089767456"
      ]
     },
     "execution_count": 30,
     "metadata": {},
     "output_type": "execute_result"
    }
   ],
   "source": [
    "results.history['val_accuracy'][-1]"
   ]
  },
  {
   "cell_type": "markdown",
   "metadata": {
    "heading_collapsed": true,
    "hidden": true
   },
   "source": [
    "### Early Stopping"
   ]
  },
  {
   "cell_type": "markdown",
   "metadata": {
    "hidden": true
   },
   "source": [
    "We can also tell our neural network to stop once it stops realizing any gain.\n",
    "\n",
    "Here we tell it to stop once the a very small positive change in the validation loss occurs:"
   ]
  },
  {
   "cell_type": "code",
   "execution_count": 31,
   "metadata": {
    "ExecuteTime": {
     "end_time": "2022-05-05T18:50:04.144547Z",
     "start_time": "2022-05-05T18:50:02.073359Z"
    },
    "hidden": true
   },
   "outputs": [
    {
     "data": {
      "image/png": "[encoded data removed]",
      "text/plain": [
       "<Figure size 720x360 with 2 Axes>"
      ]
     },
     "metadata": {
      "needs_background": "light"
     },
     "output_type": "display_data"
    }
   ],
   "source": [
    "model = Sequential()\n",
    "model.add(Dense(30, activation='relu', input_dim=64))\n",
    "model.add(Dense(20, activation='relu'))\n",
    "model.add(Dropout(0.5))\n",
    "model.add(Dense(12, activation='relu'))\n",
    "model.add(Dense(12, activation='relu'))\n",
    "model.add(Dense(12, activation='relu'))\n",
    "model.add(Dense(8, activation='relu'))\n",
    "model.add(Dense(4, activation='relu'))\n",
    "model.add(Dense(1, activation ='sigmoid'))\n",
    "\n",
    "model.compile(optimizer='adam',\n",
    "              loss='binary_crossentropy',\n",
    "              metrics=['accuracy'])\n",
    "\n",
    "# Define the EarlyStopping object\n",
    "early_stop = EarlyStopping(monitor='val_loss', min_delta=1e-8,\n",
    "                           verbose=1,\n",
    "                           mode='min')\n",
    "\n",
    "# Place this in a list as the value of the `callbacks` parameter\n",
    "# in the `.fit()` method.\n",
    "results = model.fit(X_pure_train, y_pure_train,\n",
    "                    epochs=20, batch_size=32,\n",
    "                    verbose=0, validation_data=(X_val, y_val),\n",
    "                    callbacks=[early_stop])\n",
    "\n",
    "train_loss = results.history['loss']\n",
    "train_acc = results.history['accuracy']\n",
    "val_loss = results.history['val_loss']\n",
    "val_acc = results.history['val_accuracy']\n",
    "\n",
    "\n",
    "fig, (ax1, ax2) = plt.subplots(1, 2, figsize=(10, 5))\n",
    "sns.lineplot(x=results.epoch, y=train_loss, ax=ax1, label='train_loss')\n",
    "sns.lineplot(x=results.epoch, y=train_acc, ax=ax2, label='train_accuracy')\n",
    "\n",
    "sns.lineplot(x=results.epoch, y=val_loss, ax=ax1, label='val_loss')\n",
    "sns.lineplot(x=results.epoch, y=val_acc, ax=ax2, label='val_accuracy')\n",
    "ax1.set_title('Loss')\n",
    "ax2.set_title('Accuracy')\n",
    "ax1.legend();"
   ]
  },
  {
   "cell_type": "markdown",
   "metadata": {
    "heading_collapsed": true,
    "hidden": true
   },
   "source": [
    "### Exercise\n",
    "\n",
    "That probably stopped too early. We can specify the number of epochs in which it doesn't see decrease in the loss with the `patience` parameter. Modify the code below to include an Early Stop with a patience of 5 epochs."
   ]
  },
  {
   "cell_type": "code",
   "execution_count": 33,
   "metadata": {
    "ExecuteTime": {
     "end_time": "2022-05-05T18:52:35.260368Z",
     "start_time": "2022-05-05T18:52:28.705029Z"
    },
    "hidden": true
   },
   "outputs": [
    {
     "name": "stdout",
     "output_type": "stream",
     "text": [
      "Epoch 00033: early stopping\n"
     ]
    },
    {
     "data": {
      "image/png": "[encoded data removed]",
      "text/plain": [
       "<Figure size 720x360 with 2 Axes>"
      ]
     },
     "metadata": {
      "needs_background": "light"
     },
     "output_type": "display_data"
    }
   ],
   "source": [
    "model = Sequential()\n",
    "model.add(Dense(30, activation='relu', input_dim=64))\n",
    "model.add(Dense(20, activation='relu'))\n",
    "model.add(Dropout(0.5))\n",
    "model.add(Dense(12, activation='relu'))\n",
    "model.add(Dense(12, activation='relu'))\n",
    "model.add(Dense(12, activation='relu'))\n",
    "model.add(Dense(8, activation='relu'))\n",
    "model.add(Dense(4, activation='relu'))\n",
    "model.add(Dense(1, activation ='sigmoid'))\n",
    "\n",
    "model.compile(optimizer='adam',\n",
    "              loss='binary_crossentropy',\n",
    "              metrics=['accuracy'])\n",
    "\n",
    "# Define the EarlyStopping object\n",
    "early_stop = EarlyStopping(monitor='val_loss', \n",
    "                           min_delta=1e-8,\n",
    "                           verbose=2, \n",
    "                           patience=5,\n",
    "                           mode='min')\n",
    "\n",
    "# Place this in a list as the value of the `callbacks` parameter\n",
    "# in the `.fit()` method.\n",
    "results = model.fit(X_pure_train, y_pure_train,\n",
    "                    epochs=50, batch_size= 32,\n",
    "                    verbose=0, validation_data=(X_val, y_val),\n",
    "                    callbacks=[early_stop])\n",
    "\n",
    "train_loss = results.history['loss']\n",
    "train_acc = results.history['accuracy']\n",
    "val_loss = results.history['val_loss']\n",
    "val_acc = results.history['val_accuracy']\n",
    "\n",
    "\n",
    "fig, (ax1, ax2) = plt.subplots(1, 2, figsize=(10, 5))\n",
    "sns.lineplot(x=results.epoch, y=train_loss, ax=ax1, label='train_loss')\n",
    "sns.lineplot(x=results.epoch, y=train_acc, ax=ax2, label='train_accuracy')\n",
    "\n",
    "sns.lineplot(x=results.epoch, y=val_loss, ax=ax1, label='val_loss')\n",
    "sns.lineplot(x=results.epoch, y=val_acc, ax=ax2, label='val_accuracy')\n",
    "ax1.set_title('Loss')\n",
    "ax2.set_title('Accuracy')\n",
    "ax1.legend();"
   ]
  },
  {
   "cell_type": "code",
   "execution_count": 34,
   "metadata": {
    "ExecuteTime": {
     "end_time": "2022-05-05T18:52:46.940971Z",
     "start_time": "2022-05-05T18:52:46.717500Z"
    },
    "hidden": true
   },
   "outputs": [
    {
     "data": {
      "text/plain": [
       "0.9791666865348816"
      ]
     },
     "execution_count": 34,
     "metadata": {},
     "output_type": "execute_result"
    }
   ],
   "source": [
    "results.history['val_accuracy'][-1]"
   ]
  },
  {
   "cell_type": "markdown",
   "metadata": {
    "heading_collapsed": true
   },
   "source": [
    "## Multiclass Classification and Softmax"
   ]
  },
  {
   "cell_type": "markdown",
   "metadata": {
    "hidden": true
   },
   "source": [
    "Now let's return to the problem of predicting digits 0 through 9."
   ]
  },
  {
   "cell_type": "code",
   "execution_count": 35,
   "metadata": {
    "ExecuteTime": {
     "end_time": "2022-05-05T18:54:56.626516Z",
     "start_time": "2022-05-05T18:54:56.324947Z"
    },
    "hidden": true
   },
   "outputs": [],
   "source": [
    "digits = load_digits()\n",
    "X = digits.data\n",
    "y = digits.target"
   ]
  },
  {
   "cell_type": "code",
   "execution_count": 36,
   "metadata": {
    "ExecuteTime": {
     "end_time": "2022-05-05T18:54:57.374602Z",
     "start_time": "2022-05-05T18:54:57.156449Z"
    },
    "hidden": true
   },
   "outputs": [],
   "source": [
    "X_train, X_test, y_train, y_test = train_test_split(X, y,\n",
    "                                                    random_state=42,\n",
    "                                                    test_size=0.2)\n",
    "X_pure_train, X_val, y_pure_train, y_val =\\\n",
    "    train_test_split(X_train, y_train,\n",
    "                     random_state=42, test_size=0.2)\n",
    "X_pure_train, X_val, X_test = X_pure_train/16, X_val/16, X_test/16"
   ]
  },
  {
   "cell_type": "markdown",
   "metadata": {
    "hidden": true
   },
   "source": [
    "For a multiclass output, our neural net expects our target to be in a certain form."
   ]
  },
  {
   "cell_type": "code",
   "execution_count": 37,
   "metadata": {
    "ExecuteTime": {
     "end_time": "2022-05-05T18:54:59.875652Z",
     "start_time": "2022-05-05T18:54:59.660240Z"
    },
    "hidden": true
   },
   "outputs": [],
   "source": [
    "ohe = OneHotEncoder(sparse=False)\n",
    "y_pure_train = ohe.fit_transform(y_pure_train.reshape(-1,1))\n",
    "y_val = ohe.transform(y_val.reshape(-1,1))\n",
    "y_test = ohe.transform(y_test.reshape(-1,1))"
   ]
  },
  {
   "cell_type": "code",
   "execution_count": 38,
   "metadata": {
    "ExecuteTime": {
     "end_time": "2022-05-05T18:55:01.197906Z",
     "start_time": "2022-05-05T18:55:00.952577Z"
    },
    "hidden": true
   },
   "outputs": [
    {
     "data": {
      "text/plain": [
       "array([[0., 0., 0., ..., 0., 0., 0.],\n",
       "       [0., 0., 0., ..., 0., 0., 1.],\n",
       "       [0., 0., 0., ..., 0., 0., 0.],\n",
       "       ...,\n",
       "       [0., 0., 0., ..., 0., 1., 0.],\n",
       "       [0., 0., 0., ..., 0., 0., 0.],\n",
       "       [0., 0., 0., ..., 0., 0., 0.]])"
      ]
     },
     "execution_count": 38,
     "metadata": {},
     "output_type": "execute_result"
    }
   ],
   "source": [
    "y_test"
   ]
  },
  {
   "cell_type": "code",
   "execution_count": 39,
   "metadata": {
    "ExecuteTime": {
     "end_time": "2022-05-05T18:55:30.177385Z",
     "start_time": "2022-05-05T18:55:16.033422Z"
    },
    "hidden": true
   },
   "outputs": [
    {
     "name": "stdout",
     "output_type": "stream",
     "text": [
      "Epoch 1/50\n",
      "115/115 [==============================] - 1s 4ms/step - loss: 2.2671 - accuracy: 0.1540 - val_loss: 2.1436 - val_accuracy: 0.2153\n",
      "Epoch 2/50\n",
      "115/115 [==============================] - 0s 2ms/step - loss: 1.9938 - accuracy: 0.3072 - val_loss: 1.8636 - val_accuracy: 0.3090\n",
      "Epoch 3/50\n",
      "115/115 [==============================] - 0s 2ms/step - loss: 1.7016 - accuracy: 0.3821 - val_loss: 1.5940 - val_accuracy: 0.4340\n",
      "Epoch 4/50\n",
      "115/115 [==============================] - 0s 2ms/step - loss: 1.4291 - accuracy: 0.5326 - val_loss: 1.3357 - val_accuracy: 0.5417\n",
      "Epoch 5/50\n",
      "115/115 [==============================] - 0s 2ms/step - loss: 1.1796 - accuracy: 0.6284 - val_loss: 1.1103 - val_accuracy: 0.6458\n",
      "Epoch 6/50\n",
      "115/115 [==============================] - 0s 2ms/step - loss: 0.9944 - accuracy: 0.6849 - val_loss: 0.9947 - val_accuracy: 0.7083\n",
      "Epoch 7/50\n",
      "115/115 [==============================] - 0s 2ms/step - loss: 0.8685 - accuracy: 0.7398 - val_loss: 0.8577 - val_accuracy: 0.7604\n",
      "Epoch 8/50\n",
      "115/115 [==============================] - 0s 2ms/step - loss: 0.7725 - accuracy: 0.7937 - val_loss: 0.7954 - val_accuracy: 0.8021\n",
      "Epoch 9/50\n",
      "115/115 [==============================] - 0s 2ms/step - loss: 0.6948 - accuracy: 0.8225 - val_loss: 0.7087 - val_accuracy: 0.7812\n",
      "Epoch 10/50\n",
      "115/115 [==============================] - 0s 2ms/step - loss: 0.6362 - accuracy: 0.8303 - val_loss: 0.6636 - val_accuracy: 0.8125\n",
      "Epoch 11/50\n",
      "115/115 [==============================] - 0s 2ms/step - loss: 0.5842 - accuracy: 0.8477 - val_loss: 0.6070 - val_accuracy: 0.8056\n",
      "Epoch 12/50\n",
      "115/115 [==============================] - 0s 2ms/step - loss: 0.5408 - accuracy: 0.8564 - val_loss: 0.5912 - val_accuracy: 0.8264\n",
      "Epoch 13/50\n",
      "115/115 [==============================] - 0s 2ms/step - loss: 0.5066 - accuracy: 0.8660 - val_loss: 0.5453 - val_accuracy: 0.8542\n",
      "Epoch 14/50\n",
      "115/115 [==============================] - 0s 3ms/step - loss: 0.4779 - accuracy: 0.8782 - val_loss: 0.5130 - val_accuracy: 0.8611\n",
      "Epoch 15/50\n",
      "115/115 [==============================] - 0s 2ms/step - loss: 0.4447 - accuracy: 0.8869 - val_loss: 0.4874 - val_accuracy: 0.8611\n",
      "Epoch 16/50\n",
      "115/115 [==============================] - 0s 2ms/step - loss: 0.4230 - accuracy: 0.9017 - val_loss: 0.4709 - val_accuracy: 0.8576\n",
      "Epoch 17/50\n",
      "115/115 [==============================] - 0s 2ms/step - loss: 0.4004 - accuracy: 0.8982 - val_loss: 0.4262 - val_accuracy: 0.8681\n",
      "Epoch 18/50\n",
      "115/115 [==============================] - 0s 3ms/step - loss: 0.3703 - accuracy: 0.9025 - val_loss: 0.4182 - val_accuracy: 0.8715\n",
      "Epoch 19/50\n",
      "115/115 [==============================] - 0s 2ms/step - loss: 0.3485 - accuracy: 0.9138 - val_loss: 0.3937 - val_accuracy: 0.8785\n",
      "Epoch 20/50\n",
      "115/115 [==============================] - 0s 2ms/step - loss: 0.3247 - accuracy: 0.9191 - val_loss: 0.3690 - val_accuracy: 0.8785\n",
      "Epoch 21/50\n",
      "115/115 [==============================] - 0s 2ms/step - loss: 0.3105 - accuracy: 0.9252 - val_loss: 0.3447 - val_accuracy: 0.8993\n",
      "Epoch 22/50\n",
      "115/115 [==============================] - 0s 2ms/step - loss: 0.2926 - accuracy: 0.9269 - val_loss: 0.3197 - val_accuracy: 0.8924\n",
      "Epoch 23/50\n",
      "115/115 [==============================] - 0s 2ms/step - loss: 0.2785 - accuracy: 0.9312 - val_loss: 0.3138 - val_accuracy: 0.9201\n",
      "Epoch 24/50\n",
      "115/115 [==============================] - 0s 2ms/step - loss: 0.2616 - accuracy: 0.9321 - val_loss: 0.3205 - val_accuracy: 0.9097\n",
      "Epoch 25/50\n",
      "115/115 [==============================] - 0s 2ms/step - loss: 0.2530 - accuracy: 0.9408 - val_loss: 0.2948 - val_accuracy: 0.9132\n",
      "Epoch 26/50\n",
      "115/115 [==============================] - 0s 2ms/step - loss: 0.2403 - accuracy: 0.9391 - val_loss: 0.2800 - val_accuracy: 0.9271\n",
      "Epoch 27/50\n",
      "115/115 [==============================] - 0s 2ms/step - loss: 0.2322 - accuracy: 0.9356 - val_loss: 0.2866 - val_accuracy: 0.9201\n",
      "Epoch 28/50\n",
      "115/115 [==============================] - 0s 2ms/step - loss: 0.2215 - accuracy: 0.9426 - val_loss: 0.2572 - val_accuracy: 0.9306\n",
      "Epoch 29/50\n",
      "115/115 [==============================] - 0s 2ms/step - loss: 0.2155 - accuracy: 0.9443 - val_loss: 0.2623 - val_accuracy: 0.9236\n",
      "Epoch 30/50\n",
      "115/115 [==============================] - 0s 2ms/step - loss: 0.2039 - accuracy: 0.9513 - val_loss: 0.2941 - val_accuracy: 0.9097\n",
      "Epoch 31/50\n",
      "115/115 [==============================] - 0s 2ms/step - loss: 0.2008 - accuracy: 0.9495 - val_loss: 0.2388 - val_accuracy: 0.9271\n",
      "Epoch 32/50\n",
      "115/115 [==============================] - 0s 2ms/step - loss: 0.1905 - accuracy: 0.9530 - val_loss: 0.2455 - val_accuracy: 0.9097\n",
      "Epoch 33/50\n",
      "115/115 [==============================] - 0s 2ms/step - loss: 0.1870 - accuracy: 0.9521 - val_loss: 0.2388 - val_accuracy: 0.9306\n",
      "Epoch 34/50\n",
      "115/115 [==============================] - 0s 2ms/step - loss: 0.1786 - accuracy: 0.9556 - val_loss: 0.2418 - val_accuracy: 0.9236\n",
      "Epoch 35/50\n",
      "115/115 [==============================] - 0s 3ms/step - loss: 0.1771 - accuracy: 0.9582 - val_loss: 0.2222 - val_accuracy: 0.9306\n",
      "Epoch 36/50\n",
      "115/115 [==============================] - 0s 3ms/step - loss: 0.1694 - accuracy: 0.9565 - val_loss: 0.2466 - val_accuracy: 0.9132\n",
      "Epoch 37/50\n",
      "115/115 [==============================] - 0s 3ms/step - loss: 0.1646 - accuracy: 0.9556 - val_loss: 0.2266 - val_accuracy: 0.9271\n",
      "Epoch 38/50\n",
      "115/115 [==============================] - 0s 2ms/step - loss: 0.1611 - accuracy: 0.9617 - val_loss: 0.2127 - val_accuracy: 0.9375\n",
      "Epoch 39/50\n",
      "115/115 [==============================] - 0s 2ms/step - loss: 0.1556 - accuracy: 0.9574 - val_loss: 0.2156 - val_accuracy: 0.9236\n",
      "Epoch 40/50\n",
      "115/115 [==============================] - 0s 2ms/step - loss: 0.1506 - accuracy: 0.9608 - val_loss: 0.2199 - val_accuracy: 0.9306\n",
      "Epoch 41/50\n",
      "115/115 [==============================] - 0s 2ms/step - loss: 0.1421 - accuracy: 0.9643 - val_loss: 0.1988 - val_accuracy: 0.9306\n",
      "Epoch 42/50\n",
      "115/115 [==============================] - 0s 2ms/step - loss: 0.1425 - accuracy: 0.9661 - val_loss: 0.2101 - val_accuracy: 0.9236\n",
      "Epoch 43/50\n",
      "115/115 [==============================] - 0s 2ms/step - loss: 0.1394 - accuracy: 0.9652 - val_loss: 0.1931 - val_accuracy: 0.9375\n",
      "Epoch 44/50\n",
      "115/115 [==============================] - 0s 2ms/step - loss: 0.1358 - accuracy: 0.9678 - val_loss: 0.1955 - val_accuracy: 0.9375\n",
      "Epoch 45/50\n",
      "115/115 [==============================] - 0s 2ms/step - loss: 0.1319 - accuracy: 0.9687 - val_loss: 0.2056 - val_accuracy: 0.9201\n",
      "Epoch 46/50\n",
      "115/115 [==============================] - 0s 2ms/step - loss: 0.1277 - accuracy: 0.9652 - val_loss: 0.1838 - val_accuracy: 0.9410\n",
      "Epoch 47/50\n",
      "115/115 [==============================] - 0s 2ms/step - loss: 0.1237 - accuracy: 0.9713 - val_loss: 0.1881 - val_accuracy: 0.9271\n",
      "Epoch 48/50\n",
      "115/115 [==============================] - 0s 2ms/step - loss: 0.1214 - accuracy: 0.9687 - val_loss: 0.1893 - val_accuracy: 0.9306\n",
      "Epoch 49/50\n",
      "115/115 [==============================] - 0s 2ms/step - loss: 0.1192 - accuracy: 0.9713 - val_loss: 0.1675 - val_accuracy: 0.9340\n",
      "Epoch 50/50\n",
      "115/115 [==============================] - 0s 2ms/step - loss: 0.1135 - accuracy: 0.9730 - val_loss: 0.1731 - val_accuracy: 0.9375\n"
     ]
    }
   ],
   "source": [
    "# Model from above, but now with ten output neurons:\n",
    "\n",
    "model = Sequential()\n",
    "model.add(Dense(12, activation='relu', input_dim=64))\n",
    "model.add(Dense(8, activation='relu'))\n",
    "model.add(Dense(10, activation='softmax'))\n",
    "\n",
    "model.compile(optimizer='adam',\n",
    "              loss='categorical_crossentropy',\n",
    "              metrics=['accuracy'])\n",
    "\n",
    "results = model.fit(X_pure_train, y_pure_train,\n",
    "                   epochs=50, batch_size=10,\n",
    "                   validation_data=(X_val, y_val))"
   ]
  },
  {
   "cell_type": "markdown",
   "metadata": {
    "hidden": true
   },
   "source": [
    "$$\\large \\text{Softmax}(x_{i}) = \\frac{\\exp(x_i)}{\\sum_j \\exp(x_j)}$$\n",
    "\n",
    "The sofmax function outputs a number between 0 and 1 for each of our classes.  All of the probabilities of the classes sum up to 1.\n",
    "\n",
    "The number of nodes in our output layer equals the number of categories in our dataset.\n",
    "\n",
    "We also need a new loss function: **categorical crossentropy**, which calculates a separate loss for each label and then sums the results."
   ]
  },
  {
   "cell_type": "code",
   "execution_count": 40,
   "metadata": {
    "ExecuteTime": {
     "end_time": "2022-05-05T18:58:46.760876Z",
     "start_time": "2022-05-05T18:58:46.539705Z"
    },
    "hidden": true
   },
   "outputs": [],
   "source": [
    "history = results.history\n",
    "training_loss = history['loss']\n",
    "val_loss = history['val_loss']\n",
    "training_accuracy = history['accuracy']\n",
    "val_accuracy = history['val_accuracy']"
   ]
  },
  {
   "cell_type": "code",
   "execution_count": 41,
   "metadata": {
    "ExecuteTime": {
     "end_time": "2022-05-05T18:58:48.156745Z",
     "start_time": "2022-05-05T18:58:47.577298Z"
    },
    "hidden": true,
    "scrolled": true
   },
   "outputs": [
    {
     "data": {
      "image/png": "[encoded data removed]",
      "text/plain": [
       "<Figure size 1080x360 with 2 Axes>"
      ]
     },
     "metadata": {
      "needs_background": "light"
     },
     "output_type": "display_data"
    }
   ],
   "source": [
    "fig, (ax1,ax2) = plt.subplots(1,2,figsize=(15,5))\n",
    "\n",
    "\n",
    "sns.lineplot(x=list(range(len(training_loss))),\n",
    "             y=training_loss, color='r', label='training', ax=ax1)\n",
    "sns.lineplot(x=list(range(len(val_loss))),\n",
    "             y=val_loss, color='b', label='validation', ax=ax1)\n",
    "sns.lineplot(x=list(range(len(training_loss))),\n",
    "             y=training_accuracy, color='r', label='training',ax=ax2)\n",
    "sns.lineplot(x=list(range(len(val_loss))),\n",
    "             y=val_accuracy, color='b', label='validation',ax=ax2)\n",
    "\n",
    "ax1.set_title('Loss')\n",
    "ax2.set_title('Accuracy')\n",
    "ax1.legend();"
   ]
  },
  {
   "cell_type": "code",
   "execution_count": 42,
   "metadata": {
    "ExecuteTime": {
     "end_time": "2022-05-05T19:01:02.552293Z",
     "start_time": "2022-05-05T19:01:02.188655Z"
    }
   },
   "outputs": [],
   "source": [
    "preds = model.predict(X_test)"
   ]
  },
  {
   "cell_type": "code",
   "execution_count": 43,
   "metadata": {
    "ExecuteTime": {
     "end_time": "2022-05-05T19:01:09.054304Z",
     "start_time": "2022-05-05T19:01:08.834925Z"
    }
   },
   "outputs": [
    {
     "data": {
      "text/plain": [
       "array([5.1764582e-06, 7.2942344e-06, 7.7048750e-09, 2.5256335e-11,\n",
       "       2.2428297e-04, 1.5945245e-04, 9.9956435e-01, 5.0853288e-10,\n",
       "       3.8005161e-05, 1.3837491e-06], dtype=float32)"
      ]
     },
     "execution_count": 43,
     "metadata": {},
     "output_type": "execute_result"
    }
   ],
   "source": [
    "preds[0]"
   ]
  },
  {
   "cell_type": "code",
   "execution_count": 44,
   "metadata": {
    "ExecuteTime": {
     "end_time": "2022-05-05T19:01:50.052686Z",
     "start_time": "2022-05-05T19:01:49.822290Z"
    }
   },
   "outputs": [
    {
     "data": {
      "text/plain": [
       "(0.99956435, 6)"
      ]
     },
     "execution_count": 44,
     "metadata": {},
     "output_type": "execute_result"
    }
   ],
   "source": [
    "preds[0].max(), preds[0].argmax()"
   ]
  },
  {
   "cell_type": "code",
   "execution_count": 45,
   "metadata": {
    "ExecuteTime": {
     "end_time": "2022-05-05T19:02:43.107061Z",
     "start_time": "2022-05-05T19:02:42.764941Z"
    }
   },
   "outputs": [
    {
     "data": {
      "text/plain": [
       "<matplotlib.image.AxesImage at 0x285d10f5a90>"
      ]
     },
     "execution_count": 45,
     "metadata": {},
     "output_type": "execute_result"
    },
    {
     "data": {
      "image/png": "[encoded data removed]",
      "text/plain": [
       "<Figure size 432x288 with 1 Axes>"
      ]
     },
     "metadata": {
      "needs_background": "light"
     },
     "output_type": "display_data"
    }
   ],
   "source": [
    "plt.imshow(X_test[0].reshape(8,8), cmap='Greys')"
   ]
  },
  {
   "cell_type": "code",
   "execution_count": 46,
   "metadata": {
    "ExecuteTime": {
     "end_time": "2022-05-05T19:02:56.950020Z",
     "start_time": "2022-05-05T19:02:56.728601Z"
    }
   },
   "outputs": [
    {
     "data": {
      "text/plain": [
       "6"
      ]
     },
     "execution_count": 46,
     "metadata": {},
     "output_type": "execute_result"
    }
   ],
   "source": [
    "y_train[0]"
   ]
  },
  {
   "cell_type": "code",
   "execution_count": 47,
   "metadata": {
    "ExecuteTime": {
     "end_time": "2022-05-05T19:03:57.424578Z",
     "start_time": "2022-05-05T19:03:57.205134Z"
    }
   },
   "outputs": [
    {
     "data": {
      "text/plain": [
       "array([[6],\n",
       "       [9],\n",
       "       [3],\n",
       "       [7],\n",
       "       [2],\n",
       "       [1],\n",
       "       [5],\n",
       "       [2],\n",
       "       [5],\n",
       "       [2],\n",
       "       [1],\n",
       "       [9],\n",
       "       [4],\n",
       "       [0],\n",
       "       [4],\n",
       "       [2],\n",
       "       [3],\n",
       "       [7],\n",
       "       [8],\n",
       "       [8],\n",
       "       [4],\n",
       "       [3],\n",
       "       [9],\n",
       "       [7],\n",
       "       [5],\n",
       "       [6],\n",
       "       [3],\n",
       "       [5],\n",
       "       [6],\n",
       "       [3],\n",
       "       [4],\n",
       "       [9],\n",
       "       [1],\n",
       "       [4],\n",
       "       [4],\n",
       "       [6],\n",
       "       [9],\n",
       "       [4],\n",
       "       [7],\n",
       "       [6],\n",
       "       [6],\n",
       "       [9],\n",
       "       [1],\n",
       "       [3],\n",
       "       [6],\n",
       "       [1],\n",
       "       [3],\n",
       "       [0],\n",
       "       [6],\n",
       "       [5],\n",
       "       [5],\n",
       "       [1],\n",
       "       [9],\n",
       "       [5],\n",
       "       [6],\n",
       "       [0],\n",
       "       [9],\n",
       "       [0],\n",
       "       [0],\n",
       "       [1],\n",
       "       [0],\n",
       "       [4],\n",
       "       [5],\n",
       "       [2],\n",
       "       [4],\n",
       "       [5],\n",
       "       [7],\n",
       "       [0],\n",
       "       [7],\n",
       "       [5],\n",
       "       [9],\n",
       "       [5],\n",
       "       [5],\n",
       "       [4],\n",
       "       [7],\n",
       "       [0],\n",
       "       [4],\n",
       "       [5],\n",
       "       [5],\n",
       "       [9],\n",
       "       [9],\n",
       "       [0],\n",
       "       [2],\n",
       "       [3],\n",
       "       [8],\n",
       "       [0],\n",
       "       [6],\n",
       "       [4],\n",
       "       [4],\n",
       "       [9],\n",
       "       [1],\n",
       "       [2],\n",
       "       [8],\n",
       "       [3],\n",
       "       [5],\n",
       "       [2],\n",
       "       [9],\n",
       "       [0],\n",
       "       [4],\n",
       "       [4],\n",
       "       [4],\n",
       "       [3],\n",
       "       [5],\n",
       "       [3],\n",
       "       [1],\n",
       "       [3],\n",
       "       [5],\n",
       "       [9],\n",
       "       [4],\n",
       "       [2],\n",
       "       [7],\n",
       "       [7],\n",
       "       [4],\n",
       "       [4],\n",
       "       [1],\n",
       "       [9],\n",
       "       [2],\n",
       "       [7],\n",
       "       [8],\n",
       "       [7],\n",
       "       [2],\n",
       "       [6],\n",
       "       [9],\n",
       "       [4],\n",
       "       [0],\n",
       "       [7],\n",
       "       [2],\n",
       "       [7],\n",
       "       [5],\n",
       "       [8],\n",
       "       [7],\n",
       "       [5],\n",
       "       [7],\n",
       "       [7],\n",
       "       [0],\n",
       "       [6],\n",
       "       [6],\n",
       "       [4],\n",
       "       [2],\n",
       "       [8],\n",
       "       [0],\n",
       "       [9],\n",
       "       [4],\n",
       "       [6],\n",
       "       [9],\n",
       "       [9],\n",
       "       [6],\n",
       "       [9],\n",
       "       [0],\n",
       "       [3],\n",
       "       [5],\n",
       "       [6],\n",
       "       [6],\n",
       "       [0],\n",
       "       [6],\n",
       "       [4],\n",
       "       [3],\n",
       "       [9],\n",
       "       [3],\n",
       "       [9],\n",
       "       [7],\n",
       "       [2],\n",
       "       [9],\n",
       "       [0],\n",
       "       [4],\n",
       "       [5],\n",
       "       [3],\n",
       "       [6],\n",
       "       [5],\n",
       "       [9],\n",
       "       [9],\n",
       "       [8],\n",
       "       [4],\n",
       "       [2],\n",
       "       [1],\n",
       "       [3],\n",
       "       [7],\n",
       "       [7],\n",
       "       [2],\n",
       "       [2],\n",
       "       [3],\n",
       "       [9],\n",
       "       [8],\n",
       "       [0],\n",
       "       [3],\n",
       "       [2],\n",
       "       [2],\n",
       "       [5],\n",
       "       [6],\n",
       "       [9],\n",
       "       [9],\n",
       "       [4],\n",
       "       [1],\n",
       "       [5],\n",
       "       [4],\n",
       "       [2],\n",
       "       [3],\n",
       "       [6],\n",
       "       [4],\n",
       "       [8],\n",
       "       [5],\n",
       "       [9],\n",
       "       [5],\n",
       "       [7],\n",
       "       [8],\n",
       "       [9],\n",
       "       [4],\n",
       "       [8],\n",
       "       [1],\n",
       "       [5],\n",
       "       [4],\n",
       "       [4],\n",
       "       [9],\n",
       "       [6],\n",
       "       [1],\n",
       "       [8],\n",
       "       [6],\n",
       "       [0],\n",
       "       [4],\n",
       "       [5],\n",
       "       [2],\n",
       "       [7],\n",
       "       [4],\n",
       "       [6],\n",
       "       [4],\n",
       "       [5],\n",
       "       [6],\n",
       "       [0],\n",
       "       [3],\n",
       "       [2],\n",
       "       [3],\n",
       "       [6],\n",
       "       [7],\n",
       "       [1],\n",
       "       [5],\n",
       "       [1],\n",
       "       [4],\n",
       "       [7],\n",
       "       [6],\n",
       "       [8],\n",
       "       [8],\n",
       "       [5],\n",
       "       [5],\n",
       "       [1],\n",
       "       [6],\n",
       "       [2],\n",
       "       [8],\n",
       "       [8],\n",
       "       [9],\n",
       "       [9],\n",
       "       [7],\n",
       "       [6],\n",
       "       [2],\n",
       "       [2],\n",
       "       [2],\n",
       "       [3],\n",
       "       [4],\n",
       "       [8],\n",
       "       [8],\n",
       "       [3],\n",
       "       [6],\n",
       "       [0],\n",
       "       [9],\n",
       "       [7],\n",
       "       [7],\n",
       "       [0],\n",
       "       [1],\n",
       "       [0],\n",
       "       [4],\n",
       "       [5],\n",
       "       [1],\n",
       "       [5],\n",
       "       [3],\n",
       "       [6],\n",
       "       [0],\n",
       "       [4],\n",
       "       [1],\n",
       "       [0],\n",
       "       [0],\n",
       "       [3],\n",
       "       [6],\n",
       "       [5],\n",
       "       [9],\n",
       "       [7],\n",
       "       [3],\n",
       "       [5],\n",
       "       [5],\n",
       "       [9],\n",
       "       [9],\n",
       "       [8],\n",
       "       [5],\n",
       "       [3],\n",
       "       [3],\n",
       "       [2],\n",
       "       [0],\n",
       "       [5],\n",
       "       [8],\n",
       "       [3],\n",
       "       [4],\n",
       "       [0],\n",
       "       [2],\n",
       "       [4],\n",
       "       [6],\n",
       "       [4],\n",
       "       [3],\n",
       "       [4],\n",
       "       [5],\n",
       "       [0],\n",
       "       [5],\n",
       "       [2],\n",
       "       [1],\n",
       "       [3],\n",
       "       [1],\n",
       "       [4],\n",
       "       [1],\n",
       "       [1],\n",
       "       [7],\n",
       "       [0],\n",
       "       [1],\n",
       "       [5],\n",
       "       [2],\n",
       "       [1],\n",
       "       [2],\n",
       "       [8],\n",
       "       [7],\n",
       "       [0],\n",
       "       [6],\n",
       "       [4],\n",
       "       [8],\n",
       "       [8],\n",
       "       [5],\n",
       "       [1],\n",
       "       [8],\n",
       "       [4],\n",
       "       [5],\n",
       "       [8],\n",
       "       [7],\n",
       "       [9],\n",
       "       [8],\n",
       "       [5],\n",
       "       [0],\n",
       "       [6],\n",
       "       [2],\n",
       "       [0],\n",
       "       [7],\n",
       "       [9],\n",
       "       [8],\n",
       "       [9],\n",
       "       [5],\n",
       "       [2],\n",
       "       [7],\n",
       "       [7],\n",
       "       [1],\n",
       "       [8],\n",
       "       [7],\n",
       "       [4],\n",
       "       [3],\n",
       "       [8],\n",
       "       [3],\n",
       "       [5]])"
      ]
     },
     "execution_count": 47,
     "metadata": {},
     "output_type": "execute_result"
    }
   ],
   "source": [
    "y_test_restored = ohe.inverse_transform(y_test)\n",
    "y_test_restored"
   ]
  },
  {
   "cell_type": "code",
   "execution_count": 48,
   "metadata": {
    "ExecuteTime": {
     "end_time": "2022-05-05T19:04:40.537955Z",
     "start_time": "2022-05-05T19:04:40.317513Z"
    }
   },
   "outputs": [
    {
     "data": {
      "text/plain": [
       "array([6, 9, 3, 7, 2, 1, 5, 2, 5, 2, 1, 1, 4, 0, 4, 2, 3, 7, 8, 8, 4, 3,\n",
       "       9, 7, 5, 6, 3, 5, 6, 3, 4, 9, 1, 4, 4, 6, 9, 4, 7, 6, 6, 9, 1, 3,\n",
       "       6, 1, 3, 0, 6, 5, 5, 1, 9, 5, 6, 0, 9, 0, 0, 1, 0, 4, 5, 2, 4, 5,\n",
       "       7, 0, 7, 5, 9, 5, 5, 4, 7, 0, 4, 5, 5, 9, 9, 0, 2, 3, 8, 0, 6, 4,\n",
       "       4, 9, 1, 2, 8, 3, 5, 2, 9, 4, 4, 4, 4, 3, 5, 3, 1, 3, 5, 9, 4, 2,\n",
       "       7, 7, 4, 4, 1, 9, 8, 7, 8, 7, 2, 6, 9, 4, 0, 7, 3, 7, 5, 8, 7, 5,\n",
       "       7, 9, 0, 6, 6, 4, 2, 8, 0, 9, 4, 6, 9, 9, 6, 9, 0, 0, 5, 6, 6, 0,\n",
       "       6, 4, 2, 9, 3, 1, 7, 2, 9, 0, 4, 5, 3, 6, 5, 9, 9, 8, 4, 2, 1, 3,\n",
       "       7, 7, 2, 2, 3, 9, 8, 0, 3, 2, 2, 5, 6, 9, 9, 4, 1, 5, 4, 2, 3, 6,\n",
       "       4, 8, 5, 9, 5, 7, 8, 9, 4, 8, 1, 5, 4, 4, 9, 6, 1, 8, 6, 0, 4, 5,\n",
       "       2, 7, 4, 6, 4, 5, 6, 0, 3, 2, 3, 6, 7, 1, 5, 1, 4, 7, 6, 9, 8, 5,\n",
       "       5, 1, 0, 1, 8, 8, 9, 9, 7, 6, 2, 2, 2, 3, 4, 8, 8, 3, 6, 0, 3, 7,\n",
       "       7, 0, 1, 0, 4, 5, 1, 5, 3, 6, 0, 4, 1, 0, 0, 3, 6, 5, 9, 7, 3, 5,\n",
       "       5, 9, 9, 4, 5, 3, 3, 8, 0, 5, 8, 3, 4, 0, 2, 4, 6, 4, 3, 4, 5, 0,\n",
       "       5, 2, 1, 3, 1, 4, 1, 1, 7, 0, 1, 5, 8, 1, 2, 8, 7, 0, 6, 4, 8, 8,\n",
       "       5, 1, 8, 4, 5, 8, 7, 9, 8, 6, 0, 6, 2, 0, 7, 9, 1, 9, 5, 2, 7, 7,\n",
       "       9, 8, 7, 4, 3, 8, 3, 5], dtype=int64)"
      ]
     },
     "execution_count": 48,
     "metadata": {},
     "output_type": "execute_result"
    }
   ],
   "source": [
    "y_hat = np.argmax(preds, axis=-1)\n",
    "y_hat"
   ]
  },
  {
   "cell_type": "code",
   "execution_count": 49,
   "metadata": {
    "ExecuteTime": {
     "end_time": "2022-05-05T19:05:08.969735Z",
     "start_time": "2022-05-05T19:05:08.758233Z"
    }
   },
   "outputs": [
    {
     "data": {
      "text/plain": [
       "array([[32,  0,  0,  0,  1,  0,  0,  0,  0,  0],\n",
       "       [ 0, 27,  0,  0,  0,  0,  0,  0,  0,  1],\n",
       "       [ 0,  1, 28,  1,  0,  0,  0,  0,  3,  0],\n",
       "       [ 1,  0,  1, 32,  0,  0,  0,  0,  0,  0],\n",
       "       [ 0,  0,  0,  0, 46,  0,  0,  0,  0,  0],\n",
       "       [ 0,  0,  0,  0,  0, 46,  1,  0,  0,  0],\n",
       "       [ 1,  0,  0,  0,  0,  0, 34,  0,  0,  0],\n",
       "       [ 0,  0,  0,  0,  0,  0,  0, 33,  0,  1],\n",
       "       [ 0,  1,  0,  0,  1,  0,  0,  0, 27,  1],\n",
       "       [ 0,  2,  0,  1,  0,  0,  0,  0,  0, 37]], dtype=int64)"
      ]
     },
     "execution_count": 49,
     "metadata": {},
     "output_type": "execute_result"
    }
   ],
   "source": [
    "confusion_matrix(y_test_restored, y_hat)"
   ]
  },
  {
   "cell_type": "code",
   "execution_count": 50,
   "metadata": {
    "ExecuteTime": {
     "end_time": "2022-05-05T19:05:52.160984Z",
     "start_time": "2022-05-05T19:05:51.422753Z"
    }
   },
   "outputs": [
    {
     "name": "stdout",
     "output_type": "stream",
     "text": [
      "Confusion Matrix, without normalization\n",
      "[[32  0  0  0  1  0  0  0  0  0]\n",
      " [ 0 27  0  0  0  0  0  0  0  1]\n",
      " [ 0  1 28  1  0  0  0  0  3  0]\n",
      " [ 1  0  1 32  0  0  0  0  0  0]\n",
      " [ 0  0  0  0 46  0  0  0  0  0]\n",
      " [ 0  0  0  0  0 46  1  0  0  0]\n",
      " [ 1  0  0  0  0  0 34  0  0  0]\n",
      " [ 0  0  0  0  0  0  0 33  0  1]\n",
      " [ 0  1  0  0  1  0  0  0 27  1]\n",
      " [ 0  2  0  1  0  0  0  0  0 37]]\n"
     ]
    },
    {
     "data": {
      "image/png": "[encoded data removed]",
      "text/plain": [
       "<Figure size 432x288 with 2 Axes>"
      ]
     },
     "metadata": {
      "needs_background": "light"
     },
     "output_type": "display_data"
    }
   ],
   "source": [
    "plot_confusion_matrix(confusion_matrix(y_test_restored, y_hat), classes=list(range(0,10)))"
   ]
  },
  {
   "cell_type": "markdown",
   "metadata": {
    "hidden": true
   },
   "source": [
    "Wow, look at that performance!  \n",
    "\n",
    "That is great, but remember, we were dealing with simple black and white images.  With color, our basic neural net will have less success.\n",
    "\n",
    "We will explore more advanced tools in the coming days.\n"
   ]
  }
 ],
 "metadata": {
  "celltoolbar": "Raw Cell Format",
  "colab": {
   "collapsed_sections": [],
   "name": "intro-to-keras.ipynb",
   "provenance": []
  },
  "kernelspec": {
   "display_name": "tfv",
   "language": "python",
   "name": "tfv"
  },
  "language_info": {
   "codemirror_mode": {
    "name": "ipython",
    "version": 3
   },
   "file_extension": ".py",
   "mimetype": "text/x-python",
   "name": "python",
   "nbconvert_exporter": "python",
   "pygments_lexer": "ipython3",
   "version": "3.9.12"
  },
  "toc": {
   "base_numbering": 1,
   "nav_menu": {},
   "number_sections": true,
   "sideBar": true,
   "skip_h1_title": false,
   "title_cell": "Table of Contents",
   "title_sidebar": "Contents",
   "toc_cell": false,
   "toc_position": {},
   "toc_section_display": true,
   "toc_window_display": false
  },
  "varInspector": {
   "cols": {
    "lenName": 16,
    "lenType": 16,
    "lenVar": 40
   },
   "kernels_config": {
    "python": {
     "delete_cmd_postfix": "",
     "delete_cmd_prefix": "del ",
     "library": "var_list.py",
     "varRefreshCmd": "print(var_dic_list())"
    },
    "r": {
     "delete_cmd_postfix": ") ",
     "delete_cmd_prefix": "rm(",
     "library": "var_list.r",
     "varRefreshCmd": "cat(var_dic_list()) "
    }
   },
   "types_to_exclude": [
    "module",
    "function",
    "builtin_function_or_method",
    "instance",
    "_Feature"
   ],
   "window_display": false
  }
 },
 "nbformat": 4,
 "nbformat_minor": 4
}
