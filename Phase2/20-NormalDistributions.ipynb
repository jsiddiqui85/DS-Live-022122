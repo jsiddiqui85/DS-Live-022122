{
 "cells": [
  {
   "cell_type": "markdown",
   "metadata": {
    "heading_collapsed": true
   },
   "source": [
    "# Objectives"
   ]
  },
  {
   "cell_type": "markdown",
   "metadata": {
    "hidden": true
   },
   "source": [
    "* Describe the normal distribution's Empirical Rule\n",
    "* Calculate $z$-scores from a normal distribution through standardization\n",
    "* Define the Central Limit Theorem\n"
   ]
  },
  {
   "cell_type": "code",
   "execution_count": 1,
   "metadata": {
    "hidden": true
   },
   "outputs": [],
   "source": [
    "# Imports!\n",
    "from scipy import stats\n",
    "\n",
    "import matplotlib.pyplot as plt\n",
    "%matplotlib inline\n",
    "import seaborn as sns\n",
    "\n",
    "import pandas as pd\n",
    "import numpy as np"
   ]
  },
  {
   "cell_type": "markdown",
   "metadata": {
    "heading_collapsed": true
   },
   "source": [
    "# Normal Distribution"
   ]
  },
  {
   "cell_type": "markdown",
   "metadata": {
    "hidden": true
   },
   "source": [
    "We'll find that the **normal distribution** or **normal curve** or **bell curve** (it has many names) is a very common distribution and it's very useful to us in statistics."
   ]
  },
  {
   "cell_type": "markdown",
   "metadata": {
    "hidden": true
   },
   "source": [
    "![](images/normal_curve_animation.gif)"
   ]
  },
  {
   "cell_type": "markdown",
   "metadata": {
    "heading_collapsed": true,
    "hidden": true
   },
   "source": [
    "## Why a Normal Distribution?"
   ]
  },
  {
   "cell_type": "markdown",
   "metadata": {
    "hidden": true
   },
   "source": [
    "Turns out the normal distribution describes many phenomena. Think of anything that has a typical range:\n",
    "\n",
    "- human body temperatures\n",
    "- sizes of elephants\n",
    "- sizes of stars\n",
    "- populations of cities\n",
    "- IQ\n",
    "- heart rate"
   ]
  },
  {
   "cell_type": "markdown",
   "metadata": {
    "hidden": true
   },
   "source": [
    "Among human beings, 98.6 degrees Fahrenheit is an _average_ body temperature. Many folks' temperatures won't measure _exactly_ 98.6 degrees, but most measurements will be _close_. It is much more common to have a body temperature close to 98.6 (whether slightly more or slightly less) than it is to have a body temperature far from 98.6 (whether significantly more or significantly less). This is a hallmark of a normally distributed variable."
   ]
  },
  {
   "cell_type": "code",
   "execution_count": 4,
   "metadata": {
    "hidden": true
   },
   "outputs": [
    {
     "data": {
      "image/png": "[encoded data removed]",
      "text/plain": [
       "<Figure size 432x288 with 1 Axes>"
      ]
     },
     "metadata": {
      "needs_background": "light"
     },
     "output_type": "display_data"
    }
   ],
   "source": [
    "# Visualize it\n",
    "fig, ax = plt.subplots()\n",
    "\n",
    "mu = 0     # typically describe the mean\n",
    "sigma = 1   # standard deviation\n",
    "# This defines the points along the x-axis\n",
    "x = np.linspace(\n",
    "        stats.norm(mu,sigma).ppf(0.01), # Start plotting here\n",
    "        stats.norm(mu,sigma).ppf(0.99), # End plotting here\n",
    "        100                             # Number of points\n",
    ")\n",
    "# The values as at x given by the normal curve (with mu & sigma)\n",
    "y = stats.norm(mu,sigma).pdf(x)\n",
    "ax.plot(x, y,'r-');"
   ]
  },
  {
   "cell_type": "markdown",
   "metadata": {},
   "source": [
    "The Standard Normal Distribution, also known as a Gaussian distribution, is special not only because it shows up EVERYWHERE but also because it's symmetric (mean == median == mode)"
   ]
  },
  {
   "cell_type": "markdown",
   "metadata": {
    "hidden": true
   },
   "source": [
    "### Normal Curve\n",
    "\n",
    "If you're curious about how we can mathematically define a normal curve, we give this below. (Don't worry, you don't need to recall the mathematical definition).\n",
    "\n",
    "<details>\n",
    "\n",
    "$\\Large f(x) = \\frac{1}{\\sqrt{2\\pi\\sigma^2}}e^{\\frac{-(x - \\mu)^2}{2\\sigma^2}}$\n",
    "    \n",
    "This might look complicated at first, but it means that the we describe a normal curve with just **two parameters**: $\\sigma^2$ (the variance) & $\\mu$ (the mean). You may see the notation $N(\\mu, \\sigma^2)$ which emphasizes there are only two parameters to describe the distribution.\n",
    "</details>"
   ]
  },
  {
   "cell_type": "markdown",
   "metadata": {
    "hidden": true
   },
   "source": [
    "\n"
   ]
  },
  {
   "cell_type": "markdown",
   "metadata": {
    "heading_collapsed": true,
    "hidden": true
   },
   "source": [
    "## *Standard* Normal Distribution"
   ]
  },
  {
   "cell_type": "markdown",
   "metadata": {
    "hidden": true
   },
   "source": [
    "A special normal distribution called the **standard normal distribution** has a mean of 0 and variance of 1. This is also known as a **z distribution**."
   ]
  },
  {
   "cell_type": "markdown",
   "metadata": {
    "hidden": true
   },
   "source": [
    "Since we know that the shape of a normal distribution changes based on its mean and variance, we'll typically convert or **standardize** our normal distribution to the standard normal distribution."
   ]
  },
  {
   "cell_type": "markdown",
   "metadata": {
    "hidden": true
   },
   "source": [
    "We simply subtract the mean $\\mu$ from each value and then divide by the standard deviation $\\sigma$:\n",
    "\n",
    "$$\\frac{x - \\mu}{\\sigma}$$\n",
    "\n",
    "We call this process **standardization**."
   ]
  },
  {
   "cell_type": "markdown",
   "metadata": {
    "hidden": true
   },
   "source": [
    "![norm_to_z](images/norm_to_z.png)"
   ]
  },
  {
   "cell_type": "code",
   "execution_count": 9,
   "metadata": {
    "hidden": true,
    "scrolled": false
   },
   "outputs": [
    {
     "data": {
      "text/plain": [
       "5.076738586392835"
      ]
     },
     "execution_count": 9,
     "metadata": {},
     "output_type": "execute_result"
    }
   ],
   "source": [
    "# Let's transform the normal distribution centered on 5\n",
    "# with a standard deviation of 2 into a standard normal\n",
    "\n",
    "# Generating our data\n",
    "normal_dist = np.random.normal(loc=5, scale=2, size=1000) \n",
    "                                #loc = mean, scale is standard deviation, size = # of points generating\n",
    "\n",
    "np.mean(normal_dist)"
   ]
  },
  {
   "cell_type": "code",
   "execution_count": 8,
   "metadata": {},
   "outputs": [
    {
     "data": {
      "text/plain": [
       "1000"
      ]
     },
     "execution_count": 8,
     "metadata": {},
     "output_type": "execute_result"
    }
   ],
   "source": [
    "len(normal_dist)"
   ]
  },
  {
   "cell_type": "code",
   "execution_count": 10,
   "metadata": {
    "scrolled": true
   },
   "outputs": [
    {
     "data": {
      "text/plain": [
       "array([ 5.38609431,  5.61313595,  7.77718925,  7.2137903 ,  6.51797209,\n",
       "        7.72264295,  6.84017166,  1.46670504,  4.79240728,  6.03805369,\n",
       "        5.42159577,  3.68875223,  7.87141985,  5.52312995,  3.69043366,\n",
       "        6.12886191,  3.47122442,  6.01759285,  4.43113304,  4.92559402,\n",
       "        3.54749886,  7.9052316 ,  7.01519156,  2.67353544,  5.05774636,\n",
       "        6.48301133,  5.69718821,  4.49183736,  4.72098632,  3.97482785,\n",
       "        6.88149645,  3.23534457,  4.34145068,  2.9656983 ,  6.90107823,\n",
       "        3.43858922,  5.10517517,  6.76265569,  8.99758561,  5.27157406,\n",
       "        4.24699042,  3.28453659,  2.69060925,  5.01641493,  5.71326587,\n",
       "        6.90203615,  6.28911787,  2.30946789,  5.08246681,  6.56982351,\n",
       "        6.24645785,  4.23292147,  1.90146394,  7.00900595,  3.29621655,\n",
       "        5.24115341,  4.61667927,  3.99275077,  5.68352547,  5.53986737,\n",
       "        4.3372706 ,  5.89008337,  2.75309561,  8.80983285,  8.07313563,\n",
       "        5.67442308,  9.14468971,  4.7746095 ,  6.8493216 ,  2.59244373,\n",
       "        5.86182589,  7.05620867,  6.77849037,  4.87622189,  4.77917688,\n",
       "        2.52617645,  6.73666658,  7.98109411,  4.41218534,  5.13080219,\n",
       "        3.16124162,  4.85899577,  4.33699751,  7.77302215,  3.54312545,\n",
       "        2.84628097,  5.36716491,  3.63233245,  3.73745153,  6.66660443,\n",
       "        3.88778176,  4.87895403,  6.12079171,  6.64015493, 10.01491166,\n",
       "        5.76966066,  8.63590894,  6.21794269,  6.75680985,  3.84956768,\n",
       "        1.73652201,  2.9022858 ,  7.59520467,  1.75928419,  5.36938254,\n",
       "        6.53747496,  5.14360892,  3.75791055,  3.01651906,  1.92768016,\n",
       "        1.82652548,  5.06735387,  4.44526423,  8.88893934,  8.1660713 ,\n",
       "        3.34837598,  5.61696005,  4.00428632,  5.29821365,  1.59491582,\n",
       "        3.1623467 ,  8.67656267,  3.67145397,  6.70264734,  4.25399958,\n",
       "        3.23055827,  5.29549097,  0.93964553,  2.31403433,  7.96679148,\n",
       "        5.36732749,  6.0858752 ,  1.93062368,  3.87318526,  3.97949408,\n",
       "        6.66772675,  6.05688802,  4.82921608,  6.64931473,  5.41153894,\n",
       "        3.70403958,  1.34552799,  4.93362797,  4.39494487,  3.10387129,\n",
       "        8.90769223,  3.56546067,  5.5028418 ,  0.70782092,  3.91261179,\n",
       "        8.13308195,  5.43384626, 10.89380244,  8.72515309,  6.78262842,\n",
       "        7.67177106,  5.18232224,  5.11646886,  5.27364636,  3.66210663,\n",
       "        7.23407838,  4.85387576,  6.58539347,  5.85479219,  8.32085903,\n",
       "        2.91846728,  3.13807707,  8.25641633,  4.26459081,  6.5259385 ,\n",
       "        5.13243707,  0.65930219,  6.08715305,  7.44723968,  3.70154217,\n",
       "        3.10110713,  4.80000283,  8.33927666,  4.82263559,  1.93074534,\n",
       "        7.84775272,  6.58692079,  4.09793413,  5.75859836,  1.55620376,\n",
       "        7.56227552,  5.68906067,  0.15962602,  5.10954551,  5.01023525,\n",
       "        3.45236183,  3.92625586,  3.04491159,  3.72205709,  6.45034998,\n",
       "        1.05565732,  4.62286683,  1.66066735,  7.66728696,  9.36327821,\n",
       "        3.87587485,  5.49551325,  4.01923793,  7.50518306,  6.46044476,\n",
       "        5.92887966,  2.93448106,  3.96216321,  5.23268017,  8.33006459,\n",
       "        3.67503152,  6.66306723,  7.98003869,  6.21296685,  4.44590872,\n",
       "        4.74354956,  7.28518709,  5.69121694,  3.90929245,  4.36192431,\n",
       "        7.32380172,  5.07526264,  1.51801176,  8.115621  ,  5.07343342,\n",
       "        4.70865983,  5.89789778,  3.81499558,  4.13295794,  7.44025443,\n",
       "        7.07031462,  5.23112235,  7.55523998,  8.13947993,  2.65028459,\n",
       "        5.73215549,  5.09770574,  6.09898278,  4.27370327,  6.42255224,\n",
       "        1.46067351,  3.89320208,  6.74304186,  5.37267655,  4.68793657,\n",
       "        6.23492662,  6.16927573,  3.4811167 ,  4.3799552 ,  0.42855287,\n",
       "        5.64051181,  6.278882  ,  5.1850514 ,  6.65525458,  7.50397513,\n",
       "        3.16597475,  2.81363357,  1.14506373,  5.84766929,  5.07430735,\n",
       "        2.40216932,  3.79478407,  6.0081487 ,  3.77335445,  6.29602941,\n",
       "        6.21668212,  4.79595715,  7.56434866,  6.94782956,  3.69896001,\n",
       "        7.1626028 ,  6.81563888, 10.19013157,  6.54884241,  5.0179684 ,\n",
       "        5.83251088,  6.48494242,  5.71140001,  5.94058024,  4.65210141,\n",
       "        4.01614448,  5.13155478,  4.53985994,  2.93368578,  7.26917312,\n",
       "        4.3142693 ,  3.78557513,  3.43395107,  2.04323417,  7.02561122,\n",
       "        3.4178903 ,  1.41283258,  4.75099857,  3.50557375,  5.62408389,\n",
       "       -0.05072394,  2.54976284,  4.52002187,  4.43579043,  7.80397252,\n",
       "        4.38795529,  9.79838031,  6.18539772,  3.36584344,  3.79346403,\n",
       "        8.81698206,  9.63233941,  7.35407463,  4.88435837,  3.81545476,\n",
       "        9.54477368,  3.95211445,  5.45548118,  4.46198027,  3.36728023,\n",
       "        5.26704106,  8.63668426,  4.85487563,  4.6073666 ,  6.20360215,\n",
       "        4.70544484,  2.0615446 ,  8.02746382,  8.86794325,  3.71003872,\n",
       "        3.93504099,  8.69135494,  7.54455388,  2.12618935,  3.23588338,\n",
       "        2.64277842,  4.31903731,  5.77020131,  5.69978904,  4.95531501,\n",
       "        6.69495482,  5.86604605,  7.21776119,  4.9820324 ,  5.53687812,\n",
       "        3.01430562,  8.02585459,  4.87551278,  6.53911008,  3.71589226,\n",
       "        7.40664892,  4.24755265,  5.41867134,  2.18253793,  4.21062412,\n",
       "        7.54362476,  5.69372131,  7.48905451,  8.34758808,  0.57706858,\n",
       "        6.04624926,  3.38094283,  1.71810211,  5.9874831 ,  5.03997674,\n",
       "        4.47749664,  5.23365391,  7.72449474,  4.51862641,  2.47656309,\n",
       "        7.7763546 ,  8.03403078,  1.31702222,  0.8571734 ,  8.00846328,\n",
       "        4.99392836,  4.75803282,  4.80285495,  4.35383143,  2.21458566,\n",
       "        3.99048402,  6.17518081,  8.19819627,  3.24631536,  9.64157448,\n",
       "        4.07730083,  5.39562747,  4.70060054,  4.3966203 ,  4.64112091,\n",
       "        4.42546026,  3.31167153,  8.42537182,  2.71413173,  1.02979268,\n",
       "        4.215317  ,  1.9729248 ,  3.43230611,  5.49208416,  6.86180942,\n",
       "        2.99553868,  8.04917208,  4.40701894,  1.40046792,  4.60987095,\n",
       "        3.60381956, 10.35614316,  5.25319421,  4.37702586,  7.82454631,\n",
       "        3.21467739,  3.14588346,  4.21666598,  6.49926846,  6.5206476 ,\n",
       "        6.95484939,  5.3143538 ,  2.68823205,  5.68073755,  5.312241  ,\n",
       "        5.56851992,  7.6630937 ,  7.10062009,  3.06047978,  0.77773547,\n",
       "        8.49502298,  8.25560458,  3.86194082,  0.163134  ,  5.15542627,\n",
       "        4.60160801,  3.95098201,  5.13839047,  3.42746589,  6.29687748,\n",
       "        6.57765007,  5.46799701,  4.26946599,  3.88992123,  3.41048567,\n",
       "        3.83152369, -0.868606  ,  4.92030759,  6.20568092,  3.45523001,\n",
       "        2.84797229,  4.82711647,  6.27537869,  5.28575214,  2.99529289,\n",
       "        3.52225043,  8.01912566,  5.7541933 ,  5.38364985,  5.45843004,\n",
       "        4.88555408,  4.52835796,  6.46942854,  3.07502415,  5.02873832,\n",
       "        4.46421469,  0.57621146,  8.86521105,  1.40683114,  5.22547684,\n",
       "        2.71750303,  4.13999571,  5.60905788,  3.88740692,  1.21575235,\n",
       "        5.14776937,  2.2831077 ,  3.44000923,  6.54876283,  3.69048079,\n",
       "        1.10855286,  6.5669482 ,  3.0350584 ,  7.28886734,  6.64664085,\n",
       "        7.23033844,  2.78101073,  5.81811634,  7.02253456,  3.18717365,\n",
       "        8.27008357,  7.23453838,  4.16150348,  9.01456522,  4.26022183,\n",
       "        5.17195877,  0.60534902,  4.48552749,  6.17157285,  3.71783725,\n",
       "        7.05839676,  4.5981994 ,  7.83564158,  8.70569261,  3.88872809,\n",
       "        4.47171384,  3.1716824 ,  1.61298824,  5.27163895,  4.63236701,\n",
       "        2.44781217,  3.27534271,  2.05491482,  4.86763029,  3.91877263,\n",
       "        3.42286162,  9.40539958,  3.02443669,  6.96235504,  2.74418337,\n",
       "        5.69820169,  6.20719667,  4.20177638,  3.71692932,  3.93943601,\n",
       "        6.66509482,  4.50853233,  8.48004453,  2.35040511,  4.57325837,\n",
       "        2.53268364,  2.64884391,  3.66442021,  4.04149494,  3.39583426,\n",
       "        4.95124538,  5.86679975,  6.01592892,  5.37093603,  2.79480029,\n",
       "        5.76805122,  3.17989247,  3.64337761,  6.00385035,  7.30444702,\n",
       "        5.97995959,  5.10432006,  2.64747135,  6.69035344,  6.61029931,\n",
       "        5.95948609,  5.5878069 ,  5.99068445,  5.3795799 ,  5.61634284,\n",
       "        2.85310763,  4.43417601,  6.41607974,  6.42203507,  7.42821494,\n",
       "        3.91245071,  6.04793166,  4.26061949,  4.80646355,  4.47398459,\n",
       "        4.04285865,  3.40449546,  3.6908697 ,  3.75336442,  4.24471254,\n",
       "        4.26345455,  4.42588939,  3.3468523 ,  4.65516194,  6.26363917,\n",
       "        2.20578616,  6.99237928,  3.39356151,  5.44594768,  8.97171519,\n",
       "        3.13454682,  1.32941376,  5.7103067 ,  3.23678086,  6.88170435,\n",
       "        3.87363559,  4.41697394,  3.05482183,  3.69713738,  5.31310622,\n",
       "        6.84808058,  5.86867506,  4.12240145,  7.25223706,  5.67948694,\n",
       "        3.67314617,  7.26005397,  5.40912381,  4.37482393,  5.22596432,\n",
       "        4.7065621 ,  4.51585146,  4.1165648 ,  5.20883996,  5.15819134,\n",
       "        7.33435423,  4.87038381,  2.84962672,  3.39528527,  7.38039367,\n",
       "        6.2074127 , 11.14769982,  6.27387685,  4.21526006,  4.81481331,\n",
       "        6.42022185,  4.76102605,  6.26298439,  5.44827738,  8.2258736 ,\n",
       "        5.24453527,  3.54270389,  5.09430562,  4.65858027,  9.61931017,\n",
       "        2.98322236,  2.74939319,  4.91951606,  9.50829077,  6.44679789,\n",
       "        5.65997038,  5.8043877 ,  5.42214971,  5.63211054,  4.85864739,\n",
       "        5.64902817,  2.7414788 ,  3.37056658,  5.52570234,  6.3257211 ,\n",
       "        5.06262633,  4.98923573,  3.00888566,  7.78113071,  6.12034263,\n",
       "        5.78656421,  2.86899576,  3.88046776,  3.33678186,  4.35575603,\n",
       "        2.29054496,  3.1577679 ,  2.88821497,  5.30232929,  6.53070999,\n",
       "        1.51443521,  6.14665779,  5.78879796,  3.64396353,  3.30758101,\n",
       "        6.95973729,  4.17503175,  7.51046973,  7.43354764,  4.51843503,\n",
       "        5.12390718,  6.06771173,  4.60897398,  4.84820863,  4.53471764,\n",
       "        1.57875682,  4.66863025,  3.73513164,  2.21617333,  4.53533259,\n",
       "        6.27547137,  3.59444735,  4.64649382,  3.61834941,  5.20743222,\n",
       "        6.02286571,  4.66861337,  5.91423942,  4.31276848,  5.67335599,\n",
       "        3.43934012,  3.1244239 ,  5.12961807,  4.39184617,  6.37513178,\n",
       "        7.4828543 ,  5.93119073,  6.98814341,  5.83631779,  8.69606083,\n",
       "        6.69563505,  3.25979443,  4.59489781,  7.21298097,  4.20445889,\n",
       "        7.43331403,  4.41340401,  8.96002959,  5.63654458,  6.24889613,\n",
       "        0.9202374 ,  2.71599755,  5.79106264,  7.60231447,  2.69990097,\n",
       "        8.11479235,  7.50945542,  2.99119242,  4.62064436,  1.1739092 ,\n",
       "        2.98329135,  5.85897371,  3.49669763,  4.60982349,  6.14323094,\n",
       "        3.89386553,  5.49516814,  6.18675377,  3.83265033,  6.18659875,\n",
       "        3.03021628,  7.99789992,  6.32309448,  5.5431669 ,  3.59855486,\n",
       "        1.51030664,  3.95339657,  3.76342629,  3.83630639,  8.70230993,\n",
       "        4.91843989,  4.78803257,  6.22991608,  5.71800762,  3.47440607,\n",
       "        5.4550985 ,  5.17144896,  4.42438074,  5.50885131,  7.04255861,\n",
       "        9.58843239,  4.7392563 ,  5.93440168,  8.31137245,  7.29168908,\n",
       "        7.01225802,  4.41196418,  6.60626982,  8.63324415,  2.53160879,\n",
       "        3.31168432,  2.70210807,  9.82624084,  7.10197862,  7.52060676,\n",
       "        5.73241091,  5.71817743,  3.21476043,  5.97082706,  5.11538067,\n",
       "        5.38199054,  7.48039818,  5.18136977,  3.66901364,  2.49812575,\n",
       "        4.6019983 ,  4.83032002,  5.07723778,  5.82338888,  5.65950165,\n",
       "        3.15905138,  1.66179104,  4.52697988,  3.03966363,  4.70504075,\n",
       "        1.63013293,  3.99676954,  7.68981272,  1.46501772,  5.40968046,\n",
       "        4.48141477,  5.25558015,  4.20852147,  5.45045176,  1.64142341,\n",
       "        7.14627585,  7.58990741,  2.50063532,  6.97405149,  3.06274293,\n",
       "        3.29413966,  4.6580496 ,  3.30600402,  7.5913704 ,  3.88768274,\n",
       "        2.41081962,  3.44269568,  7.17186589,  7.55006675,  6.96785206,\n",
       "        6.39763357,  5.76842731,  5.05540833,  3.86394287,  6.29398592,\n",
       "        8.07414705,  4.09092638,  7.40194504,  6.15275367,  5.7978816 ,\n",
       "        3.61961846,  6.24990763,  2.16699613,  5.26636475,  4.6195914 ,\n",
       "        4.0209952 ,  8.08993966,  5.55329414,  6.26776959,  5.13961197,\n",
       "        7.18487842,  7.25397962,  2.01479282,  5.26145598,  6.10510927,\n",
       "        4.06869183,  5.41723848,  5.64866643,  1.82138248,  3.89576001,\n",
       "        4.00622783,  0.57573793,  5.60083253,  4.83644244,  4.45106587,\n",
       "        4.6358144 ,  7.06912051,  5.85419607,  3.33243347,  5.10814539,\n",
       "        4.35162242,  4.30999844,  5.41867633,  8.51551225,  8.45862902,\n",
       "        2.11235631,  3.89793992,  5.02863278,  2.37804272,  4.78216084,\n",
       "        8.73248106,  6.66331744,  1.56408466,  7.53198508,  3.96275369,\n",
       "        4.3389167 ,  4.6254504 ,  7.67623821,  4.9798174 ,  5.2179327 ,\n",
       "        3.79655537,  1.74687994,  3.494394  ,  7.30493313,  6.46683441,\n",
       "        7.84671078,  4.23139918,  4.41769995,  6.43122159,  3.62531419,\n",
       "        5.7685872 ,  7.15345884,  5.0582751 ,  6.7314427 ,  3.82565575,\n",
       "        7.91207703,  3.3829042 ,  5.75907889,  5.95494849,  0.60986454,\n",
       "        6.19931804,  4.6906732 ,  7.04042393,  1.95077842,  4.71925643,\n",
       "        7.1496663 ,  5.9523035 ,  5.41506599,  4.93620788,  6.40586164,\n",
       "        6.07874895,  0.68465417,  7.72415931,  4.82178572,  6.98000542,\n",
       "        5.1198056 ,  3.7241647 ,  8.58633043,  8.65828461,  6.12253254,\n",
       "        5.08223471,  7.2927166 ,  5.53649894,  4.17307256,  3.92872546,\n",
       "        3.11156941,  6.02365479,  4.45403594,  7.7321662 ,  6.86919936,\n",
       "        3.49840413,  4.10511117,  6.49535757,  3.29872743,  6.10233617,\n",
       "        7.1232841 ,  6.54692183,  8.52395986,  7.93564296,  4.63308572,\n",
       "        5.44389429,  2.47751328,  3.70968585,  5.17513624,  4.35358971,\n",
       "        1.02038887,  6.09680766,  6.35556348,  6.11236724,  8.64128635,\n",
       "        6.51894411,  4.42237396,  4.13854577,  5.07959317,  5.51806788,\n",
       "        5.87957419,  4.57188282,  3.5268512 ,  8.15944195,  3.7618434 ,\n",
       "        7.99765425,  5.06114366,  3.86125315,  9.27887449,  3.08180152,\n",
       "        5.87466146,  3.70043232,  6.02222443,  2.79999797,  6.14425666,\n",
       "        4.08296182,  2.6458902 ,  7.76917548,  5.26523927,  2.80401884,\n",
       "        2.76534216,  6.31916631,  1.92662411,  8.39579869,  5.89015119,\n",
       "        4.45996239,  3.86409053,  3.87244495,  6.19006103,  3.23062882,\n",
       "        6.16505181,  7.51850687,  7.06662444,  4.33653432,  4.33219305,\n",
       "        0.19347617,  4.4016228 ,  2.33389333,  8.99459681,  6.79056618,\n",
       "        6.91621263,  6.39581876,  2.94517004,  7.59835423,  3.32329417,\n",
       "        5.48938796,  5.78775256,  0.9010143 ,  3.88094694,  5.01178148,\n",
       "        2.47456769,  6.56164209,  4.21922218,  2.58195523,  5.96965953,\n",
       "        5.79665399,  7.64572352,  4.10185617,  7.39957976,  6.09438058,\n",
       "        3.5149084 ,  3.83512595,  8.40760211,  6.73622753,  3.63862846,\n",
       "        3.47341958,  2.83495112,  0.84151263,  8.9923624 ,  6.67194762])"
      ]
     },
     "execution_count": 10,
     "metadata": {},
     "output_type": "execute_result"
    }
   ],
   "source": [
    "# Generate 1000 random points\n",
    "normal_dist"
   ]
  },
  {
   "cell_type": "code",
   "execution_count": 12,
   "metadata": {},
   "outputs": [
    {
     "data": {
      "text/plain": [
       "7.993605777301126e-18"
      ]
     },
     "execution_count": 12,
     "metadata": {},
     "output_type": "execute_result"
    }
   ],
   "source": [
    "# Here, let's standardize by hand\n",
    "# (x - mean) / std\n",
    "\n",
    "z_dist = [((x - np.mean(normal_dist)) / np.std(normal_dist)) for x in normal_dist]\n",
    "\n",
    "np.mean(z_dist)"
   ]
  },
  {
   "cell_type": "code",
   "execution_count": 14,
   "metadata": {},
   "outputs": [
    {
     "data": {
      "text/plain": [
       "0.9999999999999999"
      ]
     },
     "execution_count": 14,
     "metadata": {},
     "output_type": "execute_result"
    }
   ],
   "source": [
    "np.std(z_dist)"
   ]
  },
  {
   "cell_type": "code",
   "execution_count": 13,
   "metadata": {},
   "outputs": [
    {
     "data": {
      "text/plain": [
       "0.0"
      ]
     },
     "execution_count": 13,
     "metadata": {},
     "output_type": "execute_result"
    }
   ],
   "source": [
    "round(np.mean(z_dist), 10)"
   ]
  },
  {
   "cell_type": "code",
   "execution_count": 16,
   "metadata": {},
   "outputs": [
    {
     "data": {
      "image/png": "[encoded data removed]",
      "text/plain": [
       "<Figure size 720x432 with 2 Axes>"
      ]
     },
     "metadata": {
      "needs_background": "light"
     },
     "output_type": "display_data"
    }
   ],
   "source": [
    "# Visualize it\n",
    "fig, (ax0, ax1) = plt.subplots(nrows=2, sharex=True, figsize=(10, 6))\n",
    "                                        # if you sharex=false, you can see the distribution is the same\n",
    "sns.histplot(data=normal_dist, ax=ax0)\n",
    "ax0.set_title('Before Standardization')\n",
    "\n",
    "sns.histplot(data=z_dist, ax=ax1)\n",
    "ax1.set_title('After Standardization')\n",
    "\n",
    "plt.tight_layout()"
   ]
  },
  {
   "cell_type": "markdown",
   "metadata": {
    "hidden": true
   },
   "source": [
    "Talking about the **standard normal distribution** can be very convenient since the values correspond to the number of standard deviations above or below the mean."
   ]
  },
  {
   "cell_type": "markdown",
   "metadata": {
    "heading_collapsed": true,
    "hidden": true
   },
   "source": [
    "## $z$-Score"
   ]
  },
  {
   "cell_type": "markdown",
   "metadata": {
    "hidden": true
   },
   "source": [
    "A **$z$-score** for a specific data point $x$ (in a normal distribution) is simply the distance to the mean in the units of standard deviations\n",
    "\n",
    "$$\\large z = \\frac{x - \\mu}{\\sigma}$$\n",
    "\n",
    "By calculating the z-score of an individual point, we can see how unlikely a value is."
   ]
  },
  {
   "cell_type": "markdown",
   "metadata": {
    "hidden": true
   },
   "source": [
    "Here's a little site with some [interactive Gaussians](https://www.intmath.com/counting-probability/normal-distribution-graph-interactive.php)"
   ]
  },
  {
   "cell_type": "markdown",
   "metadata": {
    "heading_collapsed": true,
    "hidden": true
   },
   "source": [
    "#### 🧠 Knowledge Check"
   ]
  },
  {
   "cell_type": "markdown",
   "metadata": {
    "hidden": true
   },
   "source": [
    "What would the $z$-score be for the middle of a normal curve?\n",
    "\n",
    "- \n"
   ]
  },
  {
   "cell_type": "markdown",
   "metadata": {
    "heading_collapsed": true,
    "hidden": true
   },
   "source": [
    "### The Empirical Rule"
   ]
  },
  {
   "cell_type": "markdown",
   "metadata": {
    "hidden": true
   },
   "source": [
    "> Rule states that $68\\%$ of the values of a normal distribution of data lie within 1 standard deviation ($\\sigma$) of the mean, $95\\%$ within $2\\sigma$, and $99.7\\%$ within $3\\sigma$.  \n",
    "\n",
    "This makes it really quick to look at a normal distribution and understand where values tend to lie"
   ]
  },
  {
   "cell_type": "markdown",
   "metadata": {
    "hidden": true
   },
   "source": [
    "<img src='https://github.com/learn-co-students/dsc-0-09-12-gaussian-distributions-online-ds-ft-031119/blob/master/normalsd.jpg?raw=true' width=700/>"
   ]
  },
  {
   "cell_type": "markdown",
   "metadata": {
    "heading_collapsed": true,
    "hidden": true
   },
   "source": [
    "#### 🧠 Knowledge Check"
   ]
  },
  {
   "cell_type": "markdown",
   "metadata": {
    "hidden": true
   },
   "source": [
    "About what percentage of the values would be between a $z$-score of $-1$ and a $z$-score of $2$?\n",
    "\n",
    "<details>\n",
    "    <summary>Answer</summary>\n",
    "    About $82\\%$\n",
    "</details>"
   ]
  },
  {
   "cell_type": "markdown",
   "metadata": {
    "heading_collapsed": true
   },
   "source": [
    "# Exercises"
   ]
  },
  {
   "cell_type": "markdown",
   "metadata": {},
   "source": [
    "The distribution of people's heights in the United States has a **mean of 66 inches** and a **standard deviation of 4 inches**. "
   ]
  },
  {
   "cell_type": "markdown",
   "metadata": {
    "heading_collapsed": true,
    "hidden": true
   },
   "source": [
    "## Height $z$-score"
   ]
  },
  {
   "cell_type": "markdown",
   "metadata": {
    "hidden": true
   },
   "source": [
    "Calculate the z-score of a height of **76 inches.**"
   ]
  },
  {
   "cell_type": "code",
   "execution_count": 17,
   "metadata": {},
   "outputs": [],
   "source": [
    "mu = 66\n",
    "sigma = 4"
   ]
  },
  {
   "cell_type": "code",
   "execution_count": 20,
   "metadata": {
    "hidden": true
   },
   "outputs": [
    {
     "data": {
      "text/plain": [
       "[2.5]"
      ]
     },
     "execution_count": 20,
     "metadata": {},
     "output_type": "execute_result"
    }
   ],
   "source": [
    "# Your code here\n",
    "# x - mean / standard dev\n",
    "\n",
    "x = 76\n",
    "\n",
    "z_score = [((x - mu) / sigma )]\n",
    "\n",
    "z_score"
   ]
  },
  {
   "cell_type": "markdown",
   "metadata": {},
   "source": [
    "#### Describe the z-score - what does it tell us?\n",
    "\n",
    "- The height of 76 is 2.5 standard deviations above the mean, which is very uncommon\n"
   ]
  },
  {
   "cell_type": "markdown",
   "metadata": {
    "heading_collapsed": true,
    "hidden": true
   },
   "source": [
    "## Height Empirical Rule"
   ]
  },
  {
   "cell_type": "markdown",
   "metadata": {
    "hidden": true
   },
   "source": [
    "Determine the proportion of those whose height is between **62 inches and 74 inches**."
   ]
  },
  {
   "cell_type": "code",
   "execution_count": 27,
   "metadata": {
    "scrolled": true
   },
   "outputs": [
    {
     "name": "stdout",
     "output_type": "stream",
     "text": [
      "[-1.0]\n",
      "[2.0]\n"
     ]
    }
   ],
   "source": [
    "# Your code here\n",
    "\n",
    "\n",
    "z_score2 = [(62-mu)/sigma]\n",
    "\n",
    "print(z_score2)\n",
    "\n",
    "z_score3 = [(74-mu)/sigma]\n",
    "print(z_score3)\n"
   ]
  },
  {
   "cell_type": "code",
   "execution_count": 28,
   "metadata": {
    "scrolled": false
   },
   "outputs": [
    {
     "data": {
      "text/plain": [
       "81.5"
      ]
     },
     "execution_count": 28,
     "metadata": {},
     "output_type": "execute_result"
    }
   ],
   "source": [
    "34 + 34 + 13.5"
   ]
  },
  {
   "cell_type": "code",
   "execution_count": 30,
   "metadata": {},
   "outputs": [],
   "source": [
    "# To do this using python:"
   ]
  },
  {
   "cell_type": "code",
   "execution_count": 29,
   "metadata": {},
   "outputs": [
    {
     "data": {
      "text/plain": [
       "0.8185946141203637"
      ]
     },
     "execution_count": 29,
     "metadata": {},
     "output_type": "execute_result"
    }
   ],
   "source": [
    "heights_dist = stats.norm(loc=66, scale=4)\n",
    "\n",
    "heights_dist.cdf(74) - heights_dist.cdf(62)"
   ]
  },
  {
   "cell_type": "code",
   "execution_count": null,
   "metadata": {},
   "outputs": [],
   "source": [
    "# Proportion of 62 and 74 inches is about 81.5% "
   ]
  },
  {
   "cell_type": "markdown",
   "metadata": {
    "heading_collapsed": true,
    "hidden": true
   },
   "source": [
    "## Height Percentile"
   ]
  },
  {
   "cell_type": "markdown",
   "metadata": {
    "hidden": true
   },
   "source": [
    "Assuming the above distribution of people's heights in the United States is approximately normal, what percent of people have a height **less than 75 inches**?"
   ]
  },
  {
   "cell_type": "code",
   "execution_count": 31,
   "metadata": {},
   "outputs": [
    {
     "name": "stdout",
     "output_type": "stream",
     "text": [
      "[2.25]\n"
     ]
    }
   ],
   "source": [
    "# Your code here\n",
    "z_score4 = [(75-mu)/sigma]\n",
    "print(z_score4)\n",
    "\n"
   ]
  },
  {
   "cell_type": "code",
   "execution_count": 32,
   "metadata": {},
   "outputs": [
    {
     "data": {
      "text/plain": [
       "0.9877755273449553"
      ]
     },
     "execution_count": 32,
     "metadata": {},
     "output_type": "execute_result"
    }
   ],
   "source": [
    "heights_dist.cdf(75)"
   ]
  },
  {
   "cell_type": "code",
   "execution_count": 33,
   "metadata": {},
   "outputs": [],
   "source": [
    "# I would expect that 98.7% of people have a height of less than 75 inches"
   ]
  },
  {
   "cell_type": "markdown",
   "metadata": {
    "heading_collapsed": true,
    "hidden": true
   },
   "source": [
    "## Bonus"
   ]
  },
  {
   "cell_type": "markdown",
   "metadata": {
    "hidden": true
   },
   "source": [
    "Assuming the above distribution of people's heights in the United States is approximately normal, what range of heights contain the **middle 50% of values**, also known as the _interquartile range_ (IQR)?"
   ]
  },
  {
   "cell_type": "code",
   "execution_count": 35,
   "metadata": {},
   "outputs": [
    {
     "data": {
      "text/plain": [
       "(63.30204099921567, 68.69795900078432)"
      ]
     },
     "execution_count": 35,
     "metadata": {},
     "output_type": "execute_result"
    }
   ],
   "source": [
    "# Your code here\n",
    "\n",
    "heights_dist.ppf(.25), heights_dist.ppf(.75)\n",
    "\n",
    "#use .25 and .75 because that is the middle 50%"
   ]
  },
  {
   "cell_type": "markdown",
   "metadata": {},
   "source": [
    "## Time for Pandas!\n",
    "\n",
    "Let's use the same Seattle City Employee data from the first Distributions lecture to check out what scaling looks like in practice!\n",
    "\n",
    "Data source: https://data.seattle.gov/City-Business/City-of-Seattle-Wage-Data/2khk-5ukd"
   ]
  },
  {
   "cell_type": "code",
   "execution_count": 36,
   "metadata": {},
   "outputs": [],
   "source": [
    "# Read in the data\n",
    "\n",
    "df = pd.read_csv('./data/City_of_Seattle_Wage_Data_031422.csv')\n"
   ]
  },
  {
   "cell_type": "code",
   "execution_count": 37,
   "metadata": {},
   "outputs": [
    {
     "data": {
      "text/html": [
       "<div>\n",
       "<style scoped>\n",
       "    .dataframe tbody tr th:only-of-type {\n",
       "        vertical-align: middle;\n",
       "    }\n",
       "\n",
       "    .dataframe tbody tr th {\n",
       "        vertical-align: top;\n",
       "    }\n",
       "\n",
       "    .dataframe thead th {\n",
       "        text-align: right;\n",
       "    }\n",
       "</style>\n",
       "<table border=\"1\" class=\"dataframe\">\n",
       "  <thead>\n",
       "    <tr style=\"text-align: right;\">\n",
       "      <th></th>\n",
       "      <th>Department</th>\n",
       "      <th>Last Name</th>\n",
       "      <th>First Name</th>\n",
       "      <th>Job Title</th>\n",
       "      <th>Hourly Rate</th>\n",
       "    </tr>\n",
       "  </thead>\n",
       "  <tbody>\n",
       "    <tr>\n",
       "      <th>0</th>\n",
       "      <td>Seattle Public Utilities</td>\n",
       "      <td>Batchelor</td>\n",
       "      <td>Craig</td>\n",
       "      <td>Civil Engrng Spec,Sr</td>\n",
       "      <td>53.740</td>\n",
       "    </tr>\n",
       "    <tr>\n",
       "      <th>1</th>\n",
       "      <td>Finance &amp; Admin Services</td>\n",
       "      <td>Altice</td>\n",
       "      <td>Jeffrey</td>\n",
       "      <td>Auto Mechanic</td>\n",
       "      <td>39.780</td>\n",
       "    </tr>\n",
       "    <tr>\n",
       "      <th>2</th>\n",
       "      <td>Finance &amp; Admin Services</td>\n",
       "      <td>Montes</td>\n",
       "      <td>Valeria</td>\n",
       "      <td>Cust Svc Rep</td>\n",
       "      <td>29.450</td>\n",
       "    </tr>\n",
       "    <tr>\n",
       "      <th>3</th>\n",
       "      <td>Fire Department</td>\n",
       "      <td>Kuklok</td>\n",
       "      <td>Rebecca</td>\n",
       "      <td>Cust Svc Rep *</td>\n",
       "      <td>29.450</td>\n",
       "    </tr>\n",
       "    <tr>\n",
       "      <th>4</th>\n",
       "      <td>Planning &amp; Comm Development</td>\n",
       "      <td>Quirindongo</td>\n",
       "      <td>Rico</td>\n",
       "      <td>Executive3</td>\n",
       "      <td>97.164</td>\n",
       "    </tr>\n",
       "  </tbody>\n",
       "</table>\n",
       "</div>"
      ],
      "text/plain": [
       "                    Department    Last Name First Name             Job Title  \\\n",
       "0     Seattle Public Utilities    Batchelor      Craig  Civil Engrng Spec,Sr   \n",
       "1     Finance & Admin Services       Altice    Jeffrey         Auto Mechanic   \n",
       "2     Finance & Admin Services       Montes    Valeria          Cust Svc Rep   \n",
       "3              Fire Department       Kuklok    Rebecca        Cust Svc Rep *   \n",
       "4  Planning & Comm Development  Quirindongo       Rico            Executive3   \n",
       "\n",
       "   Hourly Rate   \n",
       "0        53.740  \n",
       "1        39.780  \n",
       "2        29.450  \n",
       "3        29.450  \n",
       "4        97.164  "
      ]
     },
     "execution_count": 37,
     "metadata": {},
     "output_type": "execute_result"
    }
   ],
   "source": [
    "# Check it\n",
    "df.head()"
   ]
  },
  {
   "cell_type": "code",
   "execution_count": 38,
   "metadata": {},
   "outputs": [],
   "source": [
    "# Rename the columns\n",
    "\n",
    "df = df.rename(columns= lambda x: x.replace(\" \",\"\"))\n"
   ]
  },
  {
   "cell_type": "code",
   "execution_count": 40,
   "metadata": {
    "scrolled": true
   },
   "outputs": [
    {
     "data": {
      "text/html": [
       "<div>\n",
       "<style scoped>\n",
       "    .dataframe tbody tr th:only-of-type {\n",
       "        vertical-align: middle;\n",
       "    }\n",
       "\n",
       "    .dataframe tbody tr th {\n",
       "        vertical-align: top;\n",
       "    }\n",
       "\n",
       "    .dataframe thead th {\n",
       "        text-align: right;\n",
       "    }\n",
       "</style>\n",
       "<table border=\"1\" class=\"dataframe\">\n",
       "  <thead>\n",
       "    <tr style=\"text-align: right;\">\n",
       "      <th></th>\n",
       "      <th>HourlyRate</th>\n",
       "    </tr>\n",
       "  </thead>\n",
       "  <tbody>\n",
       "    <tr>\n",
       "      <th>count</th>\n",
       "      <td>11739.000000</td>\n",
       "    </tr>\n",
       "    <tr>\n",
       "      <th>mean</th>\n",
       "      <td>47.817331</td>\n",
       "    </tr>\n",
       "    <tr>\n",
       "      <th>std</th>\n",
       "      <td>16.722128</td>\n",
       "    </tr>\n",
       "    <tr>\n",
       "      <th>min</th>\n",
       "      <td>5.530000</td>\n",
       "    </tr>\n",
       "    <tr>\n",
       "      <th>25%</th>\n",
       "      <td>35.400000</td>\n",
       "    </tr>\n",
       "    <tr>\n",
       "      <th>50%</th>\n",
       "      <td>47.340000</td>\n",
       "    </tr>\n",
       "    <tr>\n",
       "      <th>75%</th>\n",
       "      <td>59.550000</td>\n",
       "    </tr>\n",
       "    <tr>\n",
       "      <th>max</th>\n",
       "      <td>187.767000</td>\n",
       "    </tr>\n",
       "  </tbody>\n",
       "</table>\n",
       "</div>"
      ],
      "text/plain": [
       "         HourlyRate\n",
       "count  11739.000000\n",
       "mean      47.817331\n",
       "std       16.722128\n",
       "min        5.530000\n",
       "25%       35.400000\n",
       "50%       47.340000\n",
       "75%       59.550000\n",
       "max      187.767000"
      ]
     },
     "execution_count": 40,
     "metadata": {},
     "output_type": "execute_result"
    }
   ],
   "source": [
    "# Describe the numeric column\n",
    "\n",
    "df.describe()"
   ]
  },
  {
   "cell_type": "code",
   "execution_count": 43,
   "metadata": {},
   "outputs": [
    {
     "data": {
      "text/plain": [
       "<AxesSubplot:xlabel='HourlyRate', ylabel='Count'>"
      ]
     },
     "execution_count": 43,
     "metadata": {},
     "output_type": "execute_result"
    },
    {
     "data": {
      "image/png": "[encoded data removed]",
      "text/plain": [
       "<Figure size 432x288 with 1 Axes>"
      ]
     },
     "metadata": {
      "needs_background": "light"
     },
     "output_type": "display_data"
    }
   ],
   "source": [
    "# Plot the hourly rate column\n",
    "\n",
    "sns.histplot(df['HourlyRate'])\n"
   ]
  },
  {
   "cell_type": "code",
   "execution_count": 42,
   "metadata": {},
   "outputs": [
    {
     "data": {
      "text/plain": [
       "<AxesSubplot:xlabel='HourlyRate', ylabel='Density'>"
      ]
     },
     "execution_count": 42,
     "metadata": {},
     "output_type": "execute_result"
    },
    {
     "data": {
      "image/png": "[encoded data removed]",
      "text/plain": [
       "<Figure size 432x288 with 1 Axes>"
      ]
     },
     "metadata": {
      "needs_background": "light"
     },
     "output_type": "display_data"
    }
   ],
   "source": [
    "# Plot the hourly rate column\n",
    "\n",
    "sns.kdeplot(df['HourlyRate'])\n"
   ]
  },
  {
   "cell_type": "markdown",
   "metadata": {},
   "source": [
    "How can we describe this distribution?\n",
    "\n",
    "- not very normal because it is a little skewed\n",
    "- it is a tri-modal distribution \n"
   ]
  },
  {
   "cell_type": "markdown",
   "metadata": {},
   "source": [
    "### Using Z-Scores"
   ]
  },
  {
   "cell_type": "code",
   "execution_count": 44,
   "metadata": {
    "scrolled": true
   },
   "outputs": [],
   "source": [
    "# Grab a sample row\n",
    "sample_row = df.sample(1)"
   ]
  },
  {
   "cell_type": "code",
   "execution_count": 45,
   "metadata": {},
   "outputs": [
    {
     "data": {
      "text/html": [
       "<div>\n",
       "<style scoped>\n",
       "    .dataframe tbody tr th:only-of-type {\n",
       "        vertical-align: middle;\n",
       "    }\n",
       "\n",
       "    .dataframe tbody tr th {\n",
       "        vertical-align: top;\n",
       "    }\n",
       "\n",
       "    .dataframe thead th {\n",
       "        text-align: right;\n",
       "    }\n",
       "</style>\n",
       "<table border=\"1\" class=\"dataframe\">\n",
       "  <thead>\n",
       "    <tr style=\"text-align: right;\">\n",
       "      <th></th>\n",
       "      <th>Department</th>\n",
       "      <th>LastName</th>\n",
       "      <th>FirstName</th>\n",
       "      <th>JobTitle</th>\n",
       "      <th>HourlyRate</th>\n",
       "    </tr>\n",
       "  </thead>\n",
       "  <tbody>\n",
       "    <tr>\n",
       "      <th>4014</th>\n",
       "      <td>Human Services Department</td>\n",
       "      <td>Young</td>\n",
       "      <td>Sharon</td>\n",
       "      <td>Counslr</td>\n",
       "      <td>39.28</td>\n",
       "    </tr>\n",
       "  </tbody>\n",
       "</table>\n",
       "</div>"
      ],
      "text/plain": [
       "                     Department LastName FirstName JobTitle  HourlyRate\n",
       "4014  Human Services Department    Young    Sharon  Counslr       39.28"
      ]
     },
     "execution_count": 45,
     "metadata": {},
     "output_type": "execute_result"
    }
   ],
   "source": [
    "sample_row"
   ]
  },
  {
   "cell_type": "code",
   "execution_count": 48,
   "metadata": {},
   "outputs": [
    {
     "data": {
      "text/plain": [
       "39.28"
      ]
     },
     "execution_count": 48,
     "metadata": {},
     "output_type": "execute_result"
    }
   ],
   "source": [
    "sample_row['HourlyRate'].values[0]"
   ]
  },
  {
   "cell_type": "code",
   "execution_count": 50,
   "metadata": {},
   "outputs": [
    {
     "data": {
      "text/plain": [
       "-0.5105409517336098"
      ]
     },
     "execution_count": 50,
     "metadata": {},
     "output_type": "execute_result"
    }
   ],
   "source": [
    "# Calculate the z-score for that row's HourlyRate\n",
    "\n",
    "z_score = ((sample_row['HourlyRate'].values[0]) - (df['HourlyRate'].mean())) / df['HourlyRate'].std()\n",
    "\n",
    "z_score"
   ]
  },
  {
   "cell_type": "code",
   "execution_count": 51,
   "metadata": {
    "scrolled": true
   },
   "outputs": [],
   "source": [
    "# Standardize the column\n",
    "standardized_rate = []\n",
    "\n",
    "for rate in df['HourlyRate']:\n",
    "    z_score = ((rate - (df['HourlyRate'].mean())) / df['HourlyRate'].std())\n",
    "    standardized_rate.append(z_score)\n",
    "    "
   ]
  },
  {
   "cell_type": "code",
   "execution_count": 54,
   "metadata": {},
   "outputs": [],
   "source": [
    "# Another way to do it:\n",
    "\n",
    "standardized_rate2 = (df['HourlyRate'] - df['HourlyRate'].mean()) / df['HourlyRate'].std()"
   ]
  },
  {
   "cell_type": "code",
   "execution_count": 52,
   "metadata": {},
   "outputs": [
    {
     "data": {
      "text/plain": [
       "[0.35418152857140983,\n",
       " -0.4806404510314999,\n",
       " -1.0983847955370913,\n",
       " -1.0983847955370913,\n",
       " 2.950980213548254,\n",
       " -1.3298146709714225,\n",
       " -1.4601808540326218,\n",
       " -1.166557937137902,\n",
       " -0.46389617063831823,\n",
       " -0.29047326656608063,\n",
       " -0.8298782992321442,\n",
       " 0.35418152857140983,\n",
       " -0.6785817656794678,\n",
       " -0.29047326656608063,\n",
       " -0.5954583737276021,\n",
       " 0.7244095282649353,\n",
       " -1.1850962475732103,\n",
       " -1.0601121546383907,\n",
       " -0.29047326656608063,\n",
       " 0.5192322924470566,\n",
       " -0.6528673350756533,\n",
       " -0.6528673350756533,\n",
       " 0.8750482508021651,\n",
       " -0.32156978729627517,\n",
       " 0.3368392381641861,\n",
       " 0.8204499365201121,\n",
       " 1.1764452978794329,\n",
       " -0.6409071347948091,\n",
       " -1.4601808540326218,\n",
       " 0.6513925055503826,\n",
       " -0.5284812521548761,\n",
       " 2.908880308559683,\n",
       " -0.6528673350756533,\n",
       " -0.5284812521548761,\n",
       " -0.9177857712963474,\n",
       " 0.9635537328804104,\n",
       " -1.1235012161268636,\n",
       " -1.209016648134898,\n",
       " 0.7912072468334488,\n",
       " 0.44603586672829165,\n",
       " -0.7951937184176964,\n",
       " 0.2444466909946663,\n",
       " 2.4452371645726263,\n",
       " -0.5302752821970023,\n",
       " -0.2199080849091012,\n",
       " 1.4909985652656297,\n",
       " 1.2691368500559743,\n",
       " 0.4689994512675117,\n",
       " 0.5933855341882893,\n",
       " -1.749617700829046,\n",
       " -0.03930906066835736,\n",
       " 1.3630244222605992,\n",
       " -0.46270015061023406,\n",
       " -0.05485732103345441,\n",
       " 0.7345158975022483,\n",
       " 0.964749752908495,\n",
       " 0.7476721178111766,\n",
       " 2.5596424603590395,\n",
       " -0.5649598630114502,\n",
       " 0.5168402523908878,\n",
       " 0.8991480543680657,\n",
       " 1.4909985652656297,\n",
       " -0.46270015061023406,\n",
       " 0.45584323095858337,\n",
       " 1.0603715541538419,\n",
       " 0.8397656599736751,\n",
       " -1.749617700829046,\n",
       " 0.7751805784571177,\n",
       " 0.11976160306686776,\n",
       " 2.3850235362587173,\n",
       " 0.45584323095858337,\n",
       " -0.7192464466343373,\n",
       " -1.1235012161268636,\n",
       " -1.0601121546383907,\n",
       " 0.9270751220238362,\n",
       " 1.812249544809099,\n",
       " 1.434008210927408,\n",
       " -0.7036981862692403,\n",
       " -0.014790650092626988,\n",
       " -0.7981837684879076,\n",
       " 0.6220900148623147,\n",
       " 0.8464035711295438,\n",
       " -1.749617700829046,\n",
       " -1.3878216423335157,\n",
       " -1.0601121546383907,\n",
       " 0.7883367987660461,\n",
       " 3.1739781477845894,\n",
       " 1.3026254108423367,\n",
       " -1.1235012161268636,\n",
       " -0.7036981862692403,\n",
       " -0.7036981862692403,\n",
       " -0.7036981862692403,\n",
       " 1.3026254108423367,\n",
       " -0.685159875833932,\n",
       " -0.10568817222704141,\n",
       " 1.7977777024692776,\n",
       " 0.4274377552915793,\n",
       " -0.3580483981528493,\n",
       " -0.6409071347948091,\n",
       " -0.48363050110171113,\n",
       " 2.1972483918494667,\n",
       " 1.5801020573579172,\n",
       " 0.213649175271493,\n",
       " 0.4056103897790389,\n",
       " -0.26774888603247693,\n",
       " 0.7787686385413711,\n",
       " -0.9847628928690735,\n",
       " 0.9387363172976592,\n",
       " 1.9743102586145345,\n",
       " 1.1758472878653912,\n",
       " 0.9354472622204271,\n",
       " -1.7059629698039656,\n",
       " 0.7787686385413711,\n",
       " -0.5374514023655089,\n",
       " -0.7981837684879076,\n",
       " -0.7036981862692403,\n",
       " -0.7036981862692403,\n",
       " -0.8394464594568192,\n",
       " 0.7787686385413711,\n",
       " -0.8394464594568192,\n",
       " -0.9847628928690735,\n",
       " 0.88617123706335,\n",
       " 1.453921944395013,\n",
       " 0.8888024811251355,\n",
       " 2.3239368133243063,\n",
       " 3.04403057173322,\n",
       " 0.8888024811251355,\n",
       " 2.070769273879541,\n",
       " 0.7058114168282225,\n",
       " -0.8233001890776801,\n",
       " 0.7787686385413711,\n",
       " 0.2818223168723037,\n",
       " 1.2260203280435316,\n",
       " -0.8215061590355534,\n",
       " -0.10568817222704141,\n",
       " 1.5250851360660347,\n",
       " -0.7981837684879076,\n",
       " -0.7036981862692403,\n",
       " -1.0601121546383907,\n",
       " -0.8233001890776801,\n",
       " 0.8260114296507047,\n",
       " 0.8260114296507047,\n",
       " 0.6304621550589056,\n",
       " -0.29286530662224936,\n",
       " 0.538368612896407,\n",
       " 0.35418152857140983,\n",
       " -0.9333340316614445,\n",
       " 1.3026254108423367,\n",
       " 0.6884691264209988,\n",
       " 0.25730390629657335,\n",
       " -0.7036981862692403,\n",
       " -0.5356573723233823,\n",
       " -0.4854245311438374,\n",
       " 1.301489191815657,\n",
       " 0.5371725928683224,\n",
       " -0.8233001890776801,\n",
       " -0.3580483981528493,\n",
       " 3.310145027981999,\n",
       " -0.9847628928690735,\n",
       " -0.7222364967045481,\n",
       " 0.034844181072875416,\n",
       " -1.019447473683521,\n",
       " 0.8260114296507047,\n",
       " 0.45584323095858337,\n",
       " -0.7036981862692403,\n",
       " 0.45584323095858337,\n",
       " 1.5723877281767733,\n",
       " -0.5966543937556863,\n",
       " 1.6140092251541103,\n",
       " 1.2972433207159577,\n",
       " 1.3026254108423367,\n",
       " 1.4909985652656297,\n",
       " 0.5628870234721369,\n",
       " 1.453921944395013,\n",
       " -0.7036981862692403,\n",
       " -0.6295449445280075,\n",
       " -0.7036981862692403,\n",
       " 3.150476354232732,\n",
       " 0.5606145854187767,\n",
       " 0.6011596643708377,\n",
       " -1.2592494893144428,\n",
       " -0.3921349689532546,\n",
       " -1.749617700829046,\n",
       " -0.09133593189002852,\n",
       " -0.7036981862692403,\n",
       " -0.7389807770977298,\n",
       " -0.5386474223935931,\n",
       " -0.36821456839156674,\n",
       " 0.3314571480378061,\n",
       " 2.3850235362587173,\n",
       " 0.5771196618063417,\n",
       " 0.7787686385413711,\n",
       " 0.406208399793081,\n",
       " 0.7787686385413711,\n",
       " -0.3580483981528493,\n",
       " 0.05756856160647913,\n",
       " 2.152397640796302,\n",
       " 0.2321874857068013,\n",
       " -0.3789787486443263,\n",
       " -0.6785817656794678,\n",
       " 0.8252938176338541,\n",
       " -0.5105409517336098,\n",
       " 2.086018529237618,\n",
       " -0.9638325423775966,\n",
       " 1.3815627326959075,\n",
       " 1.3493299929390328,\n",
       " -0.9847628928690735,\n",
       " 0.701625346729927,\n",
       " 1.524487126051993,\n",
       " -1.749617700829046,\n",
       " 0.5706611536546856,\n",
       " 1.1375746469666905,\n",
       " 0.2321874857068013,\n",
       " 2.152397640796302,\n",
       " 0.8260114296507047,\n",
       " 0.8260114296507047,\n",
       " 1.928741895544519,\n",
       " -0.8394464594568192,\n",
       " 0.7638183881903161,\n",
       " -0.08655185177769102,\n",
       " 0.8699053646814019,\n",
       " -1.3752634320386294,\n",
       " 0.7793666485554132,\n",
       " 0.6011596643708377,\n",
       " 1.8103359127641643,\n",
       " 0.7422900276847966,\n",
       " 2.152577043800514,\n",
       " -0.7036981862692403,\n",
       " 0.4056103897790389,\n",
       " 1.3026254108423367,\n",
       " 0.2321874857068013,\n",
       " -0.17146927377168295,\n",
       " -0.32156978729627517,\n",
       " 0.2321874857068013,\n",
       " 1.2434224194521595,\n",
       " 0.40680640980712307,\n",
       " -0.37120461846177755,\n",
       " 1.0694613063672842,\n",
       " 1.3026254108423367,\n",
       " -0.7981837684879076,\n",
       " -0.1050901622129989,\n",
       " -0.6277509144858808,\n",
       " -0.2420344554286624,\n",
       " -0.8215061590355534,\n",
       " 0.8733738227628466,\n",
       " 0.7022233567439696,\n",
       " 0.49094641878286066,\n",
       " 0.45584323095858337,\n",
       " -0.3975170590796342,\n",
       " 2.152397640796302,\n",
       " 0.872656210745996,\n",
       " 0.2321874857068013,\n",
       " 0.5563089133176727,\n",
       " 0.9276731320378784,\n",
       " -1.2335350587106282,\n",
       " 2.591336991103276,\n",
       " 0.7632203781762736,\n",
       " -1.2335350587106282,\n",
       " 1.5327396642457758,\n",
       " -0.17146927377168295,\n",
       " -1.749617700829046,\n",
       " -1.749617700829046,\n",
       " 0.5776578708189792,\n",
       " 1.1406244980383058,\n",
       " 0.8870084510830089,\n",
       " -0.18103743399635835,\n",
       " -0.3580483981528493,\n",
       " -0.26774888603247693,\n",
       " -0.18103743399635835,\n",
       " 0.7165755970809821,\n",
       " 1.1785383329285812,\n",
       " 1.4909985652656297,\n",
       " 1.9263498554883507,\n",
       " 2.362299155725113,\n",
       " 0.5371725928683224,\n",
       " 0.8397656599736751,\n",
       " 0.8888024811251355,\n",
       " 0.32188898781313113,\n",
       " 1.152465096316341,\n",
       " 1.3570443221201776,\n",
       " 0.6627546958171843,\n",
       " 0.538368612896407,\n",
       " 0.15624021392344187,\n",
       " 1.514918965827318,\n",
       " -1.1235012161268636,\n",
       " -0.3580483981528493,\n",
       " 0.2321874857068013,\n",
       " -0.5416374724638043,\n",
       " 0.45584323095858337,\n",
       " 1.218425600865195,\n",
       " -1.0601121546383907,\n",
       " 3.169194067672252,\n",
       " -1.1235012161268636,\n",
       " 0.8623704385044703,\n",
       " 0.2321874857068013,\n",
       " 0.8397656599736751,\n",
       " -1.331608701013549,\n",
       " 0.2321874857068013,\n",
       " 0.9276731320378784,\n",
       " -1.2335350587106282,\n",
       " 0.7632203781762736,\n",
       " 1.812249544809099,\n",
       " 1.1724386307853505,\n",
       " 1.309203520996801,\n",
       " 1.1764452978794329,\n",
       " -0.8663569100887183,\n",
       " 0.6011596643708377,\n",
       " 0.8397656599736751,\n",
       " -0.3969190490655921,\n",
       " 0.8098651592715652,\n",
       " -0.36821456839156674,\n",
       " 0.8397656599736751,\n",
       " -0.37120461846177755,\n",
       " 0.1819546445272564,\n",
       " 0.7004293267018429,\n",
       " 1.3630244222605992,\n",
       " -1.0601121546383907,\n",
       " 0.8397656599736751,\n",
       " -0.06801354134238272,\n",
       " 0.7422900276847966,\n",
       " 0.4313248203828534,\n",
       " 0.39365018949819475,\n",
       " -0.3789787486443263,\n",
       " -0.8233001890776801,\n",
       " 0.6537845456065513,\n",
       " 0.11976160306686776,\n",
       " 1.0018263737791107,\n",
       " 0.7632203781762736,\n",
       " 0.3810919792033085,\n",
       " 0.4689994512675117,\n",
       " 1.152465096316341,\n",
       " 0.6220900148623147,\n",
       " 0.6537845456065513,\n",
       " 0.3822879992313931,\n",
       " 0.007335720426934218,\n",
       " 0.09524319249113739,\n",
       " 1.1803921639721116,\n",
       " -0.26774888603247693,\n",
       " 0.6011596643708377,\n",
       " 1.0682054853377956,\n",
       " -0.7036981862692403,\n",
       " 0.7997587900342522,\n",
       " -1.3017082003114389,\n",
       " 0.46971706328436236,\n",
       " -0.9847628928690735,\n",
       " -0.5966543937556863,\n",
       " 0.8520846662629447,\n",
       " 0.20025375095694795,\n",
       " 2.1381650024620975,\n",
       " -0.5105409517336098,\n",
       " -0.49379667134042815,\n",
       " 0.8324101368009559,\n",
       " 0.45584323095858337,\n",
       " -1.749617700829046,\n",
       " 0.25670589628253127,\n",
       " 1.108152554275814,\n",
       " -0.7389807770977298,\n",
       " -0.1864195241227379,\n",
       " 0.9270751220238362,\n",
       " 0.4503415388293952,\n",
       " -1.749617700829046,\n",
       " -0.06801354134238272,\n",
       " -1.749617700829046,\n",
       " 2.8903838588253583,\n",
       " -0.5386474223935931,\n",
       " -0.7904096383053588,\n",
       " -0.27193495613077234,\n",
       " 0.27464619670379703,\n",
       " 1.3026254108423367,\n",
       " -0.7389807770977298,\n",
       " 0.4689994512675117,\n",
       " 5.588742584486989,\n",
       " 1.928741895544519,\n",
       " 0.7632203781762736,\n",
       " -0.4244275097115333,\n",
       " -0.5870862335310113,\n",
       " -0.21572201481080577,\n",
       " 0.1000272726034753,\n",
       " -0.5374514023655089,\n",
       " -1.0601121546383907,\n",
       " 1.0633616042240528,\n",
       " 0.8098651592715652,\n",
       " -0.2199080849091012,\n",
       " -0.4920026412983015,\n",
       " -1.0601121546383907,\n",
       " 0.6089337945533865,\n",
       " -0.04887722089303234,\n",
       " 1.3026254108423367,\n",
       " 0.8188353094821981,\n",
       " 1.4802343850128699,\n",
       " -0.5870862335310113,\n",
       " -0.5105409517336098,\n",
       " -0.7222364967045481,\n",
       " -1.1235012161268636,\n",
       " 0.20946310517319758,\n",
       " 0.35418152857140983,\n",
       " 0.6537845456065513,\n",
       " 0.6418243453257072,\n",
       " 0.8483172031744787,\n",
       " -0.06801354134238272,\n",
       " 0.9151149217429921,\n",
       " -0.7904096383053588,\n",
       " 6.218770054681007,\n",
       " -1.3692833318982074,\n",
       " 0.4056103897790389,\n",
       " -0.37120461846177755,\n",
       " 0.2812243068582616,\n",
       " 0.3810919792033085,\n",
       " 1.5023607555324314,\n",
       " 0.35962341969919387,\n",
       " -0.8233001890776801,\n",
       " -0.37120461846177755,\n",
       " -0.5882822535590959,\n",
       " 1.2912632205755352,\n",
       " 0.1819546445272564,\n",
       " 0.4295307903407268,\n",
       " -0.7425688371819831,\n",
       " 0.7632203781762736,\n",
       " -0.9847628928690735,\n",
       " 1.1242390236535496,\n",
       " 0.8928689492206228,\n",
       " 0.5192322924470566,\n",
       " -0.7634991876734601,\n",
       " 1.309203520996801,\n",
       " 1.1824253980198554,\n",
       " 0.20946310517319758,\n",
       " 1.1764452978794329,\n",
       " 0.7632203781762736,\n",
       " 0.1819546445272564,\n",
       " 0.1819546445272564,\n",
       " 0.007335720426934218,\n",
       " 0.6059437444831756,\n",
       " 0.7321238574460796,\n",
       " -0.18103743399635835,\n",
       " 0.8397656599736751,\n",
       " 0.8397656599736751,\n",
       " 0.6220900148623147,\n",
       " -0.8233001890776801,\n",
       " -1.749617700829046,\n",
       " 0.6884691264209988,\n",
       " 0.3188989377429199,\n",
       " -0.9847628928690735,\n",
       " -0.8215061590355534,\n",
       " -0.5374514023655089,\n",
       " 1.2733229201542693,\n",
       " -1.1235012161268636,\n",
       " 1.3271438214180675,\n",
       " 0.8427557100438859,\n",
       " 0.9961452786457099,\n",
       " 0.32188898781313113,\n",
       " -1.0816405151439097,\n",
       " 0.7321238574460796,\n",
       " -0.9333340316614445,\n",
       " 0.5491327931491665,\n",
       " -0.7981837684879076,\n",
       " 1.1995882854228659,\n",
       " 0.7883367987660461,\n",
       " 0.1000272726034753,\n",
       " 0.833665957830445,\n",
       " 0.007335720426934218,\n",
       " 0.3810919792033085,\n",
       " -0.37120461846177755,\n",
       " -0.5966543937556863,\n",
       " 0.7998185910356563,\n",
       " -0.3975170590796342,\n",
       " 1.492194585293714,\n",
       " 1.0329826955107102,\n",
       " -0.685159875833932,\n",
       " -0.9847628928690735,\n",
       " 0.7787686385413711,\n",
       " -0.4160553695149425,\n",
       " 1.4909985652656297,\n",
       " 0.7321238574460796,\n",
       " 0.1448780236566402,\n",
       " 0.2692641065774175,\n",
       " 0.11976160306686776,\n",
       " 0.7494661478533032,\n",
       " 0.3188989377429199,\n",
       " -1.749617700829046,\n",
       " 0.213649175271493,\n",
       " 0.8397656599736751,\n",
       " 1.3026254108423367,\n",
       " 1.7481428713037752,\n",
       " -0.5386474223935931,\n",
       " -0.7981837684879076,\n",
       " -0.46270015061023406,\n",
       " -0.32156978729627517,\n",
       " 1.6204079323043616,\n",
       " -0.7389807770977298,\n",
       " 0.15624021392344187,\n",
       " 0.48335169160452457,\n",
       " -0.8233001890776801,\n",
       " 0.45584323095858337,\n",
       " 0.20946310517319758,\n",
       " 0.9270751220238362,\n",
       " -1.2335350587106282,\n",
       " -1.0601121546383907,\n",
       " -0.05485732103345441,\n",
       " 3.1563966533717487,\n",
       " -0.567949913081661,\n",
       " -1.3298146709714225,\n",
       " 1.1764452978794329,\n",
       " -0.7389807770977298,\n",
       " -0.6409071347948091,\n",
       " -0.6295449445280075,\n",
       " 0.4056103897790389,\n",
       " -1.749617700829046,\n",
       " 2.283361833871543,\n",
       " 1.0927238959135255,\n",
       " -0.004624479853909505,\n",
       " 0.19451285482214262,\n",
       " 0.5103219432378282,\n",
       " -0.7192464466343373,\n",
       " -0.26774888603247693,\n",
       " 0.7321238574460796,\n",
       " -0.9847628928690735,\n",
       " -0.5870862335310113,\n",
       " -1.749617700829046,\n",
       " 1.4112838303938047,\n",
       " 0.7321238574460796,\n",
       " 0.32924451098585006,\n",
       " 0.5754452337670232,\n",
       " 0.5754452337670232,\n",
       " 1.1246576306633784,\n",
       " -1.0074872734026772,\n",
       " 0.5964353852599047,\n",
       " 0.45584323095858337,\n",
       " 0.4588332810287946,\n",
       " 0.8397656599736751,\n",
       " 0.3368392381641861,\n",
       " -0.06801354134238272,\n",
       " -0.4202414396132379,\n",
       " 0.6220900148623147,\n",
       " -0.9847628928690735,\n",
       " -0.38675287882687465,\n",
       " 0.9358658692302565,\n",
       " -1.1235012161268636,\n",
       " 0.1000272726034753,\n",
       " 1.4316161708712398,\n",
       " 2.6443804793488193,\n",
       " -0.3580483981528493,\n",
       " 0.6011596643708377,\n",
       " 0.5006939820117483,\n",
       " -0.09133593189002852,\n",
       " -1.0044972233324663,\n",
       " 0.9013606914200217,\n",
       " -1.0601121546383907,\n",
       " 0.8134532193558185,\n",
       " 0.8397656599736751,\n",
       " 0.4941158718572841,\n",
       " -0.8663569100887183,\n",
       " -1.0601121546383907,\n",
       " -1.5283539956334322,\n",
       " -0.5512056326884793,\n",
       " 1.5936170836752717,\n",
       " 0.5282024426576895,\n",
       " -0.7036981862692403,\n",
       " 0.4432850206636971,\n",
       " -1.0601121546383907,\n",
       " 0.8750482508021651,\n",
       " 0.06952876188732285,\n",
       " 0.40680640980712307,\n",
       " -0.7634991876734601,\n",
       " -1.2335350587106282,\n",
       " -1.749617700829046,\n",
       " -0.06801354134238272,\n",
       " 1.6817637597450912,\n",
       " -0.18103743399635835,\n",
       " -1.749617700829046,\n",
       " 0.5754452337670232,\n",
       " -1.3878216423335157,\n",
       " 0.32188898781313113,\n",
       " -1.0601121546383907,\n",
       " 1.218425600865195,\n",
       " -1.0601121546383907,\n",
       " 0.3487994384450298,\n",
       " -0.7634991876734601,\n",
       " -0.11107026235342098,\n",
       " -1.2454952589914723,\n",
       " 0.5754452337670232,\n",
       " -1.749617700829046,\n",
       " -0.3137956571137264,\n",
       " 1.4264732847504769,\n",
       " 0.27464619670379703,\n",
       " -0.36821456839156674,\n",
       " 1.0973943541231945,\n",
       " 2.5656823615008655,\n",
       " 0.4689994512675117,\n",
       " -0.9847628928690735,\n",
       " -0.8215061590355534,\n",
       " 0.6011596643708377,\n",
       " 1.067607475323753,\n",
       " -0.9147957212261362,\n",
       " -0.4202414396132379,\n",
       " -0.8394464594568192,\n",
       " -0.6881499259041428,\n",
       " -0.37120461846177755,\n",
       " -0.4190454195851533,\n",
       " 0.3111248075603716,\n",
       " 0.6011596643708377,\n",
       " -0.5829001634327159,\n",
       " -0.6277509144858808,\n",
       " -1.2849639199182574,\n",
       " -0.7036981862692403,\n",
       " -0.7036981862692403,\n",
       " -0.6409071347948091,\n",
       " -0.9847628928690735,\n",
       " -0.36821456839156674,\n",
       " 0.49830194195557953,\n",
       " -1.3298146709714225,\n",
       " 0.8395264559680584,\n",
       " 0.7494661478533032,\n",
       " -0.6881499259041428,\n",
       " -0.8950613907627437,\n",
       " -1.3692833318982074,\n",
       " 0.8134532193558185,\n",
       " 0.4056103897790389,\n",
       " 1.4502142823079516,\n",
       " -1.749617700829046,\n",
       " -1.749617700829046,\n",
       " -0.3975170590796342,\n",
       " -0.370008598433693,\n",
       " -1.749617700829046,\n",
       " -0.7036981862692403,\n",
       " -0.3137956571137264,\n",
       " -0.6277509144858808,\n",
       " -1.2335350587106282,\n",
       " -1.0601121546383907,\n",
       " -1.4458286136956089,\n",
       " -1.0930027054107117,\n",
       " 0.45584323095858337,\n",
       " 0.6693328059716483,\n",
       " 0.45584323095858337,\n",
       " 1.1262124566998888,\n",
       " 0.44926512080411923,\n",
       " -0.06801354134238272,\n",
       " 1.1082721562786222,\n",
       " 0.7826557036326452,\n",
       " 0.8397656599736751,\n",
       " 1.3026254108423367,\n",
       " 0.8262506336563211,\n",
       " -0.6403091247807671,\n",
       " 0.3368392381641861,\n",
       " -1.3692833318982074,\n",
       " -1.3298146709714225,\n",
       " -0.4202414396132379,\n",
       " 0.1000272726034753,\n",
       " 1.1764452978794329,\n",
       " -0.028544880415597374,\n",
       " 0.8098651592715652,\n",
       " 1.2159139588062187,\n",
       " -0.8233001890776801,\n",
       " -0.6277509144858808,\n",
       " 1.8171532269242447,\n",
       " 0.5228203525313099,\n",
       " -0.3789787486443263,\n",
       " -0.568547923095703,\n",
       " 0.5327473187644106,\n",
       " 1.8653528340560466,\n",
       " -0.2611707758780128,\n",
       " -0.06801354134238272,\n",
       " -0.5105409517336098,\n",
       " 0.6249006619283128,\n",
       " -0.5105409517336098,\n",
       " 0.5718571736827702,\n",
       " 0.3870720793437306,\n",
       " 0.35418152857140983,\n",
       " -0.14037275304148883,\n",
       " -0.27193495613077234,\n",
       " 1.0373481686132178,\n",
       " -0.4160553695149425,\n",
       " -0.4160553695149425,\n",
       " 0.5829801599439551,\n",
       " 1.3425126787789516,\n",
       " -0.5966543937556863,\n",
       " -0.6295449445280075,\n",
       " -0.1050901622129989,\n",
       " -0.36821456839156674,\n",
       " -0.17146927377168295,\n",
       " -1.3298146709714225,\n",
       " -0.9847628928690735,\n",
       " 0.1839878785749998,\n",
       " 0.45285318088837256,\n",
       " 0.4498631308181617,\n",
       " -0.44894592028726327,\n",
       " 0.6011596643708377,\n",
       " -0.06801354134238272,\n",
       " 0.4498631308181617,\n",
       " 0.5282024426576895,\n",
       " 0.4498631308181617,\n",
       " 0.27943027681613497,\n",
       " 1.684454804808281,\n",
       " 1.240252966377736,\n",
       " 1.1423587270790279,\n",
       " 0.1000272726034753,\n",
       " 0.6011596643708377,\n",
       " 1.0694015053658796,\n",
       " -1.749617700829046,\n",
       " 0.8190147124864112,\n",
       " -1.3172564606765362,\n",
       " 0.4056103897790389,\n",
       " -0.8053598886564138,\n",
       " -0.7036981862692403,\n",
       " -0.35685237812476467,\n",
       " 0.4498631308181617,\n",
       " 3.24753337951178,\n",
       " 1.1764452978794329,\n",
       " -0.36821456839156674,\n",
       " 2.7402355044996427,\n",
       " -0.8215061590355534,\n",
       " 0.5192920934484611,\n",
       " -1.0601121546383907,\n",
       " 1.754481777452623,\n",
       " 1.2008441064523547,\n",
       " -0.5105409517336098,\n",
       " -0.27193495613077234,\n",
       " -0.27193495613077234,\n",
       " 0.039628261185212905,\n",
       " 0.32188898781313113,\n",
       " -0.4854245311438374,\n",
       " 0.8397656599736751,\n",
       " -0.18103743399635835,\n",
       " -0.7981837684879076,\n",
       " 0.4654113911832588,\n",
       " 0.9486034825293553,\n",
       " -1.105560915705598,\n",
       " 0.213649175271493,\n",
       " -0.38495884878474795,\n",
       " 0.6011596643708377,\n",
       " -0.8215061590355534,\n",
       " -0.11107026235342098,\n",
       " 1.1764452978794329,\n",
       " 0.45285318088837256,\n",
       " 0.3870720793437306,\n",
       " 1.0765776255343855,\n",
       " 0.46720542122538544,\n",
       " -0.36821456839156674,\n",
       " -0.9847628928690735,\n",
       " -0.9847628928690735,\n",
       " -0.36821456839156674,\n",
       " 1.0586373251131198,\n",
       " 0.655578575648678,\n",
       " -0.4160553695149425,\n",
       " 2.507579708536525,\n",
       " 0.4498631308181617,\n",
       " -0.5302752821970023,\n",
       " 2.5164063363437887,\n",
       " 1.1100661863207488,\n",
       " 0.4520757678701174,\n",
       " 0.4056103897790389,\n",
       " 0.4654113911832588,\n",
       " 1.4909985652656297,\n",
       " 0.6011596643708377,\n",
       " 0.7022233567439696,\n",
       " 0.8031076461128884,\n",
       " 0.8397656599736751,\n",
       " 0.4498631308181617,\n",
       " 0.8229735387793703,\n",
       " 0.046206371339677484,\n",
       " 1.1242390236535496,\n",
       " 0.20946310517319758,\n",
       " 0.9270751220238362,\n",
       " 0.4498631308181617,\n",
       " -0.18103743399635835,\n",
       " -0.44894592028726327,\n",
       " 1.0927238959135255,\n",
       " 0.6848810663367458,\n",
       " -0.06801354134238272,\n",
       " 1.1100661863207488,\n",
       " 0.8397656599736751,\n",
       " 0.32188898781313113,\n",
       " -0.4920026412983015,\n",
       " -1.749617700829046,\n",
       " 0.8060976961830992,\n",
       " -0.06801354134238272,\n",
       " 0.45584323095858337,\n",
       " -1.1235012161268636,\n",
       " -0.7981837684879076,\n",
       " 0.029462090946495847,\n",
       " 0.5108601522504658,\n",
       " 0.7285357973618262,\n",
       " 1.8124289478133118,\n",
       " 0.4056103897790389,\n",
       " 0.20946310517319758,\n",
       " 1.019168664186335,\n",
       " -0.06801354134238272,\n",
       " -0.43100561986599745,\n",
       " 1.3024460078381241,\n",
       " -1.331608701013549,\n",
       " 0.2537158462123204,\n",
       " -0.36821456839156674,\n",
       " 0.701625346729927,\n",
       " 1.3026254108423367,\n",
       " 1.1764452978794329,\n",
       " 1.7200364006437918,\n",
       " -0.7981837684879076,\n",
       " 0.019893930721820444,\n",
       " 1.2912632205755352,\n",
       " 1.1242390236535496,\n",
       " 0.4498631308181617,\n",
       " 0.32188898781313113,\n",
       " -1.749617700829046,\n",
       " 0.9121846726741858,\n",
       " 1.2362462992836527,\n",
       " -0.05904339113174983,\n",
       " -0.11107026235342098,\n",
       " -1.692806749495037,\n",
       " 0.8056790891732698,\n",
       " -0.06801354134238272,\n",
       " -1.692806749495037,\n",
       " -0.7036981862692403,\n",
       " -0.8233001890776801,\n",
       " -0.8233001890776801,\n",
       " 0.32188898781313113,\n",
       " 0.5126541822925924,\n",
       " -0.38495884878474795,\n",
       " -0.9847628928690735,\n",
       " -0.004624479853909505,\n",
       " -0.004624479853909505,\n",
       " -0.7036981862692403,\n",
       " 0.2447456960016871,\n",
       " 0.1442800136425977,\n",
       " -0.1792434039542317,\n",
       " -0.004624479853909505,\n",
       " -0.004624479853909505,\n",
       " -0.004624479853909505,\n",
       " 0.5718571736827702,\n",
       " -0.8233001890776801,\n",
       " 0.9025567114481059,\n",
       " 0.8397656599736751,\n",
       " -0.5829001634327159,\n",
       " -0.37120461846177755,\n",
       " 0.2052770350749022,\n",
       " 1.3026254108423367,\n",
       " 0.8397656599736751,\n",
       " -0.5105409517336098,\n",
       " 0.213649175271493,\n",
       " -0.7036981862692403,\n",
       " 1.3026254108423367,\n",
       " 0.8397656599736751,\n",
       " 0.8397656599736751,\n",
       " 1.1724386307853505,\n",
       " -0.06801354134238272,\n",
       " 0.0037476603426813133,\n",
       " -0.27193495613077234,\n",
       " -0.7509409773785739,\n",
       " 0.3111248075603716,\n",
       " 0.02587403086224252,\n",
       " -0.258778735821844,\n",
       " 0.3870720793437306,\n",
       " 1.3791706926397382,\n",
       " -0.9147957212261362,\n",
       " 1.656049329141277,\n",
       " -1.749617700829046,\n",
       " 2.7223011841785176,\n",
       " 0.5754452337670232,\n",
       " 0.5909934941321207,\n",
       " 0.6011596643708377,\n",
       " -0.06801354134238272,\n",
       " 0.3104071955435209,\n",
       " 0.7989813770159975,\n",
       " -1.0074872734026772,\n",
       " -1.2335350587106282,\n",
       " 0.8397656599736751,\n",
       " -0.7587151075611223,\n",
       " 0.7943168989064682,\n",
       " -0.7036981862692403,\n",
       " -0.7036981862692403,\n",
       " 0.792463067862937,\n",
       " -0.4202414396132379,\n",
       " -1.749617700829046,\n",
       " -0.8233001890776801,\n",
       " 0.20946310517319758,\n",
       " -0.7198444566483794,\n",
       " 1.4909985652656297,\n",
       " 0.2608919663808267,\n",
       " 0.020432139734458444,\n",
       " -1.0601121546383907,\n",
       " -0.6869539058760586,\n",
       " 0.213649175271493,\n",
       " -0.9847628928690735,\n",
       " -0.8388484494427771,\n",
       " -0.17146927377168295,\n",
       " -0.4920026412983015,\n",
       " 0.213649175271493,\n",
       " 0.02587403086224252,\n",
       " 0.3870720793437306,\n",
       " 1.656049329141277,\n",
       " -0.7389807770977298,\n",
       " 0.3111248075603716,\n",
       " 0.7422900276847966,\n",
       " 1.5657498170209045,\n",
       " 0.45285318088837256,\n",
       " 0.33982928823439695,\n",
       " -0.7634991876734601,\n",
       " 0.3870720793437306,\n",
       " 0.6198175768089541,\n",
       " 0.046206371339677484,\n",
       " 1.1724386307853505,\n",
       " -0.6881499259041428,\n",
       " -0.5302752821970023,\n",
       " 2.207892970099418,\n",
       " -0.5057568716212724,\n",
       " -0.3137956571137264,\n",
       " 0.45584323095858337,\n",
       " 0.213649175271493,\n",
       " -1.3298146709714225,\n",
       " -0.26774888603247693,\n",
       " 0.11437951294048776,\n",
       " 1.186372264112534,\n",
       " -0.583498173446758,\n",
       " -0.6785817656794678,\n",
       " 1.6543151001005547,\n",
       " -0.5105409517336098,\n",
       " 0.4056103897790389,\n",
       " 0.3870720793437306,\n",
       " 0.3870720793437306,\n",
       " -0.552999662730606,\n",
       " 0.3870720793437306,\n",
       " 0.23637355580509672,\n",
       " -0.9847628928690735,\n",
       " 0.5259300046043289,\n",
       " 0.6581500187090594,\n",
       " 0.3870720793437306,\n",
       " 0.3870720793437306,\n",
       " 0.3870720793437306,\n",
       " -1.3692833318982074,\n",
       " 0.5042820420960016,\n",
       " -0.7981837684879076,\n",
       " 0.213649175271493,\n",
       " -1.749617700829046,\n",
       " 0.32188898781313113,\n",
       " 0.3870720793437306,\n",
       " -0.8663569100887183,\n",
       " -0.4920026412983015,\n",
       " -0.2199080849091012,\n",
       " 1.0708965304009848,\n",
       " -0.7186484366202952,\n",
       " 0.3870720793437306,\n",
       " 0.9791617942469119,\n",
       " -0.9847628928690735,\n",
       " -0.0766248855445903,\n",
       " -1.3017082003114389,\n",
       " -0.3377160576754143,\n",
       " -1.0601121546383907,\n",
       " 1.3026254108423367,\n",
       " -0.4160553695149425,\n",
       " 0.019893930721820444,\n",
       " 0.45584323095858337,\n",
       " -1.749617700829046,\n",
       " -1.749617700829046,\n",
       " -0.4920026412983015,\n",
       " -0.6785817656794678,\n",
       " -1.692806749495037,\n",
       " 0.1406919535583448,\n",
       " -0.00940855996624742,\n",
       " 0.45584323095858337,\n",
       " -1.0044972233324663,\n",
       " 0.06396726875673062,\n",
       " -1.749617700829046,\n",
       " -0.07997374162322687,\n",
       " -0.1050901622129989,\n",
       " 0.019893930721820444,\n",
       " -0.5966543937556863,\n",
       " -0.16728320367338753,\n",
       " -0.7904096383053588,\n",
       " 0.507870102180255,\n",
       " -0.8215061590355534,\n",
       " 1.5455370785462779,\n",
       " 1.7592658575649605,\n",
       " -1.692806749495037,\n",
       " 0.132319813361754,\n",
       " -0.06801354134238272,\n",
       " 0.5042820420960016,\n",
       " 0.3870720793437306,\n",
       " 0.6011596643708377,\n",
       " 1.1764452978794329,\n",
       " 0.5096043312209771,\n",
       " -0.13140260283085595,\n",
       " 0.33654023315716486,\n",
       " 1.1525248973177453,\n",
       " 0.8254732206380667,\n",
       " -0.5374514023655089,\n",
       " -1.0601121546383907,\n",
       " -0.1050901622129989,\n",
       " 0.34042729824843904,\n",
       " -0.9847628928690735,\n",
       " -1.692806749495037,\n",
       " 0.9608626878172204,\n",
       " 1.1615548485297824,\n",
       " 0.39365018949819475,\n",
       " -1.0074872734026772,\n",
       " 1.656049329141277,\n",
       " 0.11557553296857236,\n",
       " -0.05485732103345441,\n",
       " -0.2294762451337766,\n",
       " 0.6077377745253019,\n",
       " -0.1050901622129989,\n",
       " -1.749617700829046,\n",
       " 0.44926512080411923,\n",
       " ...]"
      ]
     },
     "execution_count": 52,
     "metadata": {},
     "output_type": "execute_result"
    }
   ],
   "source": [
    "standardized_rate"
   ]
  },
  {
   "cell_type": "code",
   "execution_count": 53,
   "metadata": {},
   "outputs": [
    {
     "data": {
      "text/html": [
       "<div>\n",
       "<style scoped>\n",
       "    .dataframe tbody tr th:only-of-type {\n",
       "        vertical-align: middle;\n",
       "    }\n",
       "\n",
       "    .dataframe tbody tr th {\n",
       "        vertical-align: top;\n",
       "    }\n",
       "\n",
       "    .dataframe thead th {\n",
       "        text-align: right;\n",
       "    }\n",
       "</style>\n",
       "<table border=\"1\" class=\"dataframe\">\n",
       "  <thead>\n",
       "    <tr style=\"text-align: right;\">\n",
       "      <th></th>\n",
       "      <th>Department</th>\n",
       "      <th>LastName</th>\n",
       "      <th>FirstName</th>\n",
       "      <th>JobTitle</th>\n",
       "      <th>HourlyRate</th>\n",
       "      <th>standardized_rate</th>\n",
       "    </tr>\n",
       "  </thead>\n",
       "  <tbody>\n",
       "    <tr>\n",
       "      <th>0</th>\n",
       "      <td>Seattle Public Utilities</td>\n",
       "      <td>Batchelor</td>\n",
       "      <td>Craig</td>\n",
       "      <td>Civil Engrng Spec,Sr</td>\n",
       "      <td>53.740</td>\n",
       "      <td>0.354182</td>\n",
       "    </tr>\n",
       "    <tr>\n",
       "      <th>1</th>\n",
       "      <td>Finance &amp; Admin Services</td>\n",
       "      <td>Altice</td>\n",
       "      <td>Jeffrey</td>\n",
       "      <td>Auto Mechanic</td>\n",
       "      <td>39.780</td>\n",
       "      <td>-0.480640</td>\n",
       "    </tr>\n",
       "    <tr>\n",
       "      <th>2</th>\n",
       "      <td>Finance &amp; Admin Services</td>\n",
       "      <td>Montes</td>\n",
       "      <td>Valeria</td>\n",
       "      <td>Cust Svc Rep</td>\n",
       "      <td>29.450</td>\n",
       "      <td>-1.098385</td>\n",
       "    </tr>\n",
       "    <tr>\n",
       "      <th>3</th>\n",
       "      <td>Fire Department</td>\n",
       "      <td>Kuklok</td>\n",
       "      <td>Rebecca</td>\n",
       "      <td>Cust Svc Rep *</td>\n",
       "      <td>29.450</td>\n",
       "      <td>-1.098385</td>\n",
       "    </tr>\n",
       "    <tr>\n",
       "      <th>4</th>\n",
       "      <td>Planning &amp; Comm Development</td>\n",
       "      <td>Quirindongo</td>\n",
       "      <td>Rico</td>\n",
       "      <td>Executive3</td>\n",
       "      <td>97.164</td>\n",
       "      <td>2.950980</td>\n",
       "    </tr>\n",
       "  </tbody>\n",
       "</table>\n",
       "</div>"
      ],
      "text/plain": [
       "                    Department     LastName FirstName              JobTitle  \\\n",
       "0     Seattle Public Utilities    Batchelor     Craig  Civil Engrng Spec,Sr   \n",
       "1     Finance & Admin Services       Altice   Jeffrey         Auto Mechanic   \n",
       "2     Finance & Admin Services       Montes   Valeria          Cust Svc Rep   \n",
       "3              Fire Department       Kuklok   Rebecca        Cust Svc Rep *   \n",
       "4  Planning & Comm Development  Quirindongo      Rico            Executive3   \n",
       "\n",
       "   HourlyRate  standardized_rate  \n",
       "0      53.740           0.354182  \n",
       "1      39.780          -0.480640  \n",
       "2      29.450          -1.098385  \n",
       "3      29.450          -1.098385  \n",
       "4      97.164           2.950980  "
      ]
     },
     "execution_count": 53,
     "metadata": {},
     "output_type": "execute_result"
    }
   ],
   "source": [
    "df['standardized_rate'] = standardized_rate\n",
    "\n",
    "df.head()"
   ]
  },
  {
   "cell_type": "code",
   "execution_count": 55,
   "metadata": {},
   "outputs": [
    {
     "data": {
      "image/png": "[encoded data removed]",
      "text/plain": [
       "<Figure size 432x288 with 2 Axes>"
      ]
     },
     "metadata": {
      "needs_background": "light"
     },
     "output_type": "display_data"
    }
   ],
   "source": [
    "# Visualize it\n",
    "fig, (ax1, ax2) = plt.subplots(nrows=2, ncols=1, sharex=False)\n",
    "# Can toggle sharex to see the impact of the scale\n",
    "\n",
    "sns.kdeplot(df['HourlyRate'], ax=ax1, label='Without Scaling')\n",
    "ax1.legend()\n",
    "\n",
    "sns.kdeplot(standardized_rate, ax=ax2, label='With Scaling')\n",
    "ax2.legend()\n",
    "\n",
    "plt.show()"
   ]
  },
  {
   "cell_type": "markdown",
   "metadata": {},
   "source": [
    "Let's discuss:\n",
    "\n",
    "- \n"
   ]
  },
  {
   "cell_type": "markdown",
   "metadata": {},
   "source": [
    "## Central Limit Theorem (CLT)\n",
    "\n",
    "We mentioned that the distribution above doesn't seem very normal. But here's something cool:\n",
    "\n",
    "> \"The central limit theorem states that the sampling distribution of the mean of any independent, random variable will be normal or nearly normal, if the sample size is large enough.\" \n",
    "- From [Stat Trek](https://stattrek.com/statistics/dictionary.aspx?definition=central_limit_theorem)"
   ]
  },
  {
   "cell_type": "markdown",
   "metadata": {},
   "source": [
    "Let's look at an example, using the popular Iris dataset:\n",
    "\n",
    "<img src=\"images/probability-basics.gif\" width=800>\n",
    "\n",
    "Here, taking samples of 15 flowers at a time and measuring their sepal lengths, we see that the the mean of the samples is normally distributed, where the mean of that normal distribution approximates the population mean. \n",
    "\n",
    "The coolest part is - this is true and works almost no matter what the original distribution is! (I say 'almost' because there are exceptions, of course). \n"
   ]
  },
  {
   "cell_type": "markdown",
   "metadata": {},
   "source": [
    "## Revisiting Sampling\n",
    "\n",
    "Before we apply a theorem that's related to sampling, we should remember some key things about sampling.\n",
    "\n",
    "<img src=\"images/sample_pop.png\" alt=\"sampling example with circled people\" width=800>\n",
    "\n",
    "Our goal when sampling is to find a representative group, from which we can infer population parameters.\n",
    "\n",
    "Remember: samples have statistics, populations have parameters.\n",
    "\n",
    "In order to do this effectively, our sample should be randomly selected and representative of our population (which sounds nice and easy, it's hard to do in practice). We are trying to minimize bias in our sample, but also we are sampling because we're trying to minimize cost as well."
   ]
  },
  {
   "cell_type": "markdown",
   "metadata": {},
   "source": [
    "### Back to our Seattle Data"
   ]
  },
  {
   "cell_type": "markdown",
   "metadata": {},
   "source": [
    "Let's take 100 samples of 50 employees each time, and see what their average hourly rate is:"
   ]
  },
  {
   "cell_type": "code",
   "execution_count": 56,
   "metadata": {},
   "outputs": [],
   "source": [
    "k = 100 # number of samples\n",
    "n = 50 # number of employees per sample\n",
    "\n",
    "# Calculate our 100 samples\n",
    "sample_means = [np.mean(df.sample(n))[0] for sample in range(k)]"
   ]
  },
  {
   "cell_type": "code",
   "execution_count": 58,
   "metadata": {
    "scrolled": true
   },
   "outputs": [
    {
     "data": {
      "text/plain": [
       "[46.80674,\n",
       " 46.9938,\n",
       " 43.844480000000004,\n",
       " 52.508372,\n",
       " 46.779300000000006,\n",
       " 48.349480000000014,\n",
       " 46.130472,\n",
       " 49.86398,\n",
       " 47.835132,\n",
       " 50.92965999999999,\n",
       " 46.760304,\n",
       " 43.614095999999996,\n",
       " 48.637492,\n",
       " 45.18894,\n",
       " 46.53778000000001,\n",
       " 49.74878,\n",
       " 48.61504,\n",
       " 41.8419,\n",
       " 48.997862,\n",
       " 46.10137999999999,\n",
       " 48.65618799999999,\n",
       " 46.76238,\n",
       " 48.41052799999999,\n",
       " 45.852819999999994,\n",
       " 46.42784,\n",
       " 48.34440000000001,\n",
       " 44.59611999999999,\n",
       " 47.571518000000005,\n",
       " 45.05820000000001,\n",
       " 48.14280600000001,\n",
       " 46.34702600000001,\n",
       " 48.576361999999996,\n",
       " 46.73762000000001,\n",
       " 46.40961200000001,\n",
       " 47.734300000000005,\n",
       " 49.98385999999999,\n",
       " 44.234930000000006,\n",
       " 50.36390399999999,\n",
       " 47.063312,\n",
       " 47.68644000000001,\n",
       " 44.748706,\n",
       " 45.89584,\n",
       " 44.48566400000001,\n",
       " 46.10264000000001,\n",
       " 46.2859,\n",
       " 48.012752000000006,\n",
       " 45.272748,\n",
       " 45.609331999999995,\n",
       " 45.69618,\n",
       " 46.029754000000004,\n",
       " 46.788560000000004,\n",
       " 52.105702,\n",
       " 48.0029,\n",
       " 44.521280000000004,\n",
       " 49.562020000000004,\n",
       " 45.36706800000001,\n",
       " 46.56381999999999,\n",
       " 49.90813399999999,\n",
       " 51.314799999999984,\n",
       " 47.16556,\n",
       " 46.054179999999995,\n",
       " 47.324554,\n",
       " 49.694546,\n",
       " 44.669766,\n",
       " 48.54862,\n",
       " 44.68936000000001,\n",
       " 47.742619999999995,\n",
       " 45.662932,\n",
       " 45.693740000000005,\n",
       " 46.844768,\n",
       " 46.7884,\n",
       " 50.91173599999999,\n",
       " 48.923779999999994,\n",
       " 51.32356,\n",
       " 47.08195799999999,\n",
       " 46.633680000000005,\n",
       " 48.862779999999994,\n",
       " 49.250016,\n",
       " 52.816986000000014,\n",
       " 47.90005799999999,\n",
       " 42.980406,\n",
       " 50.49173999999999,\n",
       " 45.79649000000001,\n",
       " 46.6742,\n",
       " 47.12619599999999,\n",
       " 51.70534,\n",
       " 44.468224,\n",
       " 47.574674,\n",
       " 48.82476,\n",
       " 48.874988,\n",
       " 50.40978,\n",
       " 49.271480000000004,\n",
       " 46.09700000000001,\n",
       " 48.809322,\n",
       " 49.306774000000004,\n",
       " 48.871818000000005,\n",
       " 47.532605999999994,\n",
       " 50.88461000000001,\n",
       " 49.628322,\n",
       " 47.38398000000001]"
      ]
     },
     "execution_count": 58,
     "metadata": {},
     "output_type": "execute_result"
    }
   ],
   "source": [
    "sample_means"
   ]
  },
  {
   "cell_type": "code",
   "execution_count": 59,
   "metadata": {
    "scrolled": false
   },
   "outputs": [
    {
     "data": {
      "image/png": "[encoded data removed]",
      "text/plain": [
       "<Figure size 576x432 with 1 Axes>"
      ]
     },
     "metadata": {
      "needs_background": "light"
     },
     "output_type": "display_data"
    }
   ],
   "source": [
    "# Plotting the distribution of our samples, plus our pop and sample means\n",
    "pop_mean = df['HourlyRate'].mean()\n",
    "samp_mean = np.mean(sample_means)\n",
    "\n",
    "plt.figure(figsize=(8,6))\n",
    "\n",
    "sns.histplot(sample_means)\n",
    "\n",
    "plt.vlines(pop_mean, ymin=0, ymax=25, color='r', linestyle=':',\n",
    "           label=f'Population Mean: {pop_mean:.2f}')\n",
    "plt.vlines(samp_mean, ymin=0, ymax=25, color='g', linestyle=':',\n",
    "           label=f'Mean of {k} Samples: {samp_mean:.2f}')\n",
    "\n",
    "plt.legend();"
   ]
  },
  {
   "cell_type": "markdown",
   "metadata": {},
   "source": [
    "Discuss:\n",
    "\n",
    "- \n"
   ]
  },
  {
   "cell_type": "markdown",
   "metadata": {
    "heading_collapsed": true
   },
   "source": [
    "-----\n",
    "\n",
    "\n",
    "# Level Up: Other Distributions"
   ]
  },
  {
   "cell_type": "markdown",
   "metadata": {
    "hidden": true
   },
   "source": [
    "The world is full of distributions to explore! See some other less-common ones below:"
   ]
  },
  {
   "cell_type": "markdown",
   "metadata": {
    "hidden": true
   },
   "source": [
    "![](images/distributions.png)"
   ]
  },
  {
   "cell_type": "markdown",
   "metadata": {
    "hidden": true
   },
   "source": [
    "Now that we know a few methods in visualizing distributions 📊👀, we can start looking at different types of distributions.\n",
    "\n",
    "We can tell a lot about a distribution shape such as taking a guess of the mechanism that it took to generate the data."
   ]
  },
  {
   "cell_type": "markdown",
   "metadata": {
    "heading_collapsed": true,
    "hidden": true
   },
   "source": [
    "## Distribution Types Exercise"
   ]
  },
  {
   "cell_type": "markdown",
   "metadata": {
    "hidden": true
   },
   "source": [
    "What type of distribution would you expect to best describe the following datasets?\n",
    "\n",
    "1. Survey responses about whether people voted\n",
    "2. Rolls on a six-sided die\n",
    "3. Numbers of defects in shipments of toys\n",
    "4. Output from a random number generator\n",
    "5. Measurements of palm tree heights"
   ]
  },
  {
   "cell_type": "markdown",
   "metadata": {
    "hidden": true
   },
   "source": [
    "**Your answers**\n",
    "\n",
    "1. \n",
    "2. \n",
    "3. \n",
    "4. \n",
    "5. "
   ]
  },
  {
   "cell_type": "markdown",
   "metadata": {},
   "source": [
    "## Level Up: SKLearn's Standard Scaler\n",
    "\n",
    "Soon we'll be using a pre-built function to scale our data: https://scikit-learn.org/stable/modules/generated/sklearn.preprocessing.StandardScaler.html\n",
    "\n",
    "Let's go ahead and peek at our first `sklearn` class!"
   ]
  },
  {
   "cell_type": "code",
   "execution_count": 60,
   "metadata": {},
   "outputs": [],
   "source": [
    "# Importing StandardScaler from the preprocessing module\n",
    "from sklearn.preprocessing import StandardScaler\n",
    "\n",
    "# Need to instantiate our scaler\n",
    "scaler = StandardScaler()\n",
    "\n",
    "# Fitting our scaler (note how we need to make the column into a dataframe)\n",
    "scaler.fit(df[['HourlyRate']])\n",
    "\n",
    "# Grabbing the transformed values out as scaled_rate\n",
    "scaled_rate = scaler.transform(df[['HourlyRate']])"
   ]
  },
  {
   "cell_type": "code",
   "execution_count": 61,
   "metadata": {
    "scrolled": false
   },
   "outputs": [
    {
     "data": {
      "image/png": "[encoded data removed]",
      "text/plain": [
       "<Figure size 720x432 with 3 Axes>"
      ]
     },
     "metadata": {
      "needs_background": "light"
     },
     "output_type": "display_data"
    }
   ],
   "source": [
    "# Plot and compare results\n",
    "fig, (ax1, ax2, ax3) = plt.subplots(nrows=3, ncols=1, figsize=(10,6))\n",
    "\n",
    "sns.kdeplot(df['HourlyRate'], ax=ax1, label='Without Scaling')\n",
    "ax1.legend()\n",
    "\n",
    "sns.kdeplot(standardized_rate, ax=ax2, label='Manual Scaling')\n",
    "ax2.legend()\n",
    "\n",
    "sns.kdeplot(scaled_rate[:,0], ax=ax3, label='SKLearn Standard Scaling')\n",
    "ax3.legend()\n",
    "\n",
    "plt.show()"
   ]
  },
  {
   "cell_type": "code",
   "execution_count": null,
   "metadata": {},
   "outputs": [],
   "source": []
  }
 ],
 "metadata": {
  "kernelspec": {
   "display_name": "Python 3",
   "language": "python",
   "name": "python3"
  },
  "language_info": {
   "codemirror_mode": {
    "name": "ipython",
    "version": 3
   },
   "file_extension": ".py",
   "mimetype": "text/x-python",
   "name": "python",
   "nbconvert_exporter": "python",
   "pygments_lexer": "ipython3",
   "version": "3.8.5"
  },
  "toc": {
   "base_numbering": 1,
   "nav_menu": {},
   "number_sections": true,
   "sideBar": true,
   "skip_h1_title": false,
   "title_cell": "Table of Contents",
   "title_sidebar": "TOC",
   "toc_cell": true,
   "toc_position": {
    "height": "calc(100% - 180px)",
    "left": "10px",
    "top": "150px",
    "width": "380.25px"
   },
   "toc_section_display": true,
   "toc_window_display": true
  }
 },
 "nbformat": 4,
 "nbformat_minor": 4
}
